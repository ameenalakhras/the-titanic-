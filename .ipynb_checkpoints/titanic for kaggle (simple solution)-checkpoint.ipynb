{
 "cells": [
  {
   "cell_type": "markdown",
   "metadata": {},
   "source": [
    "# the simplest and  easiest way to solve the titanic problem as a beginner in the data science (with a great accuracy)"
   ]
  },
  {
   "cell_type": "markdown",
   "metadata": {},
   "source": [
    "### importing the important packages for processing "
   ]
  },
  {
   "cell_type": "code",
   "execution_count": 1,
   "metadata": {
    "collapsed": true
   },
   "outputs": [],
   "source": [
    "import pandas as pd # pandas reads and manipulates the data  \n",
    "import numpy as np  # numpy is basically a package for calculation "
   ]
  },
  {
   "cell_type": "markdown",
   "metadata": {},
   "source": [
    "### reading the training and the testing  from their location "
   ]
  },
  {
   "cell_type": "code",
   "execution_count": 2,
   "metadata": {
    "collapsed": true
   },
   "outputs": [],
   "source": [
    "train = pd.read_csv('train.csv')\n",
    "test =pd.read_csv('test.csv')"
   ]
  },
  {
   "cell_type": "markdown",
   "metadata": {},
   "source": [
    "### to see the first 2 lines of the data "
   ]
  },
  {
   "cell_type": "code",
   "execution_count": 3,
   "metadata": {},
   "outputs": [
    {
     "data": {
      "text/html": [
       "<div>\n",
       "<style>\n",
       "    .dataframe thead tr:only-child th {\n",
       "        text-align: right;\n",
       "    }\n",
       "\n",
       "    .dataframe thead th {\n",
       "        text-align: left;\n",
       "    }\n",
       "\n",
       "    .dataframe tbody tr th {\n",
       "        vertical-align: top;\n",
       "    }\n",
       "</style>\n",
       "<table border=\"1\" class=\"dataframe\">\n",
       "  <thead>\n",
       "    <tr style=\"text-align: right;\">\n",
       "      <th></th>\n",
       "      <th>PassengerId</th>\n",
       "      <th>Survived</th>\n",
       "      <th>Pclass</th>\n",
       "      <th>Name</th>\n",
       "      <th>Sex</th>\n",
       "      <th>Age</th>\n",
       "      <th>SibSp</th>\n",
       "      <th>Parch</th>\n",
       "      <th>Ticket</th>\n",
       "      <th>Fare</th>\n",
       "      <th>Cabin</th>\n",
       "      <th>Embarked</th>\n",
       "    </tr>\n",
       "  </thead>\n",
       "  <tbody>\n",
       "    <tr>\n",
       "      <th>0</th>\n",
       "      <td>1</td>\n",
       "      <td>0</td>\n",
       "      <td>3</td>\n",
       "      <td>Braund, Mr. Owen Harris</td>\n",
       "      <td>male</td>\n",
       "      <td>22.0</td>\n",
       "      <td>1</td>\n",
       "      <td>0</td>\n",
       "      <td>A/5 21171</td>\n",
       "      <td>7.2500</td>\n",
       "      <td>NaN</td>\n",
       "      <td>S</td>\n",
       "    </tr>\n",
       "    <tr>\n",
       "      <th>1</th>\n",
       "      <td>2</td>\n",
       "      <td>1</td>\n",
       "      <td>1</td>\n",
       "      <td>Cumings, Mrs. John Bradley (Florence Briggs Th...</td>\n",
       "      <td>female</td>\n",
       "      <td>38.0</td>\n",
       "      <td>1</td>\n",
       "      <td>0</td>\n",
       "      <td>PC 17599</td>\n",
       "      <td>71.2833</td>\n",
       "      <td>C85</td>\n",
       "      <td>C</td>\n",
       "    </tr>\n",
       "  </tbody>\n",
       "</table>\n",
       "</div>"
      ],
      "text/plain": [
       "   PassengerId  Survived  Pclass  \\\n",
       "0            1         0       3   \n",
       "1            2         1       1   \n",
       "\n",
       "                                                Name     Sex   Age  SibSp  \\\n",
       "0                            Braund, Mr. Owen Harris    male  22.0      1   \n",
       "1  Cumings, Mrs. John Bradley (Florence Briggs Th...  female  38.0      1   \n",
       "\n",
       "   Parch     Ticket     Fare Cabin Embarked  \n",
       "0      0  A/5 21171   7.2500   NaN        S  \n",
       "1      0   PC 17599  71.2833   C85        C  "
      ]
     },
     "execution_count": 3,
     "metadata": {},
     "output_type": "execute_result"
    }
   ],
   "source": [
    "train.head(2)"
   ]
  },
  {
   "cell_type": "markdown",
   "metadata": {},
   "source": [
    "### get the count of  the null values (nan values = not a number) click [here](https://en.wikipedia.org/wiki/NaN) for more"
   ]
  },
  {
   "cell_type": "code",
   "execution_count": 4,
   "metadata": {},
   "outputs": [
    {
     "data": {
      "text/plain": [
       "PassengerId      0\n",
       "Survived         0\n",
       "Pclass           0\n",
       "Name             0\n",
       "Sex              0\n",
       "Age            177\n",
       "SibSp            0\n",
       "Parch            0\n",
       "Ticket           0\n",
       "Fare             0\n",
       "Cabin          687\n",
       "Embarked         2\n",
       "dtype: int64"
      ]
     },
     "execution_count": 4,
     "metadata": {},
     "output_type": "execute_result"
    }
   ],
   "source": [
    "train.isnull().sum()"
   ]
  },
  {
   "cell_type": "markdown",
   "metadata": {},
   "source": [
    "## our goal now is to  : \n",
    "- fill tha nan values \n",
    "- encode the values to numbers \n",
    "### encoding : (eg. from embarked (S) to (1) ) \n",
    "- we use encoding because the models work with calculations and the data have to be numbers for the models to process"
   ]
  },
  {
   "cell_type": "markdown",
   "metadata": {},
   "source": [
    " ### As a start we delete the passenger id since it gives no indication on the data whatsoever \n",
    " ### and we delete the Embarked since logically the departure area doesn't affect the probabilty of survival from the crash"
   ]
  },
  {
   "cell_type": "code",
   "execution_count": 5,
   "metadata": {
    "collapsed": true
   },
   "outputs": [],
   "source": [
    "del train['PassengerId']\n",
    "del train['Embarked'] \n",
    "# Embarked means where did people get to the chip from (and that has no indication on the data in a logical manner so we delete it )"
   ]
  },
  {
   "cell_type": "markdown",
   "metadata": {},
   "source": [
    "### now we map the Sex to numbers (encoding)\n",
    "- mapping is basically changing the values to numbers (e.g from (male) to 1 )"
   ]
  },
  {
   "cell_type": "code",
   "execution_count": 6,
   "metadata": {
    "collapsed": true
   },
   "outputs": [],
   "source": [
    "# map Sex\n",
    "train.Sex=train.Sex.map({'male':1,'female':2})\n",
    "# use the name to get (mr.,ms. ... etc)"
   ]
  },
  {
   "cell_type": "code",
   "execution_count": 7,
   "metadata": {},
   "outputs": [
    {
     "data": {
      "text/html": [
       "<div>\n",
       "<style>\n",
       "    .dataframe thead tr:only-child th {\n",
       "        text-align: right;\n",
       "    }\n",
       "\n",
       "    .dataframe thead th {\n",
       "        text-align: left;\n",
       "    }\n",
       "\n",
       "    .dataframe tbody tr th {\n",
       "        vertical-align: top;\n",
       "    }\n",
       "</style>\n",
       "<table border=\"1\" class=\"dataframe\">\n",
       "  <thead>\n",
       "    <tr style=\"text-align: right;\">\n",
       "      <th></th>\n",
       "      <th>Survived</th>\n",
       "      <th>Pclass</th>\n",
       "      <th>Name</th>\n",
       "      <th>Sex</th>\n",
       "      <th>Age</th>\n",
       "      <th>SibSp</th>\n",
       "      <th>Parch</th>\n",
       "      <th>Ticket</th>\n",
       "      <th>Fare</th>\n",
       "      <th>Cabin</th>\n",
       "    </tr>\n",
       "  </thead>\n",
       "  <tbody>\n",
       "    <tr>\n",
       "      <th>0</th>\n",
       "      <td>0</td>\n",
       "      <td>3</td>\n",
       "      <td>Braund, Mr. Owen Harris</td>\n",
       "      <td>1</td>\n",
       "      <td>22.0</td>\n",
       "      <td>1</td>\n",
       "      <td>0</td>\n",
       "      <td>A/5 21171</td>\n",
       "      <td>7.2500</td>\n",
       "      <td>NaN</td>\n",
       "    </tr>\n",
       "    <tr>\n",
       "      <th>1</th>\n",
       "      <td>1</td>\n",
       "      <td>1</td>\n",
       "      <td>Cumings, Mrs. John Bradley (Florence Briggs Th...</td>\n",
       "      <td>2</td>\n",
       "      <td>38.0</td>\n",
       "      <td>1</td>\n",
       "      <td>0</td>\n",
       "      <td>PC 17599</td>\n",
       "      <td>71.2833</td>\n",
       "      <td>C85</td>\n",
       "    </tr>\n",
       "  </tbody>\n",
       "</table>\n",
       "</div>"
      ],
      "text/plain": [
       "   Survived  Pclass                                               Name  Sex  \\\n",
       "0         0       3                            Braund, Mr. Owen Harris    1   \n",
       "1         1       1  Cumings, Mrs. John Bradley (Florence Briggs Th...    2   \n",
       "\n",
       "    Age  SibSp  Parch     Ticket     Fare Cabin  \n",
       "0  22.0      1      0  A/5 21171   7.2500   NaN  \n",
       "1  38.0      1      0   PC 17599  71.2833   C85  "
      ]
     },
     "execution_count": 7,
     "metadata": {},
     "output_type": "execute_result"
    }
   ],
   "source": [
    "train.head(2)"
   ]
  },
  {
   "cell_type": "markdown",
   "metadata": {},
   "source": [
    "### we notice on the passenger Name there is Mr. and Mrs. so it gives indication that we can use instead of the name for the models (since the models doesn't accept strings as we mentioned )\n",
    "- we use regex : it's a way to search strings by patterns (e.g in the data Mr is between ((, then space) and (,)) so we wrote the pattern for it and it got us the symbols (Mr,Ms,etc..) \n",
    "### we get the answer and save it on a new column "
   ]
  },
  {
   "cell_type": "code",
   "execution_count": 8,
   "metadata": {
    "collapsed": true
   },
   "outputs": [],
   "source": [
    "import re \n",
    "\n",
    "def search_pattern(index):\n",
    "    return re.search(',.*[/.\\b]',train.Name[index])[0][2:-1]\n",
    "\n",
    "train['Social_name']=[search_pattern(counter) for counter in range(train.shape[0]) ]\n"
   ]
  },
  {
   "cell_type": "code",
   "execution_count": 9,
   "metadata": {},
   "outputs": [
    {
     "data": {
      "text/plain": [
       "array(['Mr', 'Mrs', 'Miss', 'Master', 'Don', 'Rev', 'Dr', 'Mme',\n",
       "       'Mr. Carl', 'Ms', 'Major', 'Mrs. Martin (Elizabeth L', 'Lady',\n",
       "       'Sir', 'Mlle', 'Col', 'Capt', 'the Countess', 'Jonkheer'],\n",
       "      dtype=object)"
      ]
     },
     "execution_count": 9,
     "metadata": {},
     "output_type": "execute_result"
    }
   ],
   "source": [
    "train.Social_name.unique() # see the unique values from the Social_name column "
   ]
  },
  {
   "cell_type": "markdown",
   "metadata": {},
   "source": [
    "### as we can see there is some names that the pattern couldn't catch so we do the miss-spelled words manually "
   ]
  },
  {
   "cell_type": "code",
   "execution_count": 10,
   "metadata": {
    "collapsed": true
   },
   "outputs": [],
   "source": [
    "# cleaning the things that the regex couldn't get\n",
    "train.Social_name.replace({\"\"\"Mrs. Martin (Elizabeth L\"\"\":'Mrs',\n",
    "                       'Mme':'Miss',\n",
    "                       'Ms':'Miss',\n",
    "                       'the Countess':'Countess',\n",
    "                        'Mr. Carl':'Mr',\n",
    "                        'Mlle':'Miss'},inplace=True)"
   ]
  },
  {
   "cell_type": "code",
   "execution_count": 11,
   "metadata": {},
   "outputs": [
    {
     "data": {
      "text/plain": [
       "array(['Mr', 'Mrs', 'Miss', 'Master', 'Don', 'Rev', 'Dr', 'Major', 'Lady',\n",
       "       'Sir', 'Col', 'Capt', 'Countess', 'Jonkheer'], dtype=object)"
      ]
     },
     "execution_count": 11,
     "metadata": {},
     "output_type": "execute_result"
    }
   ],
   "source": [
    "train.Social_name.unique()"
   ]
  },
  {
   "cell_type": "code",
   "execution_count": 12,
   "metadata": {},
   "outputs": [
    {
     "data": {
      "text/html": [
       "<div>\n",
       "<style>\n",
       "    .dataframe thead tr:only-child th {\n",
       "        text-align: right;\n",
       "    }\n",
       "\n",
       "    .dataframe thead th {\n",
       "        text-align: left;\n",
       "    }\n",
       "\n",
       "    .dataframe tbody tr th {\n",
       "        vertical-align: top;\n",
       "    }\n",
       "</style>\n",
       "<table border=\"1\" class=\"dataframe\">\n",
       "  <thead>\n",
       "    <tr style=\"text-align: right;\">\n",
       "      <th></th>\n",
       "      <th>Survived</th>\n",
       "      <th>Pclass</th>\n",
       "      <th>Name</th>\n",
       "      <th>Sex</th>\n",
       "      <th>Age</th>\n",
       "      <th>SibSp</th>\n",
       "      <th>Parch</th>\n",
       "      <th>Ticket</th>\n",
       "      <th>Fare</th>\n",
       "      <th>Cabin</th>\n",
       "      <th>Social_name</th>\n",
       "    </tr>\n",
       "  </thead>\n",
       "  <tbody>\n",
       "    <tr>\n",
       "      <th>0</th>\n",
       "      <td>0</td>\n",
       "      <td>3</td>\n",
       "      <td>Braund, Mr. Owen Harris</td>\n",
       "      <td>1</td>\n",
       "      <td>22.0</td>\n",
       "      <td>1</td>\n",
       "      <td>0</td>\n",
       "      <td>A/5 21171</td>\n",
       "      <td>7.2500</td>\n",
       "      <td>NaN</td>\n",
       "      <td>Mr</td>\n",
       "    </tr>\n",
       "    <tr>\n",
       "      <th>1</th>\n",
       "      <td>1</td>\n",
       "      <td>1</td>\n",
       "      <td>Cumings, Mrs. John Bradley (Florence Briggs Th...</td>\n",
       "      <td>2</td>\n",
       "      <td>38.0</td>\n",
       "      <td>1</td>\n",
       "      <td>0</td>\n",
       "      <td>PC 17599</td>\n",
       "      <td>71.2833</td>\n",
       "      <td>C85</td>\n",
       "      <td>Mrs</td>\n",
       "    </tr>\n",
       "  </tbody>\n",
       "</table>\n",
       "</div>"
      ],
      "text/plain": [
       "   Survived  Pclass                                               Name  Sex  \\\n",
       "0         0       3                            Braund, Mr. Owen Harris    1   \n",
       "1         1       1  Cumings, Mrs. John Bradley (Florence Briggs Th...    2   \n",
       "\n",
       "    Age  SibSp  Parch     Ticket     Fare Cabin Social_name  \n",
       "0  22.0      1      0  A/5 21171   7.2500   NaN          Mr  \n",
       "1  38.0      1      0   PC 17599  71.2833   C85         Mrs  "
      ]
     },
     "execution_count": 12,
     "metadata": {},
     "output_type": "execute_result"
    }
   ],
   "source": [
    "train.head(2)"
   ]
  },
  {
   "cell_type": "markdown",
   "metadata": {},
   "source": [
    "### Now we have a new great column ! \n",
    "### but as always we have to encode it since we did everything for it \n",
    "- after that we delete the passenger Name since we don't need it anymore"
   ]
  },
  {
   "cell_type": "code",
   "execution_count": 13,
   "metadata": {},
   "outputs": [
    {
     "data": {
      "text/plain": [
       "array(['Mr', 'Mrs', 'Miss', 'Master', 'Don', 'Rev', 'Dr', 'Major', 'Lady',\n",
       "       'Sir', 'Col', 'Capt', 'Countess', 'Jonkheer'], dtype=object)"
      ]
     },
     "execution_count": 13,
     "metadata": {},
     "output_type": "execute_result"
    }
   ],
   "source": [
    "train.Social_name.unique()"
   ]
  },
  {
   "cell_type": "code",
   "execution_count": 14,
   "metadata": {
    "collapsed": true
   },
   "outputs": [],
   "source": [
    "# encoding the values into numbers\n",
    "for index in range(len(train.Social_name.unique())):\n",
    "    \n",
    "    a=train.Social_name.unique()[index] # the string (e.g. (Mr.))\n",
    "    train.Social_name.replace({a:index},inplace=True)\n",
    "\n",
    "# delete the name because we don't need it anymore \n",
    "del train['Name']\n"
   ]
  },
  {
   "cell_type": "code",
   "execution_count": 15,
   "metadata": {
    "scrolled": true
   },
   "outputs": [
    {
     "data": {
      "text/html": [
       "<div>\n",
       "<style>\n",
       "    .dataframe thead tr:only-child th {\n",
       "        text-align: right;\n",
       "    }\n",
       "\n",
       "    .dataframe thead th {\n",
       "        text-align: left;\n",
       "    }\n",
       "\n",
       "    .dataframe tbody tr th {\n",
       "        vertical-align: top;\n",
       "    }\n",
       "</style>\n",
       "<table border=\"1\" class=\"dataframe\">\n",
       "  <thead>\n",
       "    <tr style=\"text-align: right;\">\n",
       "      <th></th>\n",
       "      <th>Survived</th>\n",
       "      <th>Pclass</th>\n",
       "      <th>Sex</th>\n",
       "      <th>Age</th>\n",
       "      <th>SibSp</th>\n",
       "      <th>Parch</th>\n",
       "      <th>Ticket</th>\n",
       "      <th>Fare</th>\n",
       "      <th>Cabin</th>\n",
       "      <th>Social_name</th>\n",
       "    </tr>\n",
       "  </thead>\n",
       "  <tbody>\n",
       "    <tr>\n",
       "      <th>0</th>\n",
       "      <td>0</td>\n",
       "      <td>3</td>\n",
       "      <td>1</td>\n",
       "      <td>22.0</td>\n",
       "      <td>1</td>\n",
       "      <td>0</td>\n",
       "      <td>A/5 21171</td>\n",
       "      <td>7.2500</td>\n",
       "      <td>NaN</td>\n",
       "      <td>0</td>\n",
       "    </tr>\n",
       "    <tr>\n",
       "      <th>1</th>\n",
       "      <td>1</td>\n",
       "      <td>1</td>\n",
       "      <td>2</td>\n",
       "      <td>38.0</td>\n",
       "      <td>1</td>\n",
       "      <td>0</td>\n",
       "      <td>PC 17599</td>\n",
       "      <td>71.2833</td>\n",
       "      <td>C85</td>\n",
       "      <td>1</td>\n",
       "    </tr>\n",
       "  </tbody>\n",
       "</table>\n",
       "</div>"
      ],
      "text/plain": [
       "   Survived  Pclass  Sex   Age  SibSp  Parch     Ticket     Fare Cabin  \\\n",
       "0         0       3    1  22.0      1      0  A/5 21171   7.2500   NaN   \n",
       "1         1       1    2  38.0      1      0   PC 17599  71.2833   C85   \n",
       "\n",
       "   Social_name  \n",
       "0            0  \n",
       "1            1  "
      ]
     },
     "execution_count": 15,
     "metadata": {},
     "output_type": "execute_result"
    }
   ],
   "source": [
    "train.head(2)"
   ]
  },
  {
   "cell_type": "markdown",
   "metadata": {},
   "source": [
    "## pretty cool huh  ? \n",
    "### now we head to fill the age nan values (we will do it using the Sex, Pclass and Social_name) \n",
    "\n"
   ]
  },
  {
   "cell_type": "code",
   "execution_count": 16,
   "metadata": {},
   "outputs": [
    {
     "data": {
      "text/plain": [
       "Pclass  Sex  Social_name\n",
       "1       1    0              40.0\n",
       "             3               4.0\n",
       "             4              40.0\n",
       "             6              44.0\n",
       "             7              48.5\n",
       "             9              49.0\n",
       "             10             58.0\n",
       "             11             70.0\n",
       "             13             38.0\n",
       "        2    1              41.5\n",
       "             2              29.5\n",
       "             6              49.0\n",
       "             8              48.0\n",
       "             12             33.0\n",
       "2       1    0              31.0\n",
       "             3               1.0\n",
       "             5              46.5\n",
       "             6              38.5\n",
       "        2    1              32.0\n",
       "             2              24.0\n",
       "3       1    0              26.0\n",
       "             3               4.0\n",
       "        2    1              31.0\n",
       "             2              18.0\n",
       "Name: Age, dtype: float64"
      ]
     },
     "execution_count": 16,
     "metadata": {},
     "output_type": "execute_result"
    }
   ],
   "source": [
    "train.Age.groupby([train.Pclass,train.Sex,train.Social_name]).median() \n",
    "# this is why we use the 3 of them to get the best median ever to fill the nans with "
   ]
  },
  {
   "cell_type": "code",
   "execution_count": 17,
   "metadata": {
    "collapsed": true
   },
   "outputs": [],
   "source": [
    "# fill na age values given (Pclass , Sex , Social_name)\n",
    "grouped=train.Age.groupby([train.Pclass,train.Sex,train.Social_name]).median()\n",
    "\n",
    "pclass=grouped.index.labels[0] \n",
    "\n",
    "sex=grouped.index.labels[1] \n",
    "\n",
    "social_name=grouped.index.labels[2]\n",
    "\n",
    "\n"
   ]
  },
  {
   "cell_type": "code",
   "execution_count": 18,
   "metadata": {
    "collapsed": true
   },
   "outputs": [],
   "source": [
    "for counter in range(len(grouped.index.labels[1])):\n",
    "    # HERE\n",
    "    train.loc[((train.Pclass==train.Pclass.unique()[pclass[counter]]) &\n",
    "              (train.Sex==train.Sex.unique()[sex[counter]]) &\n",
    "              (train.Social_name==train.Social_name.unique()[social_name[counter]])),\n",
    "              'Age']=\\\n",
    "    train.loc[((train.Pclass==train.Pclass.unique()[pclass[counter]]) &\n",
    "              (train.Sex==train.Sex.unique()[sex[counter]]) &\n",
    "              (train.Social_name==train.Social_name.unique()[social_name[counter]])),\n",
    "              'Age'].fillna(value=grouped.values[counter])\n",
    "    # THERE\n",
    "\n",
    "# from HERE to THERE is the same as putting inplace=True on the fillna but it seems that inplace doesn't work for no specific reason . . . \n",
    " # "
   ]
  },
  {
   "cell_type": "code",
   "execution_count": 19,
   "metadata": {},
   "outputs": [
    {
     "data": {
      "text/html": [
       "<div>\n",
       "<style>\n",
       "    .dataframe thead tr:only-child th {\n",
       "        text-align: right;\n",
       "    }\n",
       "\n",
       "    .dataframe thead th {\n",
       "        text-align: left;\n",
       "    }\n",
       "\n",
       "    .dataframe tbody tr th {\n",
       "        vertical-align: top;\n",
       "    }\n",
       "</style>\n",
       "<table border=\"1\" class=\"dataframe\">\n",
       "  <thead>\n",
       "    <tr style=\"text-align: right;\">\n",
       "      <th></th>\n",
       "      <th>Survived</th>\n",
       "      <th>Pclass</th>\n",
       "      <th>Sex</th>\n",
       "      <th>Age</th>\n",
       "      <th>SibSp</th>\n",
       "      <th>Parch</th>\n",
       "      <th>Ticket</th>\n",
       "      <th>Fare</th>\n",
       "      <th>Cabin</th>\n",
       "      <th>Social_name</th>\n",
       "    </tr>\n",
       "  </thead>\n",
       "  <tbody>\n",
       "    <tr>\n",
       "      <th>0</th>\n",
       "      <td>0</td>\n",
       "      <td>3</td>\n",
       "      <td>1</td>\n",
       "      <td>22.0</td>\n",
       "      <td>1</td>\n",
       "      <td>0</td>\n",
       "      <td>A/5 21171</td>\n",
       "      <td>7.2500</td>\n",
       "      <td>NaN</td>\n",
       "      <td>0</td>\n",
       "    </tr>\n",
       "    <tr>\n",
       "      <th>1</th>\n",
       "      <td>1</td>\n",
       "      <td>1</td>\n",
       "      <td>2</td>\n",
       "      <td>38.0</td>\n",
       "      <td>1</td>\n",
       "      <td>0</td>\n",
       "      <td>PC 17599</td>\n",
       "      <td>71.2833</td>\n",
       "      <td>C85</td>\n",
       "      <td>1</td>\n",
       "    </tr>\n",
       "  </tbody>\n",
       "</table>\n",
       "</div>"
      ],
      "text/plain": [
       "   Survived  Pclass  Sex   Age  SibSp  Parch     Ticket     Fare Cabin  \\\n",
       "0         0       3    1  22.0      1      0  A/5 21171   7.2500   NaN   \n",
       "1         1       1    2  38.0      1      0   PC 17599  71.2833   C85   \n",
       "\n",
       "   Social_name  \n",
       "0            0  \n",
       "1            1  "
      ]
     },
     "execution_count": 19,
     "metadata": {},
     "output_type": "execute_result"
    }
   ],
   "source": [
    "train.head(2)"
   ]
  },
  {
   "cell_type": "markdown",
   "metadata": {},
   "source": [
    "### so now we want to use the Cabin for something useful \n",
    "- since there is alot of unique Cabins (use train.Cabin.unique() to view it ) and the Cabins are origionally divided into levels(see the picture bellow) we can reduce them by using the first letter as the Cabin level \n",
    "- we fill the nan values as the letter 'N' so we don't have a problem incoding it without any errors \n",
    "- then we change the Cabins into dummies because they're not complete and we need to delete the nan but use the real levels since they give a great indication on the survival rate\n",
    "#### p.s : the dummie variable is a way to make columns from categorical data and give an indication if it's there or not (1 or 0 ) (e.g if the passenger is in Cabin A rise 1 as true)\n",
    "\n",
    "- then we concat them to the data (merge the new columns with the old columns )\n",
    "- after we used the cabin we delete it's column and the N column that have the nan values (since the values in it isn't known in what level is it ) "
   ]
  },
  {
   "cell_type": "markdown",
   "metadata": {},
   "source": [
    "<img src='https://camo.githubusercontent.com/288d4af66c81e7bd7e506482f95cf1af9520731f/687474703a2f2f64726976652e676f6f676c652e636f6d2f75633f6578706f72743d766965772669643d30422d797839555549704236755932685164336c66634538325a4555' >"
   ]
  },
  {
   "cell_type": "code",
   "execution_count": 20,
   "metadata": {
    "collapsed": true
   },
   "outputs": [],
   "source": [
    "# name the cabin with it's first letter \n",
    "\n",
    "for x in range(len(train)):\n",
    "    if pd.isnull(train.loc[x,'Cabin']):\n",
    "        continue  # pass the nan values \n",
    "    else : \n",
    "        train.loc[x,'Cabin'] = train.loc[x,'Cabin'][0]\n",
    "\n",
    "# filling the nan cabin with a defaulted value \n",
    "train.Cabin.fillna('N',inplace=True)\n",
    "\n",
    "# add dummies to the data and concating them to the origional dataset \n",
    "train = pd.concat([train, pd.get_dummies(train.Cabin)], axis=1)\n",
    "\n",
    "# delete the nan values and the origional Cabin column \n",
    "del train['N']\n",
    "del train['Cabin']"
   ]
  },
  {
   "cell_type": "code",
   "execution_count": 21,
   "metadata": {},
   "outputs": [
    {
     "data": {
      "text/html": [
       "<div>\n",
       "<style>\n",
       "    .dataframe thead tr:only-child th {\n",
       "        text-align: right;\n",
       "    }\n",
       "\n",
       "    .dataframe thead th {\n",
       "        text-align: left;\n",
       "    }\n",
       "\n",
       "    .dataframe tbody tr th {\n",
       "        vertical-align: top;\n",
       "    }\n",
       "</style>\n",
       "<table border=\"1\" class=\"dataframe\">\n",
       "  <thead>\n",
       "    <tr style=\"text-align: right;\">\n",
       "      <th></th>\n",
       "      <th>Survived</th>\n",
       "      <th>Pclass</th>\n",
       "      <th>Sex</th>\n",
       "      <th>Age</th>\n",
       "      <th>SibSp</th>\n",
       "      <th>Parch</th>\n",
       "      <th>Ticket</th>\n",
       "      <th>Fare</th>\n",
       "      <th>Social_name</th>\n",
       "      <th>A</th>\n",
       "      <th>B</th>\n",
       "      <th>C</th>\n",
       "      <th>D</th>\n",
       "      <th>E</th>\n",
       "      <th>F</th>\n",
       "      <th>G</th>\n",
       "      <th>T</th>\n",
       "    </tr>\n",
       "  </thead>\n",
       "  <tbody>\n",
       "    <tr>\n",
       "      <th>0</th>\n",
       "      <td>0</td>\n",
       "      <td>3</td>\n",
       "      <td>1</td>\n",
       "      <td>22.0</td>\n",
       "      <td>1</td>\n",
       "      <td>0</td>\n",
       "      <td>A/5 21171</td>\n",
       "      <td>7.2500</td>\n",
       "      <td>0</td>\n",
       "      <td>0</td>\n",
       "      <td>0</td>\n",
       "      <td>0</td>\n",
       "      <td>0</td>\n",
       "      <td>0</td>\n",
       "      <td>0</td>\n",
       "      <td>0</td>\n",
       "      <td>0</td>\n",
       "    </tr>\n",
       "    <tr>\n",
       "      <th>1</th>\n",
       "      <td>1</td>\n",
       "      <td>1</td>\n",
       "      <td>2</td>\n",
       "      <td>38.0</td>\n",
       "      <td>1</td>\n",
       "      <td>0</td>\n",
       "      <td>PC 17599</td>\n",
       "      <td>71.2833</td>\n",
       "      <td>1</td>\n",
       "      <td>0</td>\n",
       "      <td>0</td>\n",
       "      <td>1</td>\n",
       "      <td>0</td>\n",
       "      <td>0</td>\n",
       "      <td>0</td>\n",
       "      <td>0</td>\n",
       "      <td>0</td>\n",
       "    </tr>\n",
       "  </tbody>\n",
       "</table>\n",
       "</div>"
      ],
      "text/plain": [
       "   Survived  Pclass  Sex   Age  SibSp  Parch     Ticket     Fare  Social_name  \\\n",
       "0         0       3    1  22.0      1      0  A/5 21171   7.2500            0   \n",
       "1         1       1    2  38.0      1      0   PC 17599  71.2833            1   \n",
       "\n",
       "   A  B  C  D  E  F  G  T  \n",
       "0  0  0  0  0  0  0  0  0  \n",
       "1  0  0  1  0  0  0  0  0  "
      ]
     },
     "execution_count": 21,
     "metadata": {},
     "output_type": "execute_result"
    }
   ],
   "source": [
    "train.head(2)"
   ]
  },
  {
   "cell_type": "markdown",
   "metadata": {},
   "source": [
    "### there is alot of unique Tickets (more than 600) and it's hard to encode that so we will delete it \n",
    "### (this is for the sake of making the notebook simple as possible )"
   ]
  },
  {
   "cell_type": "code",
   "execution_count": 22,
   "metadata": {},
   "outputs": [
    {
     "data": {
      "text/plain": [
       "681"
      ]
     },
     "execution_count": 22,
     "metadata": {},
     "output_type": "execute_result"
    }
   ],
   "source": [
    "len(train.Ticket.unique())"
   ]
  },
  {
   "cell_type": "code",
   "execution_count": 23,
   "metadata": {
    "collapsed": true
   },
   "outputs": [],
   "source": [
    " # i can't see any useful information from keeping the tickets so i will just delete it \n",
    "del train['Ticket']"
   ]
  },
  {
   "cell_type": "code",
   "execution_count": 24,
   "metadata": {},
   "outputs": [
    {
     "data": {
      "text/html": [
       "<div>\n",
       "<style>\n",
       "    .dataframe thead tr:only-child th {\n",
       "        text-align: right;\n",
       "    }\n",
       "\n",
       "    .dataframe thead th {\n",
       "        text-align: left;\n",
       "    }\n",
       "\n",
       "    .dataframe tbody tr th {\n",
       "        vertical-align: top;\n",
       "    }\n",
       "</style>\n",
       "<table border=\"1\" class=\"dataframe\">\n",
       "  <thead>\n",
       "    <tr style=\"text-align: right;\">\n",
       "      <th></th>\n",
       "      <th>Survived</th>\n",
       "      <th>Pclass</th>\n",
       "      <th>Sex</th>\n",
       "      <th>Age</th>\n",
       "      <th>SibSp</th>\n",
       "      <th>Parch</th>\n",
       "      <th>Fare</th>\n",
       "      <th>Social_name</th>\n",
       "      <th>A</th>\n",
       "      <th>B</th>\n",
       "      <th>C</th>\n",
       "      <th>D</th>\n",
       "      <th>E</th>\n",
       "      <th>F</th>\n",
       "      <th>G</th>\n",
       "      <th>T</th>\n",
       "    </tr>\n",
       "  </thead>\n",
       "  <tbody>\n",
       "    <tr>\n",
       "      <th>0</th>\n",
       "      <td>0</td>\n",
       "      <td>3</td>\n",
       "      <td>1</td>\n",
       "      <td>22.0</td>\n",
       "      <td>1</td>\n",
       "      <td>0</td>\n",
       "      <td>7.2500</td>\n",
       "      <td>0</td>\n",
       "      <td>0</td>\n",
       "      <td>0</td>\n",
       "      <td>0</td>\n",
       "      <td>0</td>\n",
       "      <td>0</td>\n",
       "      <td>0</td>\n",
       "      <td>0</td>\n",
       "      <td>0</td>\n",
       "    </tr>\n",
       "    <tr>\n",
       "      <th>1</th>\n",
       "      <td>1</td>\n",
       "      <td>1</td>\n",
       "      <td>2</td>\n",
       "      <td>38.0</td>\n",
       "      <td>1</td>\n",
       "      <td>0</td>\n",
       "      <td>71.2833</td>\n",
       "      <td>1</td>\n",
       "      <td>0</td>\n",
       "      <td>0</td>\n",
       "      <td>1</td>\n",
       "      <td>0</td>\n",
       "      <td>0</td>\n",
       "      <td>0</td>\n",
       "      <td>0</td>\n",
       "      <td>0</td>\n",
       "    </tr>\n",
       "  </tbody>\n",
       "</table>\n",
       "</div>"
      ],
      "text/plain": [
       "   Survived  Pclass  Sex   Age  SibSp  Parch     Fare  Social_name  A  B  C  \\\n",
       "0         0       3    1  22.0      1      0   7.2500            0  0  0  0   \n",
       "1         1       1    2  38.0      1      0  71.2833            1  0  0  1   \n",
       "\n",
       "   D  E  F  G  T  \n",
       "0  0  0  0  0  0  \n",
       "1  0  0  0  0  0  "
      ]
     },
     "execution_count": 24,
     "metadata": {},
     "output_type": "execute_result"
    }
   ],
   "source": [
    "train.head(2)"
   ]
  },
  {
   "cell_type": "code",
   "execution_count": 25,
   "metadata": {},
   "outputs": [
    {
     "data": {
      "text/plain": [
       "Survived       0\n",
       "Pclass         0\n",
       "Sex            0\n",
       "Age            0\n",
       "SibSp          0\n",
       "Parch          0\n",
       "Fare           0\n",
       "Social_name    0\n",
       "A              0\n",
       "B              0\n",
       "C              0\n",
       "D              0\n",
       "E              0\n",
       "F              0\n",
       "G              0\n",
       "T              0\n",
       "dtype: int64"
      ]
     },
     "execution_count": 25,
     "metadata": {},
     "output_type": "execute_result"
    }
   ],
   "source": [
    "train.isnull().sum()"
   ]
  },
  {
   "cell_type": "markdown",
   "metadata": {},
   "source": [
    "## i gathered all what we did above with one function \n",
    "- when you edit the training data you have to edit the testing data as well (and make the same changes ) so we will do it on one function \n",
    "- you should give the bad/missed up data and it will return it clean and nice "
   ]
  },
  {
   "cell_type": "code",
   "execution_count": 26,
   "metadata": {
    "collapsed": true
   },
   "outputs": [],
   "source": [
    "def main(train):\n",
    "    \n",
    "    import numpy as np \n",
    "\n",
    "    # delete the passenger id since it gives no indication on the data whatsoever \n",
    "\n",
    "    del train['PassengerId']\n",
    "    # map Sex\n",
    "    train.Sex=train.Sex.map({'male':1,'female':2})\n",
    "    # use the name to get (mr.,ms. ... etc)\n",
    "    import re \n",
    "\n",
    "    def search_pattern(index):\n",
    "        return re.search(',.*[/.\\b]',train.Name[index])[0][2:-1]\n",
    "\n",
    "    train['Social_name']=[search_pattern(counter) for counter in range(train.shape[0]) ]\n",
    "\n",
    "    # cleaning the things that the regex couldn't get \n",
    "    train.Social_name.replace({\"\"\"Mrs. Martin (Elizabeth L\"\"\":'Mrs',\n",
    "                           'Mme':'Miss',\n",
    "                           'Ms':'Miss',\n",
    "                           'the Countess':'Countess',\n",
    "                            'Mr. Carl':'Mr',\n",
    "                            'Mlle':'Miss'},inplace=True)\n",
    "\n",
    "    # mapping the values \n",
    "    for x in range(len(train.Social_name.unique())):\n",
    "        a=train.Social_name.unique()[x]\n",
    "        b=x\n",
    "\n",
    "        train.Social_name.replace({a:b},inplace=True)\n",
    "\n",
    "\n",
    "    # delete the name because we don't need it anymore \n",
    "    del train['Name']\n",
    "\n",
    "    # fill na age values given (Pclass , Sex , Social_name)\n",
    "    grouped=train.Age.groupby([train.Pclass,train.Sex,train.Social_name]).median()\n",
    "\n",
    "    pclass=grouped.index.labels[0] ; sex=grouped.index.labels[1] ; social_name=grouped.index.labels[2]\n",
    "\n",
    "\n",
    "    for counter in range(len(grouped.index.labels[1])):\n",
    "        # HERE\n",
    "        train.loc[((train.Pclass==train.Pclass.unique()[pclass[counter]]) &\n",
    "                  (train.Sex==train.Sex.unique()[sex[counter]]) &\n",
    "                  (train.Social_name==train.Social_name.unique()[social_name[counter]])),\n",
    "                  'Age']=\\\n",
    "        train.loc[((train.Pclass==train.Pclass.unique()[pclass[counter]]) &\n",
    "                  (train.Sex==train.Sex.unique()[sex[counter]]) &\n",
    "                  (train.Social_name==train.Social_name.unique()[social_name[counter]])),\n",
    "                  'Age'].fillna(value=grouped.values[counter])\n",
    "        # THERE\n",
    "\n",
    "    # from HERE to THERE is the same as putting inplace=True on the fillna but it seems that inplace doesn't work for no specific reason . . . \n",
    "\n",
    "\n",
    "\n",
    "    # map Embarked \n",
    "    train.Embarked=train.Embarked.map({'S':1,'C':2,'Q':3})\n",
    "\n",
    "    # fill Embarked nans \n",
    "    train.Embarked.groupby(train.Embarked).count() # the max is 1 so we fill the nans with it \n",
    "    train.Embarked.fillna(1,inplace=True)\n",
    "\n",
    "    # name the cabin with it's first letter \n",
    "\n",
    "    for x in range(len(train)):\n",
    "        if pd.isnull(train.loc[x,'Cabin']):\n",
    "            continue \n",
    "        else : \n",
    "            train.loc[x,'Cabin'] = train.loc[x,'Cabin'][0]\n",
    "\n",
    "    # filling the nan cabin with a defaulted value \n",
    "    train.Cabin.fillna('N',inplace=True)\n",
    "\n",
    "    # add dummies to the data and concating them to the origional dataset \n",
    "    train = pd.concat([train, pd.get_dummies(train.Cabin)], axis=1)\n",
    "\n",
    "    # delete the nan values and the origional Cabin column \n",
    "    del train['N']\n",
    "    del train['Cabin']\n",
    "    \n",
    "\n",
    "    \n",
    "\n",
    "\n",
    "    # rounding the ages \n",
    "\n",
    "    train.Age=train.Age.values.round().astype(int)\n",
    "\n",
    "     # i can't see any useful information from keeping the tickets so i will just delete it \n",
    "\n",
    "    del train['Ticket']\n",
    "\n",
    "    # rounding the fares to give less unique numbers \n",
    "\n",
    "    train.Fare=train.Fare.round().astype(int)\n",
    "\n",
    "    # Embarked means where did people get to the chip from (and that has no indication on the data in a logical manner so we delete it )\n",
    "    del train['Embarked']\n",
    "    return train"
   ]
  },
  {
   "cell_type": "markdown",
   "metadata": {},
   "source": [
    "### the models are divided into:\n",
    "- models that hates continuous data and loves categorical (doesn't benefit from the continuous data )\n",
    "- models that deals with both of them equally \n",
    "### one of the models that  work greatly with continuous  data is called Logistic Regression\n",
    "- it's simple and easy to use and you can modify certain things with it and get a heigher score (this is out of the scope for this notebook ) "
   ]
  },
  {
   "cell_type": "code",
   "execution_count": 27,
   "metadata": {
    "collapsed": true
   },
   "outputs": [],
   "source": [
    "df_train=pd.read_csv('train.csv') # read the tainng data \n",
    "df_train=main(df_train) # pass the data to the manipulating function\n",
    "# there is train['T'] but there is only one value in the whole data so we will delete it \n",
    "#model_training['T'].sum() # unhash the line to see the number \n",
    "del df_train['T']\n",
    "model_training=df_train.loc[:,df_train.columns!='Survived']\n",
    "model_testing=df_train.loc[:,'Survived']"
   ]
  },
  {
   "cell_type": "code",
   "execution_count": 28,
   "metadata": {
    "collapsed": true
   },
   "outputs": [],
   "source": [
    "df_test=pd.read_csv('test.csv')\n",
    "# df_test=main(df_test) # this code doesn't work because there is an nan value in the Fare (just one nan)\n",
    "df_test.Fare.fillna(df_test.Fare.median(skipna=True),inplace=True) # filling the nan value with the median fare \n",
    "df_test=main(df_test) # now it works "
   ]
  },
  {
   "cell_type": "markdown",
   "metadata": {},
   "source": [
    "### importing the model and fitting the data into it (fitting the data is the way for the model to see the patterns in the data \n",
    "### predict is the way for the model to test the assumptions that it made (it's \"results\" here)"
   ]
  },
  {
   "cell_type": "code",
   "execution_count": 29,
   "metadata": {
    "collapsed": true
   },
   "outputs": [],
   "source": [
    "from sklearn.linear_model import LogisticRegression\n",
    "\n",
    "logistic = LogisticRegression()\n",
    "\n",
    "the_model=logistic.fit(model_training,model_testing)\n",
    "results=the_model.predict(df_test) # the output is returned as a list "
   ]
  },
  {
   "cell_type": "markdown",
   "metadata": {},
   "source": [
    "### we get the PassengerId from the testing data and fill the other columns with the predicted results \n",
    "- then we set the PassengerId as the index (check the file gender_submission.csv (from the 3 files that kaggle provides) to see the format)\n",
    "### finally we save the data into a file and it's ready for the submission "
   ]
  },
  {
   "cell_type": "code",
   "execution_count": 30,
   "metadata": {
    "collapsed": true
   },
   "outputs": [],
   "source": [
    "final=pd.read_csv('test.csv',usecols=['PassengerId'])\n",
    "final['Survived']=results\n",
    "\n",
    "final=final.set_index('PassengerId')\n",
    "\n",
    "final.to_csv('final.csv') # 0.77511 on kaggle for that "
   ]
  },
  {
   "cell_type": "markdown",
   "metadata": {},
   "source": [
    "##  by doing thoese simple steps you can get a score of %77.5 accuracy from kaggle\n",
    "- you can run the code from the function and bellow and you will get the same results "
   ]
  },
  {
   "cell_type": "markdown",
   "metadata": {},
   "source": [
    "## I had so much fun making the kernal for you and i hope it was good for you "
   ]
  },
  {
   "cell_type": "markdown",
   "metadata": {},
   "source": [
    "# please upvote the kernal if you find it helpful "
   ]
  }
 ],
 "metadata": {
  "kernelspec": {
   "display_name": "Python 3",
   "language": "python",
   "name": "python3"
  },
  "language_info": {
   "codemirror_mode": {
    "name": "ipython",
    "version": 3
   },
   "file_extension": ".py",
   "mimetype": "text/x-python",
   "name": "python",
   "nbconvert_exporter": "python",
   "pygments_lexer": "ipython3",
   "version": "3.6.8"
  }
 },
 "nbformat": 4,
 "nbformat_minor": 2
}
