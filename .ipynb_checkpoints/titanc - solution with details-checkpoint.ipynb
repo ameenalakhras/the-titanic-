{
 "cells": [
  {
   "cell_type": "markdown",
   "metadata": {},
   "source": [
    "### this notebook is the way to strengthen yourself with visualization using seaborn and matplotlib for a better data story telling .\n",
    "### at the final lines we applied machine learning to got a percentage of 79%"
   ]
  },
  {
   "cell_type": "markdown",
   "metadata": {},
   "source": [
    "## if you find this notebook a bit hard in some points please visit [my first notebook](https://www.kaggle.com/amin602/titanic-solution-using-data-analysis) for total beginners to get  started  with data science and machine learning."
   ]
  },
  {
   "cell_type": "markdown",
   "metadata": {},
   "source": [
    "## Goal\n",
    "It is your job to predict if a passenger survived the sinking of the Titanic or not. \n",
    "For each PassengerId in the test set, you must predict a 0 or 1 value for the Survived variable.\n",
    "\n",
    "## Data Dictionary\n",
    "\n",
    "Variable\tDefinition\tKey\n",
    "survival\tSurvival\t0 = No, 1 = Yes\n",
    "pclass\tTicket class\t1 = 1st, 2 = 2nd, 3 = 3rd\n",
    "sex\tSex\t\n",
    "Age\tAge in years\t\n",
    "sibsp\t# of siblings / spouses aboard the Titanic\t\n",
    "parch\t# of parents / children aboard the Titanic\t\n",
    "ticket\tTicket number\t\n",
    "fare\tPassenger fare\t\n",
    "cabin\tCabin number\t\n",
    "embarked\tPort of Embarkation\tC = Cherbourg, Q = Queenstown, S = Southampton\n",
    "\n",
    "## Variable Notes\n",
    "pclass: A proxy for socio-economic status (SES)\n",
    "1st = Upper\n",
    "2nd = Middle\n",
    "3rd = Lower\n",
    "\n",
    "age: Age is fractional if less than 1. If the age is estimated, is it in the form of xx.5\n",
    "\n",
    "sibsp: The dataset defines family relations in this way...\n",
    "Sibling = brother, sister, stepbrother, stepsister\n",
    "Spouse = husband, wife (mistresses and fiancés were ignored)\n",
    "\n",
    "parch: The dataset defines family relations in this way...\n",
    "Parent = mother, father\n",
    "Child = daughter, son, stepdaughter, stepson\n",
    "Some children travelled only with a nanny, therefore parch=0 for them."
   ]
  },
  {
   "cell_type": "code",
   "execution_count": 1,
   "metadata": {
    "collapsed": true
   },
   "outputs": [],
   "source": [
    "x=1 # hello from the other side :|"
   ]
  },
  {
   "cell_type": "code",
   "execution_count": 2,
   "metadata": {
    "collapsed": true
   },
   "outputs": [],
   "source": [
    "import pandas as pd \n",
    "import numpy as np\n",
    "import sklearn\n",
    "import seaborn as sns \n",
    "import matplotlib.pyplot as plt \n",
    "%matplotlib inline \n",
    "from sklearn.linear_model import LogisticRegression"
   ]
  },
  {
   "cell_type": "code",
   "execution_count": 3,
   "metadata": {
    "collapsed": true
   },
   "outputs": [],
   "source": [
    "plt.rc(\"font\", size=14)\n",
    "sns.set(style=\"dark\") #white background style for seaborn plots\n",
    "sns.set(style=\"whitegrid\", color_codes=True)#style=\"whitegrid\""
   ]
  },
  {
   "cell_type": "code",
   "execution_count": 4,
   "metadata": {
    "collapsed": true
   },
   "outputs": [],
   "source": [
    "training_data=pd.read_csv('train.csv')\n",
    "testing_data=pd.read_csv('test.csv')"
   ]
  },
  {
   "cell_type": "code",
   "execution_count": 5,
   "metadata": {},
   "outputs": [
    {
     "data": {
      "text/html": [
       "<div>\n",
       "<style>\n",
       "    .dataframe thead tr:only-child th {\n",
       "        text-align: right;\n",
       "    }\n",
       "\n",
       "    .dataframe thead th {\n",
       "        text-align: left;\n",
       "    }\n",
       "\n",
       "    .dataframe tbody tr th {\n",
       "        vertical-align: top;\n",
       "    }\n",
       "</style>\n",
       "<table border=\"1\" class=\"dataframe\">\n",
       "  <thead>\n",
       "    <tr style=\"text-align: right;\">\n",
       "      <th></th>\n",
       "      <th>PassengerId</th>\n",
       "      <th>Survived</th>\n",
       "      <th>Pclass</th>\n",
       "      <th>Name</th>\n",
       "      <th>Sex</th>\n",
       "      <th>Age</th>\n",
       "      <th>SibSp</th>\n",
       "      <th>Parch</th>\n",
       "      <th>Ticket</th>\n",
       "      <th>Fare</th>\n",
       "      <th>Cabin</th>\n",
       "      <th>Embarked</th>\n",
       "    </tr>\n",
       "  </thead>\n",
       "  <tbody>\n",
       "    <tr>\n",
       "      <th>0</th>\n",
       "      <td>1</td>\n",
       "      <td>0</td>\n",
       "      <td>3</td>\n",
       "      <td>Braund, Mr. Owen Harris</td>\n",
       "      <td>male</td>\n",
       "      <td>22.0</td>\n",
       "      <td>1</td>\n",
       "      <td>0</td>\n",
       "      <td>A/5 21171</td>\n",
       "      <td>7.2500</td>\n",
       "      <td>NaN</td>\n",
       "      <td>S</td>\n",
       "    </tr>\n",
       "    <tr>\n",
       "      <th>1</th>\n",
       "      <td>2</td>\n",
       "      <td>1</td>\n",
       "      <td>1</td>\n",
       "      <td>Cumings, Mrs. John Bradley (Florence Briggs Th...</td>\n",
       "      <td>female</td>\n",
       "      <td>38.0</td>\n",
       "      <td>1</td>\n",
       "      <td>0</td>\n",
       "      <td>PC 17599</td>\n",
       "      <td>71.2833</td>\n",
       "      <td>C85</td>\n",
       "      <td>C</td>\n",
       "    </tr>\n",
       "    <tr>\n",
       "      <th>2</th>\n",
       "      <td>3</td>\n",
       "      <td>1</td>\n",
       "      <td>3</td>\n",
       "      <td>Heikkinen, Miss. Laina</td>\n",
       "      <td>female</td>\n",
       "      <td>26.0</td>\n",
       "      <td>0</td>\n",
       "      <td>0</td>\n",
       "      <td>STON/O2. 3101282</td>\n",
       "      <td>7.9250</td>\n",
       "      <td>NaN</td>\n",
       "      <td>S</td>\n",
       "    </tr>\n",
       "    <tr>\n",
       "      <th>3</th>\n",
       "      <td>4</td>\n",
       "      <td>1</td>\n",
       "      <td>1</td>\n",
       "      <td>Futrelle, Mrs. Jacques Heath (Lily May Peel)</td>\n",
       "      <td>female</td>\n",
       "      <td>35.0</td>\n",
       "      <td>1</td>\n",
       "      <td>0</td>\n",
       "      <td>113803</td>\n",
       "      <td>53.1000</td>\n",
       "      <td>C123</td>\n",
       "      <td>S</td>\n",
       "    </tr>\n",
       "    <tr>\n",
       "      <th>4</th>\n",
       "      <td>5</td>\n",
       "      <td>0</td>\n",
       "      <td>3</td>\n",
       "      <td>Allen, Mr. William Henry</td>\n",
       "      <td>male</td>\n",
       "      <td>35.0</td>\n",
       "      <td>0</td>\n",
       "      <td>0</td>\n",
       "      <td>373450</td>\n",
       "      <td>8.0500</td>\n",
       "      <td>NaN</td>\n",
       "      <td>S</td>\n",
       "    </tr>\n",
       "  </tbody>\n",
       "</table>\n",
       "</div>"
      ],
      "text/plain": [
       "   PassengerId  Survived  Pclass  \\\n",
       "0            1         0       3   \n",
       "1            2         1       1   \n",
       "2            3         1       3   \n",
       "3            4         1       1   \n",
       "4            5         0       3   \n",
       "\n",
       "                                                Name     Sex   Age  SibSp  \\\n",
       "0                            Braund, Mr. Owen Harris    male  22.0      1   \n",
       "1  Cumings, Mrs. John Bradley (Florence Briggs Th...  female  38.0      1   \n",
       "2                             Heikkinen, Miss. Laina  female  26.0      0   \n",
       "3       Futrelle, Mrs. Jacques Heath (Lily May Peel)  female  35.0      1   \n",
       "4                           Allen, Mr. William Henry    male  35.0      0   \n",
       "\n",
       "   Parch            Ticket     Fare Cabin Embarked  \n",
       "0      0         A/5 21171   7.2500   NaN        S  \n",
       "1      0          PC 17599  71.2833   C85        C  \n",
       "2      0  STON/O2. 3101282   7.9250   NaN        S  \n",
       "3      0            113803  53.1000  C123        S  \n",
       "4      0            373450   8.0500   NaN        S  "
      ]
     },
     "execution_count": 5,
     "metadata": {},
     "output_type": "execute_result"
    }
   ],
   "source": [
    "training_data.head()"
   ]
  },
  {
   "cell_type": "code",
   "execution_count": 6,
   "metadata": {},
   "outputs": [
    {
     "data": {
      "text/html": [
       "<div>\n",
       "<style>\n",
       "    .dataframe thead tr:only-child th {\n",
       "        text-align: right;\n",
       "    }\n",
       "\n",
       "    .dataframe thead th {\n",
       "        text-align: left;\n",
       "    }\n",
       "\n",
       "    .dataframe tbody tr th {\n",
       "        vertical-align: top;\n",
       "    }\n",
       "</style>\n",
       "<table border=\"1\" class=\"dataframe\">\n",
       "  <thead>\n",
       "    <tr style=\"text-align: right;\">\n",
       "      <th></th>\n",
       "      <th>PassengerId</th>\n",
       "      <th>Survived</th>\n",
       "      <th>Pclass</th>\n",
       "      <th>Name</th>\n",
       "      <th>Sex</th>\n",
       "      <th>Age</th>\n",
       "      <th>SibSp</th>\n",
       "      <th>Parch</th>\n",
       "      <th>Ticket</th>\n",
       "      <th>Fare</th>\n",
       "      <th>Cabin</th>\n",
       "      <th>Embarked</th>\n",
       "    </tr>\n",
       "  </thead>\n",
       "  <tbody>\n",
       "    <tr>\n",
       "      <th>0</th>\n",
       "      <td>1</td>\n",
       "      <td>0</td>\n",
       "      <td>3</td>\n",
       "      <td>Braund, Mr. Owen Harris</td>\n",
       "      <td>male</td>\n",
       "      <td>22.0</td>\n",
       "      <td>1</td>\n",
       "      <td>0</td>\n",
       "      <td>A/5 21171</td>\n",
       "      <td>7.2500</td>\n",
       "      <td>NaN</td>\n",
       "      <td>S</td>\n",
       "    </tr>\n",
       "    <tr>\n",
       "      <th>1</th>\n",
       "      <td>2</td>\n",
       "      <td>1</td>\n",
       "      <td>1</td>\n",
       "      <td>Cumings, Mrs. John Bradley (Florence Briggs Th...</td>\n",
       "      <td>female</td>\n",
       "      <td>38.0</td>\n",
       "      <td>1</td>\n",
       "      <td>0</td>\n",
       "      <td>PC 17599</td>\n",
       "      <td>71.2833</td>\n",
       "      <td>C85</td>\n",
       "      <td>C</td>\n",
       "    </tr>\n",
       "    <tr>\n",
       "      <th>2</th>\n",
       "      <td>3</td>\n",
       "      <td>1</td>\n",
       "      <td>3</td>\n",
       "      <td>Heikkinen, Miss. Laina</td>\n",
       "      <td>female</td>\n",
       "      <td>26.0</td>\n",
       "      <td>0</td>\n",
       "      <td>0</td>\n",
       "      <td>STON/O2. 3101282</td>\n",
       "      <td>7.9250</td>\n",
       "      <td>NaN</td>\n",
       "      <td>S</td>\n",
       "    </tr>\n",
       "    <tr>\n",
       "      <th>3</th>\n",
       "      <td>4</td>\n",
       "      <td>1</td>\n",
       "      <td>1</td>\n",
       "      <td>Futrelle, Mrs. Jacques Heath (Lily May Peel)</td>\n",
       "      <td>female</td>\n",
       "      <td>35.0</td>\n",
       "      <td>1</td>\n",
       "      <td>0</td>\n",
       "      <td>113803</td>\n",
       "      <td>53.1000</td>\n",
       "      <td>C123</td>\n",
       "      <td>S</td>\n",
       "    </tr>\n",
       "    <tr>\n",
       "      <th>4</th>\n",
       "      <td>5</td>\n",
       "      <td>0</td>\n",
       "      <td>3</td>\n",
       "      <td>Allen, Mr. William Henry</td>\n",
       "      <td>male</td>\n",
       "      <td>35.0</td>\n",
       "      <td>0</td>\n",
       "      <td>0</td>\n",
       "      <td>373450</td>\n",
       "      <td>8.0500</td>\n",
       "      <td>NaN</td>\n",
       "      <td>S</td>\n",
       "    </tr>\n",
       "  </tbody>\n",
       "</table>\n",
       "</div>"
      ],
      "text/plain": [
       "   PassengerId  Survived  Pclass  \\\n",
       "0            1         0       3   \n",
       "1            2         1       1   \n",
       "2            3         1       3   \n",
       "3            4         1       1   \n",
       "4            5         0       3   \n",
       "\n",
       "                                                Name     Sex   Age  SibSp  \\\n",
       "0                            Braund, Mr. Owen Harris    male  22.0      1   \n",
       "1  Cumings, Mrs. John Bradley (Florence Briggs Th...  female  38.0      1   \n",
       "2                             Heikkinen, Miss. Laina  female  26.0      0   \n",
       "3       Futrelle, Mrs. Jacques Heath (Lily May Peel)  female  35.0      1   \n",
       "4                           Allen, Mr. William Henry    male  35.0      0   \n",
       "\n",
       "   Parch            Ticket     Fare Cabin Embarked  \n",
       "0      0         A/5 21171   7.2500   NaN        S  \n",
       "1      0          PC 17599  71.2833   C85        C  \n",
       "2      0  STON/O2. 3101282   7.9250   NaN        S  \n",
       "3      0            113803  53.1000  C123        S  \n",
       "4      0            373450   8.0500   NaN        S  "
      ]
     },
     "execution_count": 6,
     "metadata": {},
     "output_type": "execute_result"
    }
   ],
   "source": [
    "training_data.head()"
   ]
  },
  {
   "cell_type": "code",
   "execution_count": 7,
   "metadata": {},
   "outputs": [
    {
     "data": {
      "text/plain": [
       "<matplotlib.axes._subplots.AxesSubplot at 0x1ec0f439940>"
      ]
     },
     "execution_count": 7,
     "metadata": {},
     "output_type": "execute_result"
    },
    {
     "data": {
      "image/png": "[encoded data removed]",
      "text/plain": [
       "<matplotlib.figure.Figure at 0x1ec0f4145c0>"
      ]
     },
     "metadata": {},
     "output_type": "display_data"
    }
   ],
   "source": [
    "a,ax=plt.subplots(figsize=(9,9))\n",
    "sns.heatmap(training_data.corr(),annot=True,linewidths=0.5,fmt='.1f',ax=ax)\n",
    "#there is correlation between survived and (Pclass,Fare,parch,age)"
   ]
  },
  {
   "cell_type": "markdown",
   "metadata": {},
   "source": [
    "### making one data frame to make the variables changes to everything  "
   ]
  },
  {
   "cell_type": "code",
   "execution_count": 8,
   "metadata": {},
   "outputs": [
    {
     "name": "stdout",
     "output_type": "stream",
     "text": [
      "the length of the training data is : 891\n"
     ]
    }
   ],
   "source": [
    "training_data_length=len(training_data)# for splitting later to the origional state \n",
    "print('the length of the training data is :',training_data_length)\n",
    "df=pd.concat(objs=[training_data,testing_data],axis=0).copy()\n",
    "df=df.reset_index(drop=True)"
   ]
  },
  {
   "cell_type": "code",
   "execution_count": 9,
   "metadata": {},
   "outputs": [
    {
     "data": {
      "text/html": [
       "<div>\n",
       "<style>\n",
       "    .dataframe thead tr:only-child th {\n",
       "        text-align: right;\n",
       "    }\n",
       "\n",
       "    .dataframe thead th {\n",
       "        text-align: left;\n",
       "    }\n",
       "\n",
       "    .dataframe tbody tr th {\n",
       "        vertical-align: top;\n",
       "    }\n",
       "</style>\n",
       "<table border=\"1\" class=\"dataframe\">\n",
       "  <thead>\n",
       "    <tr style=\"text-align: right;\">\n",
       "      <th></th>\n",
       "      <th>Age</th>\n",
       "      <th>Cabin</th>\n",
       "      <th>Embarked</th>\n",
       "      <th>Fare</th>\n",
       "      <th>Name</th>\n",
       "      <th>Parch</th>\n",
       "      <th>PassengerId</th>\n",
       "      <th>Pclass</th>\n",
       "      <th>Sex</th>\n",
       "      <th>SibSp</th>\n",
       "      <th>Survived</th>\n",
       "      <th>Ticket</th>\n",
       "    </tr>\n",
       "  </thead>\n",
       "  <tbody>\n",
       "    <tr>\n",
       "      <th>0</th>\n",
       "      <td>22.0</td>\n",
       "      <td>NaN</td>\n",
       "      <td>S</td>\n",
       "      <td>7.2500</td>\n",
       "      <td>Braund, Mr. Owen Harris</td>\n",
       "      <td>0</td>\n",
       "      <td>1</td>\n",
       "      <td>3</td>\n",
       "      <td>male</td>\n",
       "      <td>1</td>\n",
       "      <td>0.0</td>\n",
       "      <td>A/5 21171</td>\n",
       "    </tr>\n",
       "    <tr>\n",
       "      <th>1</th>\n",
       "      <td>38.0</td>\n",
       "      <td>C85</td>\n",
       "      <td>C</td>\n",
       "      <td>71.2833</td>\n",
       "      <td>Cumings, Mrs. John Bradley (Florence Briggs Th...</td>\n",
       "      <td>0</td>\n",
       "      <td>2</td>\n",
       "      <td>1</td>\n",
       "      <td>female</td>\n",
       "      <td>1</td>\n",
       "      <td>1.0</td>\n",
       "      <td>PC 17599</td>\n",
       "    </tr>\n",
       "  </tbody>\n",
       "</table>\n",
       "</div>"
      ],
      "text/plain": [
       "    Age Cabin Embarked     Fare  \\\n",
       "0  22.0   NaN        S   7.2500   \n",
       "1  38.0   C85        C  71.2833   \n",
       "\n",
       "                                                Name  Parch  PassengerId  \\\n",
       "0                            Braund, Mr. Owen Harris      0            1   \n",
       "1  Cumings, Mrs. John Bradley (Florence Briggs Th...      0            2   \n",
       "\n",
       "   Pclass     Sex  SibSp  Survived     Ticket  \n",
       "0       3    male      1       0.0  A/5 21171  \n",
       "1       1  female      1       1.0   PC 17599  "
      ]
     },
     "execution_count": 9,
     "metadata": {},
     "output_type": "execute_result"
    }
   ],
   "source": [
    "df.head(2)"
   ]
  },
  {
   "cell_type": "code",
   "execution_count": 10,
   "metadata": {},
   "outputs": [
    {
     "name": "stdout",
     "output_type": "stream",
     "text": [
      "the Cabins unique values count is : 148\n",
      "the null values on Cabin equal: 687\n"
     ]
    }
   ],
   "source": [
    "#training_data.info() # there is null values at : 'Age' , 'Cabin' , 'Embarked','Fare'\n",
    "#df.loc[pd.isnull(df['Fare'])] # to see the nan Fare value \n",
    "print('the Cabins unique values count is :',len(training_data['Cabin'].unique()))\n",
    "print('the null values on Cabin equal:',pd.isnull(training_data['Cabin']).sum())"
   ]
  },
  {
   "cell_type": "markdown",
   "metadata": {},
   "source": [
    "## filling the only null value on Fare,changing the (Sex,Cabins,Embarked) to numbers, reducing the tickets unique values"
   ]
  },
  {
   "cell_type": "code",
   "execution_count": 11,
   "metadata": {},
   "outputs": [
    {
     "name": "stdout",
     "output_type": "stream",
     "text": [
      "the Ticket length befor the change is : 929\n",
      "the Ticket length after the change is  : 186\n",
      "how the Tickets numbers look like after the change : 359\n",
      "the unique Cabin values are : [8 3 5 7 4 1 2 6]\n",
      "the unique Pclass values are : [3 1 2]\n"
     ]
    }
   ],
   "source": [
    "#filling the Fare nans(which is just one row)\n",
    "df.loc[pd.isnull(df['Fare'])==True,'Fare']=df.Fare.median()\n",
    "\n",
    "#converting male to 1 , female to 0\n",
    "df.loc[df['Sex']=='male','Sex'],df.loc[df['Sex']=='female','Sex']=1,0\n",
    "\n",
    "#renaming the data 'Cabins' from Characters to numbers\n",
    "\n",
    "df.Cabin.fillna(8,inplace=True) \n",
    "df.loc[df.Cabin.str.contains('T',na=False),'Cabin']=8 #the only Cabin that have T in all of the data \n",
    "\n",
    "# from A to 1, from B to 2 , etc..\n",
    "a=list('ABCDEFG') ; b=list(range(1,len(a)+1))  \n",
    "for x in range(len(a)):\n",
    "    df.loc[df.Cabin.str.contains(a[x],na=False),'Cabin']=b[x]\n",
    "    \n",
    "    \n",
    "#reducing the Tickets unique vales         \n",
    "print('the Ticket length befor the change is :',len(df.Ticket.unique()))\n",
    "unique_tickets=df.Ticket.unique()\n",
    "for x in range((len(df)-1)):\n",
    "    unique_tickets=df.loc[x,'Ticket'].split(' ')\n",
    "    if(len(unique_tickets)==1):\n",
    "        \n",
    "        if unique_tickets[0]=='1'or'2'or'3'or'4'or'5'or'6'or'7'or'8'or'9':\n",
    "            unique_tickets=(unique_tickets[0][0]+unique_tickets[0][1]+unique_tickets[0][2])\n",
    "            \n",
    "        else:\n",
    "            pass\n",
    "        \n",
    "    elif len(unique_tickets)==2:\n",
    "        unique_tickets=unique_tickets[0]\n",
    "\n",
    "    elif len(unique_tickets)==3 :\n",
    "        unique_tickets=unique_tickets[0]\n",
    "    df.loc[x,'Ticket']=unique_tickets\n",
    "\n",
    "#chaging the 'Embarked' into numbers \n",
    "    \n",
    "df['Embarked']=df['Embarked'].replace('S',np.int32(1))\n",
    "df['Embarked']=df['Embarked'].replace('Q',np.int32(2))\n",
    "df['Embarked']=df['Embarked'].replace('C',np.int32(3))\n",
    "\n",
    "\n",
    "print('the Ticket length after the change is  :',len(df.Ticket.unique()))\n",
    "print('how the Tickets numbers look like after the change :',unique_tickets[0:4])\n",
    "print('the unique Cabin values are :',df['Cabin'].unique())\n",
    "print('the unique Pclass values are :',df['Pclass'].unique())"
   ]
  },
  {
   "cell_type": "code",
   "execution_count": 12,
   "metadata": {},
   "outputs": [
    {
     "data": {
      "text/html": [
       "<div>\n",
       "<style>\n",
       "    .dataframe thead tr:only-child th {\n",
       "        text-align: right;\n",
       "    }\n",
       "\n",
       "    .dataframe thead th {\n",
       "        text-align: left;\n",
       "    }\n",
       "\n",
       "    .dataframe tbody tr th {\n",
       "        vertical-align: top;\n",
       "    }\n",
       "</style>\n",
       "<table border=\"1\" class=\"dataframe\">\n",
       "  <thead>\n",
       "    <tr style=\"text-align: right;\">\n",
       "      <th></th>\n",
       "      <th>Age</th>\n",
       "      <th>Cabin</th>\n",
       "      <th>Embarked</th>\n",
       "      <th>Fare</th>\n",
       "      <th>Name</th>\n",
       "      <th>Parch</th>\n",
       "      <th>PassengerId</th>\n",
       "      <th>Pclass</th>\n",
       "      <th>Sex</th>\n",
       "      <th>SibSp</th>\n",
       "      <th>Survived</th>\n",
       "      <th>Ticket</th>\n",
       "    </tr>\n",
       "  </thead>\n",
       "  <tbody>\n",
       "    <tr>\n",
       "      <th>0</th>\n",
       "      <td>22.0</td>\n",
       "      <td>8</td>\n",
       "      <td>1.0</td>\n",
       "      <td>7.2500</td>\n",
       "      <td>Braund, Mr. Owen Harris</td>\n",
       "      <td>0</td>\n",
       "      <td>1</td>\n",
       "      <td>3</td>\n",
       "      <td>1</td>\n",
       "      <td>1</td>\n",
       "      <td>0.0</td>\n",
       "      <td>A/5</td>\n",
       "    </tr>\n",
       "    <tr>\n",
       "      <th>1</th>\n",
       "      <td>38.0</td>\n",
       "      <td>3</td>\n",
       "      <td>3.0</td>\n",
       "      <td>71.2833</td>\n",
       "      <td>Cumings, Mrs. John Bradley (Florence Briggs Th...</td>\n",
       "      <td>0</td>\n",
       "      <td>2</td>\n",
       "      <td>1</td>\n",
       "      <td>0</td>\n",
       "      <td>1</td>\n",
       "      <td>1.0</td>\n",
       "      <td>PC</td>\n",
       "    </tr>\n",
       "  </tbody>\n",
       "</table>\n",
       "</div>"
      ],
      "text/plain": [
       "    Age Cabin  Embarked     Fare  \\\n",
       "0  22.0     8       1.0   7.2500   \n",
       "1  38.0     3       3.0  71.2833   \n",
       "\n",
       "                                                Name  Parch  PassengerId  \\\n",
       "0                            Braund, Mr. Owen Harris      0            1   \n",
       "1  Cumings, Mrs. John Bradley (Florence Briggs Th...      0            2   \n",
       "\n",
       "   Pclass Sex  SibSp  Survived Ticket  \n",
       "0       3   1      1       0.0    A/5  \n",
       "1       1   0      1       1.0     PC  "
      ]
     },
     "execution_count": 12,
     "metadata": {},
     "output_type": "execute_result"
    }
   ],
   "source": [
    "df.head(2)"
   ]
  },
  {
   "cell_type": "markdown",
   "metadata": {},
   "source": [
    "### ### Calssifying the names into \"a useful feature\" ('Title')"
   ]
  },
  {
   "cell_type": "code",
   "execution_count": 13,
   "metadata": {},
   "outputs": [
    {
     "name": "stdout",
     "output_type": "stream",
     "text": [
      "Mr\n"
     ]
    }
   ],
   "source": [
    "# Define get_title function to extract titles from passenger names\n",
    "import re\n",
    "def get_title(name):\n",
    "    title_search = re.search(' ([A-Za-z]+)\\.', name)\n",
    "    \n",
    "    # If the title exists, extract and return it.\n",
    "    if title_search:\n",
    "        return title_search.group(1) # 1 to erase the space befor the title\n",
    "    return \"\"\n",
    "\n",
    "#testing it..\n",
    "print(get_title('Braund, Mr. Owen Harris'))\n",
    "#working\n",
    "\n",
    "# Create a new feature 'Title' that contains the titles of passenger names\n",
    "\n",
    "\n",
    "df['Title'] = df['Name'].apply(get_title)\n",
    "del df['Name'] # delete the origional column 'Name' since we don't need it anymore \n",
    "\n",
    "df['Title'] = df['Title'].replace('Mlle', 'Miss')\n",
    "df['Title'] = df['Title'].replace('Ms', 'Miss')\n",
    "df['Title'] = df['Title'].replace('Mme', 'Mrs') "
   ]
  },
  {
   "cell_type": "markdown",
   "metadata": {},
   "source": [
    "### does the title mean anything anyways ? "
   ]
  },
  {
   "cell_type": "code",
   "execution_count": 14,
   "metadata": {
    "scrolled": true
   },
   "outputs": [
    {
     "data": {
      "text/html": [
       "<div>\n",
       "<style>\n",
       "    .dataframe thead tr:only-child th {\n",
       "        text-align: right;\n",
       "    }\n",
       "\n",
       "    .dataframe thead th {\n",
       "        text-align: left;\n",
       "    }\n",
       "\n",
       "    .dataframe tbody tr th {\n",
       "        vertical-align: top;\n",
       "    }\n",
       "</style>\n",
       "<table border=\"1\" class=\"dataframe\">\n",
       "  <thead>\n",
       "    <tr style=\"text-align: right;\">\n",
       "      <th></th>\n",
       "      <th></th>\n",
       "      <th></th>\n",
       "      <th>Age</th>\n",
       "      <th>Embarked</th>\n",
       "      <th>Fare</th>\n",
       "      <th>Parch</th>\n",
       "      <th>PassengerId</th>\n",
       "      <th>SibSp</th>\n",
       "      <th>Survived</th>\n",
       "    </tr>\n",
       "    <tr>\n",
       "      <th>Sex</th>\n",
       "      <th>Pclass</th>\n",
       "      <th>Title</th>\n",
       "      <th></th>\n",
       "      <th></th>\n",
       "      <th></th>\n",
       "      <th></th>\n",
       "      <th></th>\n",
       "      <th></th>\n",
       "      <th></th>\n",
       "    </tr>\n",
       "  </thead>\n",
       "  <tbody>\n",
       "    <tr>\n",
       "      <th rowspan=\"10\" valign=\"top\">0</th>\n",
       "      <th rowspan=\"6\" valign=\"top\">1</th>\n",
       "      <th>Countess</th>\n",
       "      <td>33.0</td>\n",
       "      <td>1.0</td>\n",
       "      <td>86.5000</td>\n",
       "      <td>0.0</td>\n",
       "      <td>760.0</td>\n",
       "      <td>0.0</td>\n",
       "      <td>1.0</td>\n",
       "    </tr>\n",
       "    <tr>\n",
       "      <th>Dona</th>\n",
       "      <td>39.0</td>\n",
       "      <td>3.0</td>\n",
       "      <td>108.9000</td>\n",
       "      <td>0.0</td>\n",
       "      <td>1306.0</td>\n",
       "      <td>0.0</td>\n",
       "      <td>NaN</td>\n",
       "    </tr>\n",
       "    <tr>\n",
       "      <th>Dr</th>\n",
       "      <td>49.0</td>\n",
       "      <td>1.0</td>\n",
       "      <td>25.9292</td>\n",
       "      <td>0.0</td>\n",
       "      <td>797.0</td>\n",
       "      <td>0.0</td>\n",
       "      <td>1.0</td>\n",
       "    </tr>\n",
       "    <tr>\n",
       "      <th>Lady</th>\n",
       "      <td>48.0</td>\n",
       "      <td>3.0</td>\n",
       "      <td>39.6000</td>\n",
       "      <td>0.0</td>\n",
       "      <td>557.0</td>\n",
       "      <td>1.0</td>\n",
       "      <td>1.0</td>\n",
       "    </tr>\n",
       "    <tr>\n",
       "      <th>Miss</th>\n",
       "      <td>30.0</td>\n",
       "      <td>3.0</td>\n",
       "      <td>99.9625</td>\n",
       "      <td>0.0</td>\n",
       "      <td>529.5</td>\n",
       "      <td>0.0</td>\n",
       "      <td>1.0</td>\n",
       "    </tr>\n",
       "    <tr>\n",
       "      <th>Mrs</th>\n",
       "      <td>45.0</td>\n",
       "      <td>2.0</td>\n",
       "      <td>78.1125</td>\n",
       "      <td>0.0</td>\n",
       "      <td>853.5</td>\n",
       "      <td>1.0</td>\n",
       "      <td>1.0</td>\n",
       "    </tr>\n",
       "    <tr>\n",
       "      <th rowspan=\"2\" valign=\"top\">2</th>\n",
       "      <th>Miss</th>\n",
       "      <td>20.0</td>\n",
       "      <td>1.0</td>\n",
       "      <td>19.5000</td>\n",
       "      <td>0.0</td>\n",
       "      <td>597.0</td>\n",
       "      <td>0.0</td>\n",
       "      <td>1.0</td>\n",
       "    </tr>\n",
       "    <tr>\n",
       "      <th>Mrs</th>\n",
       "      <td>30.5</td>\n",
       "      <td>1.0</td>\n",
       "      <td>26.0000</td>\n",
       "      <td>0.0</td>\n",
       "      <td>547.0</td>\n",
       "      <td>1.0</td>\n",
       "      <td>1.0</td>\n",
       "    </tr>\n",
       "    <tr>\n",
       "      <th rowspan=\"2\" valign=\"top\">3</th>\n",
       "      <th>Miss</th>\n",
       "      <td>18.0</td>\n",
       "      <td>1.0</td>\n",
       "      <td>8.0500</td>\n",
       "      <td>0.0</td>\n",
       "      <td>613.0</td>\n",
       "      <td>0.0</td>\n",
       "      <td>0.5</td>\n",
       "    </tr>\n",
       "    <tr>\n",
       "      <th>Mrs</th>\n",
       "      <td>31.0</td>\n",
       "      <td>1.0</td>\n",
       "      <td>15.5000</td>\n",
       "      <td>1.0</td>\n",
       "      <td>658.0</td>\n",
       "      <td>1.0</td>\n",
       "      <td>0.5</td>\n",
       "    </tr>\n",
       "  </tbody>\n",
       "</table>\n",
       "</div>"
      ],
      "text/plain": [
       "                      Age  Embarked      Fare  Parch  PassengerId  SibSp  \\\n",
       "Sex Pclass Title                                                           \n",
       "0   1      Countess  33.0       1.0   86.5000    0.0        760.0    0.0   \n",
       "           Dona      39.0       3.0  108.9000    0.0       1306.0    0.0   \n",
       "           Dr        49.0       1.0   25.9292    0.0        797.0    0.0   \n",
       "           Lady      48.0       3.0   39.6000    0.0        557.0    1.0   \n",
       "           Miss      30.0       3.0   99.9625    0.0        529.5    0.0   \n",
       "           Mrs       45.0       2.0   78.1125    0.0        853.5    1.0   \n",
       "    2      Miss      20.0       1.0   19.5000    0.0        597.0    0.0   \n",
       "           Mrs       30.5       1.0   26.0000    0.0        547.0    1.0   \n",
       "    3      Miss      18.0       1.0    8.0500    0.0        613.0    0.0   \n",
       "           Mrs       31.0       1.0   15.5000    1.0        658.0    1.0   \n",
       "\n",
       "                     Survived  \n",
       "Sex Pclass Title               \n",
       "0   1      Countess       1.0  \n",
       "           Dona           NaN  \n",
       "           Dr             1.0  \n",
       "           Lady           1.0  \n",
       "           Miss           1.0  \n",
       "           Mrs            1.0  \n",
       "    2      Miss           1.0  \n",
       "           Mrs            1.0  \n",
       "    3      Miss           0.5  \n",
       "           Mrs            0.5  "
      ]
     },
     "execution_count": 14,
     "metadata": {},
     "output_type": "execute_result"
    }
   ],
   "source": [
    "df.groupby(['Sex','Pclass','Title']).aggregate(np.median).head(10)  # groub them by the features and get the median value\n",
    "# so the title actually matters !\n",
    "#( but survived changes the value when Pclass changes: as you can see Miss survival changed when she was on Pclass 1 and 2 )\n",
    "# we have to search ages by using the 3 of them ('Sex','Pclass','Title')"
   ]
  },
  {
   "cell_type": "markdown",
   "metadata": {},
   "source": [
    "### well, it does ! so we will use it to help us fill the na values on the 'Age' column "
   ]
  },
  {
   "cell_type": "markdown",
   "metadata": {},
   "source": [
    "### filling the 'Age'(given the Pclass,Sex,Title) and the 'Embarked' nans "
   ]
  },
  {
   "cell_type": "code",
   "execution_count": 15,
   "metadata": {
    "collapsed": true
   },
   "outputs": [],
   "source": [
    "# filling the Age nans by using the 3 features \n",
    "for a in df.Sex.unique():\n",
    "        for b in df.Pclass.unique():\n",
    "            for c in df.loc[(df['Sex']==a) & (df['Pclass']==b),'Title'].unique():\n",
    "                # get the median Age of the not-null Ages that fit the condition \n",
    "                the_median=df.loc[(pd.notnull(df['Age'])) & (df['Pclass']==b) &\n",
    "                                       (df['Sex']==a) & (df['Title']==c),'Age'].median()\n",
    "\n",
    "               # set the median Age on the null Ages that fit the condition \n",
    "                df.loc[(pd.isnull(df['Age'])) & (df['Pclass']==b) & \n",
    "                                  (df['Sex']==a) &(df['Title']==c),'Age']=the_median\n",
    "\n",
    "#filling the nans on the 'Embarked'\n",
    "#df.loc[pd.isnull(df['Embarked'])]#61,829 # less than training_data_length(891) so the nulls on the training data \n",
    "# dropping them \n",
    "df=df.drop((df.index[pd.isnull(df['Embarked'])])) #61,829\n",
    "training_data_length=training_data_length-2                 \n",
    "\n",
    "#(df[pd.isnull(df['Age'])])#no nulls \n",
    "#df[pd.isnull(df['Embarked'])]#no nulls "
   ]
  },
  {
   "cell_type": "code",
   "execution_count": 16,
   "metadata": {},
   "outputs": [
    {
     "data": {
      "text/plain": [
       "Index(['Age', 'Cabin', 'Embarked', 'Fare', 'Parch', 'PassengerId', 'Pclass',\n",
       "       'Sex', 'SibSp', 'Survived', 'Ticket', 'Title'],\n",
       "      dtype='object')"
      ]
     },
     "execution_count": 16,
     "metadata": {},
     "output_type": "execute_result"
    }
   ],
   "source": [
    "df.columns"
   ]
  },
  {
   "cell_type": "code",
   "execution_count": 17,
   "metadata": {
    "scrolled": true
   },
   "outputs": [
    {
     "name": "stdout",
     "output_type": "stream",
     "text": [
      "for the column Age : [22.   38.   26.   35.   54.    2.   27.   14.    4.   58.   20.   39.\n",
      " 55.   30.   31.   34.   15.   28.    8.   19.   18.   40.   45.   66.\n",
      " 42.   21.    3.    7.   49.   29.   65.   41.5  28.5   5.   11.    6.\n",
      " 17.   32.   16.   25.    0.83 33.   23.   24.   46.   59.   71.   37.\n",
      " 47.   14.5  70.5  32.5  12.    9.   36.5  51.   55.5  40.5  44.    1.\n",
      " 61.   56.   50.   36.   45.5  20.5  62.   41.   52.   63.   23.5   0.92\n",
      " 43.   60.   10.   64.   13.   48.    0.75 53.   57.   80.   70.   24.5\n",
      "  0.67 30.5   0.42 34.5  74.   22.5  18.5  67.   76.   26.5  60.5  11.5\n",
      "  0.33  0.17 38.5 ]\n",
      "for the column Cabin : [8 3 5 7 4 1 2 6]\n",
      "for the column Embarked : [1. 3. 2.]\n",
      "for the column Fare : [  7.25    71.2833   7.925   53.1      8.05     8.4583  51.8625  21.075\n",
      "  11.1333  30.0708  16.7     26.55    31.275    7.8542  16.      29.125\n",
      "  13.      18.       7.225   26.       8.0292  35.5     31.3875 263.\n",
      "   7.8792   7.8958  27.7208 146.5208   7.75    10.5     82.1708  52.\n",
      "   7.2292  11.2417   9.475   21.      41.5792  15.5     21.6792  17.8\n",
      "  39.6875   7.8     76.7292  61.9792  27.75    46.9     83.475   27.9\n",
      "  15.2458   8.1583   8.6625  73.5     14.4542  56.4958   7.65    29.\n",
      "  12.475    9.       9.5      7.7875  47.1     15.85    34.375   61.175\n",
      "  20.575   34.6542  63.3583  23.      77.2875   8.6542   7.775   24.15\n",
      "   9.825   14.4583 247.5208   7.1417  22.3583   6.975    7.05    14.5\n",
      "  15.0458  26.2833   9.2167  79.2      6.75    11.5     36.75     7.7958\n",
      "  12.525   66.6      7.3125  61.3792   7.7333  69.55    16.1     15.75\n",
      "  20.525   55.      25.925   33.5     30.6958  25.4667  28.7125   0.\n",
      "  15.05    39.      22.025   50.       8.4042   6.4958  10.4625  18.7875\n",
      "  31.     113.275   27.      76.2917  90.       9.35    13.5      7.55\n",
      "  26.25    12.275    7.125   52.5542  20.2125  86.5    512.3292  79.65\n",
      " 153.4625 135.6333  19.5     29.7     77.9583  20.25    78.85    91.0792\n",
      "  12.875    8.85   151.55    30.5     23.25    12.35   110.8833 108.9\n",
      "  24.      56.9292  83.1583 262.375   14.     164.8667 134.5      6.2375\n",
      "  57.9792  28.5    133.65    15.9      9.225   35.      75.25    69.3\n",
      "  55.4417 211.5      4.0125 227.525   15.7417   7.7292  12.     120.\n",
      "  12.65    18.75     6.8583  32.5      7.875   14.4     55.9      8.1125\n",
      "  81.8583  19.2583  19.9667  89.1042  38.5      7.725   13.7917   9.8375\n",
      "   7.0458   7.5208  12.2875   9.5875  49.5042  78.2667  15.1      7.6292\n",
      "  22.525   26.2875  59.4      7.4958  34.0208  93.5    221.7792 106.425\n",
      "  49.5     71.      13.8625   7.8292  39.6     17.4     51.4792  26.3875\n",
      "  30.      40.125    8.7125  15.      33.      42.4     15.55    65.\n",
      "  32.3208   7.0542   8.4333  25.5875   9.8417   8.1375  10.1708 211.3375\n",
      "  57.      13.4167   7.7417   9.4833   7.7375   8.3625  23.45    25.9292\n",
      "   8.6833   8.5167   7.8875  37.0042   6.45     6.95     8.3      6.4375\n",
      "  39.4     14.1083  13.8583  50.4958   5.       9.8458  10.5167   7.\n",
      "   9.6875  82.2667   3.1708  31.6833  31.5     57.75     7.85    60.\n",
      "  15.0333  15.5792  28.5375  25.7     10.7083  13.9      7.8208   7.7792\n",
      "  31.6792   7.2833  75.2417  12.1833  13.775    8.9625  25.7417  42.5\n",
      "  27.4458 136.7792   9.325   12.7375  45.5      7.575    7.5792   7.7208]\n",
      "for the column Parch : [0 1 2 5 3 4 6 9]\n",
      "for the column PassengerId : [   1    2    3 ... 1307 1308 1309]\n",
      "for the column Pclass : [3 1 2]\n",
      "for the column Sex : [1 0]\n",
      "for the column SibSp : [1 0 3 4 2 5 8]\n",
      "for the column Survived : [ 0.  1. nan]\n",
      "for the column Ticket : ['A/5' 'PC' 'STON/O2.' '113' '373' '330' '174' '349' '347' '237' 'PP'\n",
      " 'A/5.' '350' '248' '382' '244' '345' '264' '239' '263' '199' '335' 'C.A.'\n",
      " '267' 'A./5.' '265' '754' '116' 'SC/Paris' 'S.C./A.4.' '370' '143' '266'\n",
      " '310' 'A/4.' '292' '269' 'CA' '369' 'S.P.' '315' 'S.O.C.' '268' '160'\n",
      " '348' '374' '364' 'SO/C' 'W./C.' 'SOTON/OQ' '343' 'W.E.P.' '231' '352'\n",
      " '312' '371' '110' '324' '413' '262' 'STON/O' 'A4.' '272' 'C' 'SOTON/O.Q.'\n",
      " '228' 'SC/PARIS' '117' '753' '365' '230' 'S.O.P.' 'A.5.' 'Fa' '358' 'CA.'\n",
      " '363' '111' '177' '250' 'LIN' '234' '284' '368' '457' '367' '112'\n",
      " 'F.C.C.' '243' '118' 'W/C' '220' '214' 'SW/PP' '236' '286' 'SCO/W' '362'\n",
      " '384' '135' '336' '198' '119' '923' '226' 'P/PP' '290' '169' '285' '759'\n",
      " '229' '314' '386' '726' '323' '278' 'SC' '240' '341' '291' '394' '282'\n",
      " '200' '376' 'SC/AH' '653' 'A/S' '755' '346' 'A/4' '127' '270' 'WE/P'\n",
      " '693' '372' '218' 'S.W./PP' '130' '149' '546' '219' '334' '132'\n",
      " 'S.O./P.P.' '847' '297' '572' 'F.C.' '342' '656' '241' '223' '122' '233'\n",
      " '392' 'SOTON/O2' '383' '124' 'S.C./PARIS' '222' '281' '695' 'C.A./SOTON'\n",
      " '211' '694' '212' '136' 'SC/A.3' '254' '359' '139' '329' 'STON/OQ.'\n",
      " 'SC/A4' '793' '235' '280' '242' 'AQ/4' 'A.' 'LP' 'AQ/3.' '680' '366'\n",
      " '213' '2668']\n",
      "for the column Title : ['Mr' 'Mrs' 'Miss' 'Master' 'Don' 'Rev' 'Dr' 'Major' 'Lady' 'Sir' 'Col'\n",
      " 'Capt' 'Countess' 'Jonkheer' 'Dona']\n"
     ]
    }
   ],
   "source": [
    "for i in df.columns:\n",
    "     print ('for the column %s :'%i,df[i].unique())\n",
    "    "
   ]
  },
  {
   "cell_type": "markdown",
   "metadata": {},
   "source": [
    "### looking at the unique values for the columns "
   ]
  },
  {
   "cell_type": "code",
   "execution_count": 18,
   "metadata": {
    "scrolled": false
   },
   "outputs": [
    {
     "name": "stdout",
     "output_type": "stream",
     "text": [
      "survived :  [ 0.  1. nan]\n",
      "Sex :  [1 0]\n",
      "Pclass :  [3 1 2]\n",
      "SibSp : [1 0 3 4 2 5 8]\n",
      "Embarked :  [1. 3. 2.]\n",
      "Parch :  [0 1 2 5 3 4 6 9]\n",
      "Cabin : [8 3 5 7 4 1 2 6]\n",
      "Age : [22.   38.   26.   35.   54.    2.   27.   14.    4.   58.   20.   39.\n",
      " 55.   30.   31.   34.   15.   28.    8.   19.   18.   40.   45.   66.\n",
      " 42.   21.    3.    7.   49.   29.   65.   41.5  28.5   5.   11.    6.\n",
      " 17.   32.   16.   25.    0.83 33.   23.   24.   46.   59.   71.   37.\n",
      " 47.   14.5  70.5  32.5  12.    9.   36.5  51.   55.5  40.5  44.    1.\n",
      " 61.   56.   50.   36.   45.5  20.5  62.   41.   52.   63.   23.5   0.92\n",
      " 43.   60.   10.   64.   13.   48.    0.75 53.   57.   80.   70.   24.5\n",
      "  0.67 30.5   0.42 34.5  74.   22.5  18.5  67.   76.   26.5  60.5  11.5\n",
      "  0.33  0.17 38.5 ]\n"
     ]
    }
   ],
   "source": [
    "print('survived : ', df.Survived.unique())\n",
    "print('Sex : ',df.Sex.unique())  # 1 for male , 0 for female \n",
    "print('Pclass : ',df.Pclass.unique())#Ticket class\n",
    "print('SibSp :',df.SibSp.unique())# of siblings / spouses aboard the Titanic\n",
    "print('Embarked : ',df.Embarked.unique()) # Port of Embarkation C = Cherbourg, Q = Queenstown, S = Southampton\n",
    "print('Parch : ',df.Parch.unique())# of parents / children aboard the Titanic\n",
    "print('Cabin :',df.Cabin.unique())\n",
    "print('Age :',df.Age.unique())\n",
    "#print(df['Fare']) # the ticket cost  # bad idea ... (alot of unique values)\n",
    "# the only nans are the survived on the testing data "
   ]
  },
  {
   "cell_type": "markdown",
   "metadata": {},
   "source": [
    "## plots to show the relationship with survival rate and some columns "
   ]
  },
  {
   "cell_type": "code",
   "execution_count": 19,
   "metadata": {},
   "outputs": [
    {
     "name": "stdout",
     "output_type": "stream",
     "text": [
      "so having relations have an effective percentage of the survival \n"
     ]
    },
    {
     "data": {
      "image/png": "[encoded data removed]",
      "text/plain": [
       "<matplotlib.figure.Figure at 0x1ec1156f2b0>"
      ]
     },
     "metadata": {},
     "output_type": "display_data"
    }
   ],
   "source": [
    "fig,ax=plt.subplots(1,5,figsize=(17,5))\n",
    "sns.barplot(df['Embarked'],df['Survived'],ci=False,ax=ax[0])\n",
    "sns.barplot(df['SibSp'],df['Survived'],ci=False,ax=ax[1]);ax[1].set_ylabel('')\n",
    "sns.barplot(df['Parch'],df['Survived'],ci=False,ax=ax[2]);ax[2].set_ylabel('')\n",
    "\n",
    "df['relations']=df['SibSp']+df['Parch']\n",
    "sns.barplot(df['relations'],df['Survived'],ci=False,ax=ax[3]);ax[3].set_ylabel('')\n",
    "\n",
    "ax[4].hist2d(x=training_data['Survived'],y=training_data['Pclass']);ax[4].set_title('Survival and death desity due to Pclass')\n",
    "\n",
    "print('so having relations have an effective percentage of the survival ')"
   ]
  },
  {
   "cell_type": "code",
   "execution_count": 20,
   "metadata": {},
   "outputs": [
    {
     "data": {
      "text/html": [
       "<div>\n",
       "<style>\n",
       "    .dataframe thead tr:only-child th {\n",
       "        text-align: right;\n",
       "    }\n",
       "\n",
       "    .dataframe thead th {\n",
       "        text-align: left;\n",
       "    }\n",
       "\n",
       "    .dataframe tbody tr th {\n",
       "        vertical-align: top;\n",
       "    }\n",
       "</style>\n",
       "<table border=\"1\" class=\"dataframe\">\n",
       "  <thead>\n",
       "    <tr style=\"text-align: right;\">\n",
       "      <th></th>\n",
       "      <th>Age</th>\n",
       "      <th>Cabin</th>\n",
       "      <th>Embarked</th>\n",
       "      <th>Fare</th>\n",
       "      <th>Parch</th>\n",
       "      <th>PassengerId</th>\n",
       "      <th>Pclass</th>\n",
       "      <th>Sex</th>\n",
       "      <th>SibSp</th>\n",
       "      <th>Survived</th>\n",
       "      <th>Ticket</th>\n",
       "      <th>Title</th>\n",
       "      <th>relations</th>\n",
       "    </tr>\n",
       "  </thead>\n",
       "  <tbody>\n",
       "    <tr>\n",
       "      <th>0</th>\n",
       "      <td>22.0</td>\n",
       "      <td>8</td>\n",
       "      <td>1.0</td>\n",
       "      <td>7.2500</td>\n",
       "      <td>0</td>\n",
       "      <td>1</td>\n",
       "      <td>3</td>\n",
       "      <td>1</td>\n",
       "      <td>1</td>\n",
       "      <td>0.0</td>\n",
       "      <td>A/5</td>\n",
       "      <td>Mr</td>\n",
       "      <td>1</td>\n",
       "    </tr>\n",
       "    <tr>\n",
       "      <th>1</th>\n",
       "      <td>38.0</td>\n",
       "      <td>3</td>\n",
       "      <td>3.0</td>\n",
       "      <td>71.2833</td>\n",
       "      <td>0</td>\n",
       "      <td>2</td>\n",
       "      <td>1</td>\n",
       "      <td>0</td>\n",
       "      <td>1</td>\n",
       "      <td>1.0</td>\n",
       "      <td>PC</td>\n",
       "      <td>Mrs</td>\n",
       "      <td>1</td>\n",
       "    </tr>\n",
       "  </tbody>\n",
       "</table>\n",
       "</div>"
      ],
      "text/plain": [
       "    Age Cabin  Embarked     Fare  Parch  PassengerId  Pclass Sex  SibSp  \\\n",
       "0  22.0     8       1.0   7.2500      0            1       3   1      1   \n",
       "1  38.0     3       3.0  71.2833      0            2       1   0      1   \n",
       "\n",
       "   Survived Ticket Title  relations  \n",
       "0       0.0    A/5    Mr          1  \n",
       "1       1.0     PC   Mrs          1  "
      ]
     },
     "execution_count": 20,
     "metadata": {},
     "output_type": "execute_result"
    }
   ],
   "source": [
    "df[:training_data_length].head(2)"
   ]
  },
  {
   "cell_type": "code",
   "execution_count": 21,
   "metadata": {
    "scrolled": true
   },
   "outputs": [
    {
     "data": {
      "text/plain": [
       "<matplotlib.text.Text at 0x1ec11cbf710>"
      ]
     },
     "execution_count": 21,
     "metadata": {},
     "output_type": "execute_result"
    },
    {
     "data": {
      "image/png": "[encoded data removed]",
      "text/plain": [
       "<matplotlib.figure.Figure at 0x1ec11a349b0>"
      ]
     },
     "metadata": {},
     "output_type": "display_data"
    }
   ],
   "source": [
    "fig,ax=plt.subplots(1,5,figsize=(18,4))\n",
    "sns.barplot(df['Cabin'],df['Survived']==1,ci=False,ax=ax[0]); ax[0].set_title('who survived');ax[0].set_ylabel(' ')\n",
    "sns.barplot(df['Cabin'],df['Survived']==0,ci=False,ax=ax[1]); ax[1].set_title('who didn\\'t survive');ax[1].set_ylabel(' ')\n",
    "#df.Sex.plot('hist')\n",
    "ax[2].hist(df.Sex);ax[2].set_title('the sex count')\n",
    "ax[3].hist(training_data.Survived);ax[3].set_title('the Survived count on training data ')\n",
    "ax[4].scatter(df['Pclass'],df['Cabin'],s=200) # s : the size of the dotts\n",
    "ax[4].set_xlabel('The Pclass');ax[4].set_ylabel('Cabins');ax[4].set_title('Pclass regression  in cabins')"
   ]
  },
  {
   "cell_type": "markdown",
   "metadata": {},
   "source": [
    "# Sex vs Cabins vs Survival "
   ]
  },
  {
   "cell_type": "code",
   "execution_count": 22,
   "metadata": {},
   "outputs": [
    {
     "data": {
      "text/plain": [
       "<matplotlib.text.Text at 0x1ec12124dd8>"
      ]
     },
     "execution_count": 22,
     "metadata": {},
     "output_type": "execute_result"
    },
    {
     "data": {
      "image/png": "[encoded data removed]",
      "text/plain": [
       "<matplotlib.figure.Figure at 0x1ec11ff2ef0>"
      ]
     },
     "metadata": {},
     "output_type": "display_data"
    }
   ],
   "source": [
    "fig,ax=plt.subplots(2,2,figsize=(6,6))\n",
    "fig.suptitle('plotting the Sex vs (putted Cabins) vs survival')\n",
    "sns.countplot('Cabin',data=df.loc[((df.Cabin!=8) & (df.Sex==0) & (df.Survived==0))],ax=ax[0,0]);ax[0,0].set_ylabel('didn\\'t survive count');ax[0,0].set_xlabel('');ax[0,0].set_title('females')\n",
    "sns.countplot('Cabin',data=df.loc[((df.Cabin!=8) & (df.Sex==1)& (df.Survived==0))],ax=ax[0,1]);ax[0,1].set_ylabel('');ax[0,1].set_xlabel('');ax[0,1].set_title('males')\n",
    "sns.countplot('Cabin',data=df.loc[((df.Cabin!=8) & (df.Sex==0)& (df.Survived==1))],ax=ax[1,0]);ax[1,0].set_ylabel('Survival count');ax[1,0].set_xlabel('')\n",
    "sns.countplot('Cabin',data=df.loc[((df.Cabin!=8) & (df.Sex==1)& (df.Survived==1))],ax=ax[1,1]);ax[1,1].set_ylabel('');ax[1,1].set_xlabel('')"
   ]
  },
  {
   "cell_type": "code",
   "execution_count": 23,
   "metadata": {
    "collapsed": true
   },
   "outputs": [],
   "source": [
    "# making a dataFrame to plot the people who didn't Survive\n",
    "temp=df[:training_data_length]\n",
    "temp2=temp.copy() # replace 0 to 1 and 1 to 0 for the plotting \n",
    "temp2['Survived']=temp2['Survived'].replace(0,np.int32(2))\n",
    "temp2['Survived']=temp2['Survived'].replace(1,np.int32(0))\n",
    "temp2['Survived']=temp2['Survived'].replace(2,np.int32(1))\n",
    "temp2['Age_Classification']=(temp2.loc[:,'Age']/40).astype(int)"
   ]
  },
  {
   "cell_type": "code",
   "execution_count": 24,
   "metadata": {},
   "outputs": [
    {
     "data": {
      "text/plain": [
       "[(0, 1.1), (0.43, 70)]"
      ]
     },
     "execution_count": 24,
     "metadata": {},
     "output_type": "execute_result"
    },
    {
     "data": {
      "image/png": "[encoded data removed]",
      "text/plain": [
       "<matplotlib.figure.Figure at 0x1ec11f1e780>"
      ]
     },
     "metadata": {},
     "output_type": "display_data"
    }
   ],
   "source": [
    "temp=df[:training_data_length] # i made it because there is nulls on the age for the training \n",
    "fig,ax=plt.subplots(1,4,figsize=(18,6))\n",
    "\n",
    "a=sns.regplot(data=temp,x='Age',y='Survived',ci=False,order=5,ax=ax[0])\n",
    "a.set(xlim=(0.43, 70),ylim=(0,1.1))\n",
    "w=sns.barplot(temp['Age'],temp['Survived']==1,ci=None,ax=ax[1]) # survived !\n",
    "w.set(ylabel='Survived')\n",
    "\n",
    "\n",
    "w=sns.barplot(temp['Age'],temp['Survived']==0,ci=None,ax=ax[2])\n",
    "w.set( ylabel='didn\\'t survive')\n",
    "a=sns.regplot(data=temp2,x='Age',y='Survived',ci=False,order=5,ax=ax[3])#,set_ylabel('dd'))\n",
    "a.set_ylabel('didn\\'t survive')\n",
    "a.set(xlim=(0.43, 70),ylim=(0,1.1))\n",
    "#a.legend(['survived','didn\\'t survive'])# "
   ]
  },
  {
   "cell_type": "code",
   "execution_count": 25,
   "metadata": {
    "scrolled": true
   },
   "outputs": [
    {
     "name": "stdout",
     "output_type": "stream",
     "text": [
      "80.0\n",
      "0.42\n"
     ]
    }
   ],
   "source": [
    "print(np.max(temp.Age))\n",
    "print(np.min(temp.Age))"
   ]
  },
  {
   "cell_type": "code",
   "execution_count": 26,
   "metadata": {},
   "outputs": [
    {
     "data": {
      "text/plain": [
       "<matplotlib.axes._subplots.AxesSubplot at 0x1ec11da26a0>"
      ]
     },
     "execution_count": 26,
     "metadata": {},
     "output_type": "execute_result"
    },
    {
     "data": {
      "image/png": "[encoded data removed]",
      "text/plain": [
       "<matplotlib.figure.Figure at 0x1ec11784a58>"
      ]
     },
     "metadata": {},
     "output_type": "display_data"
    }
   ],
   "source": [
    "sns.distplot(temp['Age'][temp['Survived']==1],label='Survived', hist=False)\n",
    "sns.distplot(temp['Age'][temp['Survived']==0], hist=False,label='Didn\\'t survive')"
   ]
  },
  {
   "cell_type": "code",
   "execution_count": 27,
   "metadata": {},
   "outputs": [
    {
     "data": {
      "text/plain": [
       "<seaborn.axisgrid.FacetGrid at 0x1ec11559d30>"
      ]
     },
     "execution_count": 27,
     "metadata": {},
     "output_type": "execute_result"
    },
    {
     "data": {
      "image/png": "[encoded data removed]",
      "text/plain": [
       "<matplotlib.figure.Figure at 0x1ec11559e80>"
      ]
     },
     "metadata": {},
     "output_type": "display_data"
    }
   ],
   "source": [
    "grid =sns.FacetGrid(training_data,row='Survived',col='Sex',margin_titles=True) # FaceGrid : it makes the histograms ready in seaborn \n",
    "                                                # margin_titles : to make the titles show on like its a data frames ( on the side and top )\n",
    "grid.map(plt.hist,'Pclass')"
   ]
  },
  {
   "cell_type": "code",
   "execution_count": 28,
   "metadata": {},
   "outputs": [
    {
     "data": {
      "text/html": [
       "<div>\n",
       "<style>\n",
       "    .dataframe thead tr:only-child th {\n",
       "        text-align: right;\n",
       "    }\n",
       "\n",
       "    .dataframe thead th {\n",
       "        text-align: left;\n",
       "    }\n",
       "\n",
       "    .dataframe tbody tr th {\n",
       "        vertical-align: top;\n",
       "    }\n",
       "</style>\n",
       "<table border=\"1\" class=\"dataframe\">\n",
       "  <thead>\n",
       "    <tr style=\"text-align: right;\">\n",
       "      <th></th>\n",
       "      <th>Age</th>\n",
       "      <th>Cabin</th>\n",
       "      <th>Embarked</th>\n",
       "      <th>Fare</th>\n",
       "      <th>Parch</th>\n",
       "      <th>PassengerId</th>\n",
       "      <th>Pclass</th>\n",
       "      <th>Sex</th>\n",
       "      <th>SibSp</th>\n",
       "      <th>Survived</th>\n",
       "      <th>Ticket</th>\n",
       "      <th>Title</th>\n",
       "      <th>relations</th>\n",
       "    </tr>\n",
       "  </thead>\n",
       "  <tbody>\n",
       "    <tr>\n",
       "      <th>745</th>\n",
       "      <td>70.0</td>\n",
       "      <td>2</td>\n",
       "      <td>1.0</td>\n",
       "      <td>71.0</td>\n",
       "      <td>1</td>\n",
       "      <td>746</td>\n",
       "      <td>1</td>\n",
       "      <td>1</td>\n",
       "      <td>1</td>\n",
       "      <td>0.0</td>\n",
       "      <td>WE/P</td>\n",
       "      <td>Capt</td>\n",
       "      <td>2</td>\n",
       "    </tr>\n",
       "  </tbody>\n",
       "</table>\n",
       "</div>"
      ],
      "text/plain": [
       "      Age Cabin  Embarked  Fare  Parch  PassengerId  Pclass Sex  SibSp  \\\n",
       "745  70.0     2       1.0  71.0      1          746       1   1      1   \n",
       "\n",
       "     Survived Ticket Title  relations  \n",
       "745       0.0   WE/P  Capt          2  "
      ]
     },
     "execution_count": 28,
     "metadata": {},
     "output_type": "execute_result"
    }
   ],
   "source": [
    "# is the titanic movie right about the captin death tho ? \n",
    "df[df['Title']=='Capt']\n",
    "#the captin of the titanic didn't survive...\n",
    "# well, that was sad lol "
   ]
  },
  {
   "cell_type": "code",
   "execution_count": 29,
   "metadata": {
    "collapsed": true
   },
   "outputs": [],
   "source": [
    "#plt.scatter(training_data['Survived'],training_data['Fare'])\n",
    "# and ladies and gentlements , we take from this plot that the people who payed about 500 pounds simply survived (at least in the training data )\n",
    "# unhash code to see it with your eyes"
   ]
  },
  {
   "cell_type": "markdown",
   "metadata": {},
   "source": [
    "### making dummies for training and testing data (for 'Title','Cabin','Pclass','Embarked')"
   ]
  },
  {
   "cell_type": "code",
   "execution_count": 30,
   "metadata": {
    "collapsed": true
   },
   "outputs": [],
   "source": [
    "dummies_titles = pd.get_dummies(df['Title'],prefix='Title')\n",
    "df = pd.concat([df,dummies_titles],axis=1)\n",
    "\n",
    "\n",
    "dummies_titles = pd.get_dummies(df['Cabin'],prefix='Cabin')\n",
    "df = pd.concat([df,dummies_titles],axis=1)\n",
    "\n",
    "\n",
    "dummies_titles = pd.get_dummies(df['Pclass'],prefix='Pclass')\n",
    "df = pd.concat([df,dummies_titles],axis=1)\n",
    "\n",
    "\n",
    "dummies_titles = pd.get_dummies(df['Embarked'],prefix='Embarked')\n",
    "df = pd.concat([df,dummies_titles],axis=1)\n",
    "\n",
    "# deleting the columns that we changed \n",
    "del df['Title'] ; del df['Cabin'] ; del df['Pclass'] ; del df['Embarked']\n",
    "del df['PassengerId']\n",
    "\n",
    "del df['Ticket']\n"
   ]
  },
  {
   "cell_type": "markdown",
   "metadata": {},
   "source": [
    "### getting the training data and testing data to their normal form"
   ]
  },
  {
   "cell_type": "code",
   "execution_count": 31,
   "metadata": {},
   "outputs": [
    {
     "name": "stdout",
     "output_type": "stream",
     "text": [
      "the length of the training data is  36\n",
      " the length of the testing data is  35\n"
     ]
    }
   ],
   "source": [
    "training_data = df[:training_data_length].copy()\n",
    "training_data=training_data.reset_index(drop=True)\n",
    "\n",
    "testing_data = df[training_data_length:].copy()\n",
    "testing_data=testing_data.reset_index(drop=True)\n",
    "\n",
    "del testing_data['Survived'] # it is generated as nan by the first concat (while gathering the data )\n",
    "\n",
    "print ('the length of the training data is ',len(training_data.columns)) # the normal columns and the \"Survived\" column\n",
    "print (' the length of the testing data is ',len(testing_data.columns))"
   ]
  },
  {
   "cell_type": "code",
   "execution_count": 33,
   "metadata": {
    "collapsed": true
   },
   "outputs": [],
   "source": [
    "del training_data['Cabin_8']\n",
    "del testing_data['Cabin_8']\n",
    "\n",
    "\n",
    "training_x=training_data.copy()\n",
    "del training_x['Survived']\n",
    "training_y =training_data['Survived'].copy()\n",
    "\n",
    "testing=testing_data.copy()"
   ]
  },
  {
   "cell_type": "code",
   "execution_count": 34,
   "metadata": {},
   "outputs": [
    {
     "name": "stdout",
     "output_type": "stream",
     "text": [
      "[0. 1. 0.]\n"
     ]
    }
   ],
   "source": [
    "from sklearn.linear_model import LogisticRegression\n",
    "\n",
    "logistic=LogisticRegression()\n",
    "ss=logistic.fit(training_x,training_y)\n",
    "result=logistic.predict(testing)\n",
    "\n",
    "print(result[:3]) # ok,everything is good\n",
    "\n",
    "\n",
    "\n",
    "df=pd.concat([pd.read_csv('test.csv',usecols=[0]),pd.DataFrame({'Survived':result})],axis=1).set_index('PassengerId')\n",
    "df.Survived=df.Survived.astype(int)\n",
    "\n",
    "df.to_csv('result.csv')\n",
    "# and from that we got 0.78947 on kaggle "
   ]
  },
  {
   "cell_type": "markdown",
   "metadata": {},
   "source": [
    "### so from here we just check the other models (maybe some model can do better )"
   ]
  },
  {
   "cell_type": "code",
   "execution_count": 39,
   "metadata": {},
   "outputs": [
    {
     "name": "stdout",
     "output_type": "stream",
     "text": [
      "the logistic_scores accuracy score is  0.8279311877102774\n",
      "kNeibours_scores accuracy score is  0.7210563067352249\n",
      "the tree_scores accuracy score is  0.775039674982543\n",
      "the forest_scores accuracy score is  0.7964133815781121\n",
      "the linearRegression_scores accuracy score is  0.39242678498480166\n",
      "the svc_scores accuracy score is  0.7300704627689963\n",
      "the svr_scores accuracy score is  0.2187448870913966\n"
     ]
    }
   ],
   "source": [
    "trying=full_data[0].copy()\n",
    "#del trying['Cabin_8'] # deleting it or not doesn't matter much so i'm keeping it anyway \n",
    "training_x=trying.copy()\n",
    "del training_x['Survived']\n",
    "training_y =trying['Survived'].copy()\n",
    "\n",
    "\n",
    "\n",
    "\n",
    "from sklearn.model_selection import cross_val_score\n",
    "\n",
    "from sklearn.linear_model import LogisticRegression\n",
    "logistic =LogisticRegression()\n",
    "\n",
    "from sklearn.neighbors import KNeighborsClassifier\n",
    "kNeibours=KNeighborsClassifier(n_neighbors=3)\n",
    "\n",
    "from sklearn.tree import DecisionTreeClassifier\n",
    "tree=DecisionTreeClassifier()\n",
    "\n",
    "from sklearn.tree import DecisionTreeRegressor\n",
    "regressor=DecisionTreeRegressor()\n",
    "\n",
    "from sklearn.ensemble import RandomForestClassifier\n",
    "forest=RandomForestClassifier()\n",
    "\n",
    "from sklearn.linear_model import LinearRegression\n",
    "linearRegression=LinearRegression()\n",
    "\n",
    "from sklearn.svm import SVR\n",
    "svr=SVR()\n",
    "\n",
    "from sklearn.svm import SVC\n",
    "svc=SVC()\n",
    "\n",
    "\n",
    "logistic_scores=cross_val_score(logistic,training_x,training_y,cv=5)\n",
    "kNeibours_scores=cross_val_score(kNeibours,training_x,training_y,cv=5)\n",
    "tree_scores=cross_val_score(tree,training_x,training_y,cv=5)\n",
    "forest_scores=cross_val_score(forest,training_x,training_y,cv=5)\n",
    "linearRegression_scores=cross_val_score(linearRegression,training_x,training_y,cv=5)\n",
    "svc_scores=cross_val_score(svc,training_x,training_y,cv=5)\n",
    "svr_scores=cross_val_score(svr,training_x,training_y,cv=5)\n",
    "\n",
    "\n",
    "print ('the logistic_scores accuracy score is ',np.average(logistic_scores))\n",
    "print ('kNeibours_scores accuracy score is ',np.average(kNeibours_scores))\n",
    "print ('the tree_scores accuracy score is ',np.average(tree_scores))\n",
    "print ('the forest_scores accuracy score is ',np.average(forest_scores))\n",
    "print ('the linearRegression_scores accuracy score is ',np.average(linearRegression_scores))\n",
    "print ('the svc_scores accuracy score is ',np.average(svc_scores))\n",
    "print ('the svr_scores accuracy score is ',np.average(svr_scores))"
   ]
  },
  {
   "cell_type": "markdown",
   "metadata": {},
   "source": [
    "### LogisticRegressionand, forest and the tree  are the best here !  "
   ]
  },
  {
   "cell_type": "markdown",
   "metadata": {},
   "source": [
    "# from here we see that our logistic regression is the best one of them and the others have less accuracy."
   ]
  },
  {
   "cell_type": "markdown",
   "metadata": {},
   "source": [
    "# how to plot the importance of the columns ?! "
   ]
  },
  {
   "cell_type": "code",
   "execution_count": 40,
   "metadata": {},
   "outputs": [
    {
     "name": "stdout",
     "output_type": "stream",
     "text": [
      "<bound method deprecated._decorate_fun.<locals>.wrapped of LogisticRegression(C=1.0, class_weight=None, dual=False, fit_intercept=True,\n",
      "          intercept_scaling=1, max_iter=100, multi_class='ovr', n_jobs=1,\n",
      "          penalty='l2', random_state=None, solver='liblinear', tol=0.0001,\n",
      "          verbose=0, warm_start=False)>\n"
     ]
    },
    {
     "data": {
      "text/plain": [
       "<matplotlib.axes._subplots.AxesSubplot at 0x272d316f748>"
      ]
     },
     "execution_count": 40,
     "metadata": {},
     "output_type": "execute_result"
    },
    {
     "data": {
      "image/png": "[encoded data removed]",
      "text/plain": [
       "<matplotlib.figure.Figure at 0x272cfc32438>"
      ]
     },
     "metadata": {},
     "output_type": "display_data"
    }
   ],
   "source": [
    "from sklearn.feature_selection import SelectFromModel\n",
    "from sklearn.linear_model import LogisticRegression\n",
    "\n",
    "logistic =LogisticRegression()\n",
    "logistic = logistic.fit(training_x, training_y)\n",
    "\n",
    "print(logistic.transform)\n",
    "\n",
    "\n",
    "a=logistic.coef_\n",
    "b=training_x.columns\n",
    "a[0]=np.abs(a[0]) # getting the absoulte values so we get the strong relations despite if it's a negative or positive relation\n",
    "\n",
    "a=pd.DataFrame()\n",
    "a['Title']=training_x.columns\n",
    "a['Values']=logistic.coef_[0]\n",
    "a.sort_values('Values')\n",
    "a.set_index('Title', inplace=True)\n",
    "a.sort_values(by=['Values'], ascending=True, inplace=True)\n",
    "a.plot(kind='barh', figsize=(10,10))\n",
    "# so it got the age as a really bad feature because it is basically not catagorical .... \n",
    "# so as you know the decision trees ADORE the catagorical data since it is build on such logic .... \n",
    "# it basically can't use the age because it will overfit when it uses it so that sucks for it :) "
   ]
  },
  {
   "cell_type": "markdown",
   "metadata": {},
   "source": [
    "### the important features for Random Forest Classifier"
   ]
  },
  {
   "cell_type": "code",
   "execution_count": 41,
   "metadata": {},
   "outputs": [
    {
     "data": {
      "text/plain": [
       "<matplotlib.axes._subplots.AxesSubplot at 0x272d5b4c780>"
      ]
     },
     "execution_count": 41,
     "metadata": {},
     "output_type": "execute_result"
    },
    {
     "data": {
      "image/png": "[encoded data removed]",
      "text/plain": [
       "<matplotlib.figure.Figure at 0x272d5b59d30>"
      ]
     },
     "metadata": {},
     "output_type": "display_data"
    }
   ],
   "source": [
    "from sklearn.ensemble import RandomForestClassifier\n",
    "from sklearn.feature_selection import SelectFromModel\n",
    "clf = RandomForestClassifier(n_estimators=5)#, max_features='sqrt')\n",
    "clf = clf.fit(training_x, training_y)\n",
    "\n",
    "features = pd.DataFrame()\n",
    "features['feature'] = training_x.columns\n",
    "features['importance'] = clf.feature_importances_\n",
    "features.sort_values(by=['importance'], ascending=True, inplace=True)\n",
    "features.set_index('feature', inplace=True)\n",
    "\n",
    "features.plot(kind='barh', figsize=(10,10))"
   ]
  },
  {
   "cell_type": "markdown",
   "metadata": {},
   "source": [
    "### so the final result that we got to is : \n",
    "- we noticed that the best model for such a problem is LogisticRegression because of the continuous data and that it has a critical importance on the dataset\n"
   ]
  },
  {
   "cell_type": "code",
   "execution_count": 42,
   "metadata": {},
   "outputs": [
    {
     "name": "stdout",
     "output_type": "stream",
     "text": [
      "[0. 1. 0.]\n"
     ]
    }
   ],
   "source": [
    "from sklearn.linear_model import LogisticRegression\n",
    "\n",
    "logistic=LogisticRegression()\n",
    "ss=logistic.fit(training_x,training_y)\n",
    "result=logistic.predict(testing)\n",
    "\n",
    "print(result[:3]) # ok,everything is good\n",
    "\n",
    "\n",
    "\n",
    "df=pd.concat([pd.read_csv('test.csv',usecols=[0]),pd.DataFrame({'Survived':result})],axis=1).set_index('PassengerId')\n",
    "df.Survived=df.Survived.astype(int)\n",
    "\n",
    "df.to_csv('result.csv')\n",
    "# and from that we got 0.78947 on kaggle "
   ]
  },
  {
   "cell_type": "markdown",
   "metadata": {},
   "source": [
    "### a small advice .... visit http://scikit-learn.org/stable/modules/cross_validation.html to see what did i actually do ! "
   ]
  },
  {
   "cell_type": "markdown",
   "metadata": {},
   "source": [
    "## i uploaded the result file from this code  and got 0.78947% accuracy for doing the simple steps above "
   ]
  }
 ],
 "metadata": {
  "kernelspec": {
   "display_name": "Python 3",
   "language": "python",
   "name": "python3"
  },
  "language_info": {
   "codemirror_mode": {
    "name": "ipython",
    "version": 3
   },
   "file_extension": ".py",
   "mimetype": "text/x-python",
   "name": "python",
   "nbconvert_exporter": "python",
   "pygments_lexer": "ipython3",
   "version": "3.6.8"
  }
 },
 "nbformat": 4,
 "nbformat_minor": 2
}
