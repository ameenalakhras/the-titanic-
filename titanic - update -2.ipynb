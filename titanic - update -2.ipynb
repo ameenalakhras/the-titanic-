{
 "cells": [
  {
   "cell_type": "markdown",
   "metadata": {},
   "source": [
    "## Goal\n",
    "It is your job to predict if a passenger survived the sinking of the Titanic or not. \n",
    "For each PassengerId in the test set, you must predict a 0 or 1 value for the Survived variable.\n",
    "\n",
    "## Data Dictionary\n",
    "\n",
    "Variable\tDefinition\tKey\n",
    "survival\tSurvival\t0 = No, 1 = Yes\n",
    "pclass\tTicket class\t1 = 1st, 2 = 2nd, 3 = 3rd\n",
    "sex\tSex\t\n",
    "Age\tAge in years\t\n",
    "sibsp\t# of siblings / spouses aboard the Titanic\t\n",
    "parch\t# of parents / children aboard the Titanic\t\n",
    "ticket\tTicket number\t\n",
    "fare\tPassenger fare\t\n",
    "cabin\tCabin number\t\n",
    "embarked\tPort of Embarkation\tC = Cherbourg, Q = Queenstown, S = Southampton\n",
    "\n",
    "## Variable Notes\n",
    "pclass: A proxy for socio-economic status (SES)\n",
    "1st = Upper\n",
    "2nd = Middle\n",
    "3rd = Lower\n",
    "\n",
    "age: Age is fractional if less than 1. If the age is estimated, is it in the form of xx.5\n",
    "\n",
    "sibsp: The dataset defines family relations in this way...\n",
    "Sibling = brother, sister, stepbrother, stepsister\n",
    "Spouse = husband, wife (mistresses and fiancés were ignored)\n",
    "\n",
    "parch: The dataset defines family relations in this way...\n",
    "Parent = mother, father\n",
    "Child = daughter, son, stepdaughter, stepson\n",
    "Some children travelled only with a nanny, therefore parch=0 for them."
   ]
  },
  {
   "cell_type": "markdown",
   "metadata": {},
   "source": [
    "# for this update : \n",
    "### 1-cleared the most of the visualization sells that i didn't nead anymore (since i covered the decisions related to it) \n",
    "### 2-cleaned the code . \n",
    "### 3-applied ml algorithm to predict the survival missing values on the testing data and got 77.2 accuracy."
   ]
  },
  {
   "cell_type": "code",
   "execution_count": 2,
   "metadata": {
    "collapsed": true
   },
   "outputs": [],
   "source": [
    "import pandas as pd \n",
    "import numpy as np\n",
    "import sklearn\n",
    "import seaborn as sns \n",
    "import matplotlib.pyplot as plt \n",
    "%matplotlib inline \n",
    "from sklearn.linear_model import LogisticRegression"
   ]
  },
  {
   "cell_type": "code",
   "execution_count": 3,
   "metadata": {
    "collapsed": true
   },
   "outputs": [],
   "source": [
    "plt.rc(\"font\", size=14)\n",
    "sns.set(style=\"dark\") #white background style for seaborn plots\n",
    "sns.set(style=\"whitegrid\", color_codes=True)"
   ]
  },
  {
   "cell_type": "code",
   "execution_count": 70,
   "metadata": {
    "collapsed": true
   },
   "outputs": [],
   "source": [
    "training_data=pd.read_csv('Desktop/titanic/train.csv')\n",
    "testing_data=pd.read_csv('Desktop/titanic/test.csv')\n",
    "# the testing is same as training but it doesn't have 'Survived' available "
   ]
  },
  {
   "cell_type": "code",
   "execution_count": 71,
   "metadata": {},
   "outputs": [
    {
     "data": {
      "text/html": [
       "<div>\n",
       "<style>\n",
       "    .dataframe thead tr:only-child th {\n",
       "        text-align: right;\n",
       "    }\n",
       "\n",
       "    .dataframe thead th {\n",
       "        text-align: left;\n",
       "    }\n",
       "\n",
       "    .dataframe tbody tr th {\n",
       "        vertical-align: top;\n",
       "    }\n",
       "</style>\n",
       "<table border=\"1\" class=\"dataframe\">\n",
       "  <thead>\n",
       "    <tr style=\"text-align: right;\">\n",
       "      <th></th>\n",
       "      <th>PassengerId</th>\n",
       "      <th>Survived</th>\n",
       "      <th>Pclass</th>\n",
       "      <th>Name</th>\n",
       "      <th>Sex</th>\n",
       "      <th>Age</th>\n",
       "      <th>SibSp</th>\n",
       "      <th>Parch</th>\n",
       "      <th>Ticket</th>\n",
       "      <th>Fare</th>\n",
       "      <th>Cabin</th>\n",
       "      <th>Embarked</th>\n",
       "    </tr>\n",
       "  </thead>\n",
       "  <tbody>\n",
       "    <tr>\n",
       "      <th>0</th>\n",
       "      <td>1</td>\n",
       "      <td>0</td>\n",
       "      <td>3</td>\n",
       "      <td>Braund, Mr. Owen Harris</td>\n",
       "      <td>male</td>\n",
       "      <td>22.0</td>\n",
       "      <td>1</td>\n",
       "      <td>0</td>\n",
       "      <td>A/5 21171</td>\n",
       "      <td>7.2500</td>\n",
       "      <td>NaN</td>\n",
       "      <td>S</td>\n",
       "    </tr>\n",
       "    <tr>\n",
       "      <th>1</th>\n",
       "      <td>2</td>\n",
       "      <td>1</td>\n",
       "      <td>1</td>\n",
       "      <td>Cumings, Mrs. John Bradley (Florence Briggs Th...</td>\n",
       "      <td>female</td>\n",
       "      <td>38.0</td>\n",
       "      <td>1</td>\n",
       "      <td>0</td>\n",
       "      <td>PC 17599</td>\n",
       "      <td>71.2833</td>\n",
       "      <td>C85</td>\n",
       "      <td>C</td>\n",
       "    </tr>\n",
       "    <tr>\n",
       "      <th>2</th>\n",
       "      <td>3</td>\n",
       "      <td>1</td>\n",
       "      <td>3</td>\n",
       "      <td>Heikkinen, Miss. Laina</td>\n",
       "      <td>female</td>\n",
       "      <td>26.0</td>\n",
       "      <td>0</td>\n",
       "      <td>0</td>\n",
       "      <td>STON/O2. 3101282</td>\n",
       "      <td>7.9250</td>\n",
       "      <td>NaN</td>\n",
       "      <td>S</td>\n",
       "    </tr>\n",
       "    <tr>\n",
       "      <th>3</th>\n",
       "      <td>4</td>\n",
       "      <td>1</td>\n",
       "      <td>1</td>\n",
       "      <td>Futrelle, Mrs. Jacques Heath (Lily May Peel)</td>\n",
       "      <td>female</td>\n",
       "      <td>35.0</td>\n",
       "      <td>1</td>\n",
       "      <td>0</td>\n",
       "      <td>113803</td>\n",
       "      <td>53.1000</td>\n",
       "      <td>C123</td>\n",
       "      <td>S</td>\n",
       "    </tr>\n",
       "    <tr>\n",
       "      <th>4</th>\n",
       "      <td>5</td>\n",
       "      <td>0</td>\n",
       "      <td>3</td>\n",
       "      <td>Allen, Mr. William Henry</td>\n",
       "      <td>male</td>\n",
       "      <td>35.0</td>\n",
       "      <td>0</td>\n",
       "      <td>0</td>\n",
       "      <td>373450</td>\n",
       "      <td>8.0500</td>\n",
       "      <td>NaN</td>\n",
       "      <td>S</td>\n",
       "    </tr>\n",
       "  </tbody>\n",
       "</table>\n",
       "</div>"
      ],
      "text/plain": [
       "   PassengerId  Survived  Pclass  \\\n",
       "0            1         0       3   \n",
       "1            2         1       1   \n",
       "2            3         1       3   \n",
       "3            4         1       1   \n",
       "4            5         0       3   \n",
       "\n",
       "                                                Name     Sex   Age  SibSp  \\\n",
       "0                            Braund, Mr. Owen Harris    male  22.0      1   \n",
       "1  Cumings, Mrs. John Bradley (Florence Briggs Th...  female  38.0      1   \n",
       "2                             Heikkinen, Miss. Laina  female  26.0      0   \n",
       "3       Futrelle, Mrs. Jacques Heath (Lily May Peel)  female  35.0      1   \n",
       "4                           Allen, Mr. William Henry    male  35.0      0   \n",
       "\n",
       "   Parch            Ticket     Fare Cabin Embarked  \n",
       "0      0         A/5 21171   7.2500   NaN        S  \n",
       "1      0          PC 17599  71.2833   C85        C  \n",
       "2      0  STON/O2. 3101282   7.9250   NaN        S  \n",
       "3      0            113803  53.1000  C123        S  \n",
       "4      0            373450   8.0500   NaN        S  "
      ]
     },
     "execution_count": 71,
     "metadata": {},
     "output_type": "execute_result"
    }
   ],
   "source": [
    "training_data.head()"
   ]
  },
  {
   "cell_type": "code",
   "execution_count": 72,
   "metadata": {
    "collapsed": true
   },
   "outputs": [],
   "source": [
    "unique_tickets=training_data.Ticket.unique()\n",
    "len(unique_tickets[1])\n",
    "for x in range(len(unique_tickets)):\n",
    "    unique_tickets[x]=unique_tickets[x].split(' ')\n",
    "    if(len(unique_tickets[x])==1):\n",
    "        if unique_tickets[x][0]=='1'or'2'or'3'or'4'or'5'or'6'or'7'or'8'or'9':\n",
    "           # print(unique_tickets[x])\n",
    "            unique_tickets[x]=(unique_tickets[x][0][0]+unique_tickets[x][0][1]+unique_tickets[x][0][2])\n",
    "        else:\n",
    "            pass\n",
    "  #  else:pass\n",
    "\n",
    "    elif len(unique_tickets[x])==2:\n",
    "        unique_tickets[x]=unique_tickets[x][0]\n",
    "\n",
    "    elif len(unique_tickets[x])==3 :\n",
    "        unique_tickets[x]=unique_tickets[x][0]#+unique_tickets[x][1]\n"
   ]
  },
  {
   "cell_type": "markdown",
   "metadata": {},
   "source": [
    "### this is the orgional data coming from the code  without taking the unique values from it "
   ]
  },
  {
   "cell_type": "code",
   "execution_count": 73,
   "metadata": {
    "scrolled": true
   },
   "outputs": [
    {
     "name": "stdout",
     "output_type": "stream",
     "text": [
      "681\n",
      "['A/5' 'PC' 'STON/O2.' '113' '373' '330' '174' '349' '347' '237' 'PP' '113'\n",
      " 'A/5.' '347' '350' '248' '382' '244' '345' '264' '239' '248' '330' '113'\n",
      " '347' '263' '199' '330' '349' 'PC' 'PC' '335' 'C.A.' 'PC' '113' '267'\n",
      " 'A./5.' '345' '265' '754' '116' '349' 'SC/Paris' '330' 'S.C./A.4.' '370'\n",
      " '143' '266' '349' '310' 'A/4.' 'PC' '292' '113' '199' 'C.A.' '269' 'C.A.'\n",
      " 'CA' '266' '113' '369' '347' 'PC' '266' 'C.A.' 'S.P.' '310' '315' 'C.A.'\n",
      " 'S.O.C.' '268' '160' '348' '349' '374' '248' '364' '345' '345' '330' '113'\n",
      " 'SO/C' '310' 'W./C.' 'SOTON/OQ' '343' '343' '347' 'W.E.P.' 'C.A.' '364'\n",
      " '374' 'PC' 'PC' '231' '244' '349' '349' '352' '754' '310' '349' '343'\n",
      " '312' '349' '371' '110' '266' '324' '413' '262' 'STON/O' '370' 'PC' 'A4.'\n",
      " '272' '370' 'C' '266' '347' '349' 'SOTON/O.Q.' 'A/5.' '228' 'C.A.'\n",
      " 'SC/PARIS' '117' '753' 'PC' '267' '347' 'STON/O2.' '365' '231' 'C.A.'\n",
      " '350' '230' '244' 'S.O.P.' '113' 'A.5.' 'A/5.' 'Fa' 'PC' '358' 'SOTON/OQ'\n",
      " '315' 'CA.' '371' 'C.A.' '347' '315' '363' '113' 'PC' '111' 'STON/O' '177'\n",
      " '350' '413' 'PC' '250' 'LIN' 'SC/PARIS' '230' '315' '113' '370' '111'\n",
      " '364' '349' '234' '284' '350' 'PC' '368' '457' '370' '248' '345' '310'\n",
      " '262' 'A/5' '347' '269' '367' '112' 'SOTON/O.Q.' 'F.C.C.' 'A/5' '250'\n",
      " '367' '352' 'STON/O2.' '243' '118' 'W/C' 'SOTON/OQ' '220' '214' '349'\n",
      " '199' 'PP' 'SW/PP' 'A/5' '236' '347' '237' 'C.A.' 'W./C.' '267' 'C.A.'\n",
      " '286' 'SCO/W' '367' 'W./C.' 'STON/O' '269' '199' '347' '250' '117' '244'\n",
      " '362' '113' 'A/5.' '370' '265' 'PC' '110' 'PC' '230' '384' '110' '112'\n",
      " '382' 'C.A.' '347' 'PC' 'PC' '113' '250' 'PC' '370' '135' '347' '239'\n",
      " 'C.A.' '336' '347' '345' 'A/5.' '113' '349' '345' '349' '237' '370' '198'\n",
      " '119' 'SC/Paris' '349' '349' 'PC' '269' '113' '199' '923' '367' '226'\n",
      " 'A/5' '174' 'PC' 'P/PP' 'PC' '117' 'PC' '250' '349' 'F.C.C.' '347' '290'\n",
      " '369' '169' 'A/5' '349' '234' '345' '285' '111' '113' 'PC' '349' '759'\n",
      " '113' '248' '244' '229' '248' '314' '386' 'C.A.' '315' '726' '113' '269'\n",
      " '264' '345' '237' '330' '330' 'SC/PARIS' '269' 'SOTON/O.Q.' 'C' '110'\n",
      " '262' '143' 'PC' '117' '310' '323' 'C' '113' '264' '347' 'PC' '265'\n",
      " 'STON/O' '349' '278' '367' 'SC' '113' '350' '310' '350' '350' '284' '244'\n",
      " '240' 'STON/O' '341' '413' '315' '286' '347' '291' '312' '349' '394'\n",
      " 'STON/O' '343' '282' '250' '282' '345' '349' 'A/5.' '315' '347' 'A/4.'\n",
      " '200' '250' '364' 'SOTON/O.Q.' '110' '376' 'SC/AH' 'STON/O' '135' 'C.A.'\n",
      " '345' '347' '230' '653' '336' '113' '266' '113' '653' '113' '174' 'A/5'\n",
      " '349' '135' '174' 'F.C.C.' '371' '199' '364' '111' '234' 'A/S'\n",
      " 'SOTON/O.Q.' '113' '362' '323' '315' 'SC/AH' '755' '310' '346' '350' '310'\n",
      " '239' 'A/5' '413' '117' 'A.5.' '653' 'SOTON/OQ' '113' 'PC' 'A/4' '369'\n",
      " 'C.A.' '350' '315' '364' '330' '413' '263' '111' 'C' '382' 'SOTON/OQ' 'PC'\n",
      " 'PC' '349' '369' 'C.A.' '226' '349' '127' '349' '262' '270' '367' 'W./C.'\n",
      " 'PC' '310' '291' '264' '269' '315' '113' 'PC' '364' '135' 'WE/P' '290'\n",
      " '693' 'SC/PARIS' '244' '330' '262' '347' '113' '117' '345' '372' '349'\n",
      " '218' 'SOTON/OQ' 'SOTON/O.Q.' 'A/4' '349' '268' '350' 'S.W./PP' '117' 'PC'\n",
      " '143' 'A/4.' '358' '243' '268' 'STON/O' '237' '130' '341' '237' '135'\n",
      " '149' 'A./5.' 'STON/O' 'A/5' '364' 'SC/AH' '248' '266' '349' '113' '364'\n",
      " '111' '349' '349' '113' 'SOTON/O.Q.' '370' '364' '220' '310' '265' '117'\n",
      " '350' '546' '369' '219' '349' '334' '270' '347' '132' '112' '237' 'STON/O'\n",
      " '350' '349' '132' 'S.O./P.P.' 'CA.' '349' '847' '330' '365' '349' '297'\n",
      " '262' '572' '349' 'STON/O' '234' '312' 'A/5' '199' '297' 'F.C.' 'C.A.'\n",
      " '244' '239' '349' '342' '413' '330' '656' '349' '350' '241' '174' '349'\n",
      " '267' '113' '248' '363' '358' '348' 'PC' '368' '350' '223' 'PC' 'PC' '113'\n",
      " '754' '250' '348' '342' '365' '347' '350' '122' '250' '113' '315' '368'\n",
      " '236' 'STON/O2.' '239' '284' '233' '349' '349' '169' '376' 'STON/O' '250'\n",
      " '113' '335' '291' '392' '345' '349' '350' '291' '363' 'SOTON/O2' '266'\n",
      " '347' '112' '364' '847' '345' '350' 'S.O./P.P.' '267' '291' '347' '383'\n",
      " '368' '268' '113' 'W./C.' 'SOTON/O.Q.' '374' '310' '124' 'PC' '349' '282'\n",
      " '174' '349' '268' '262' '347' '347' '112' '347' '248' '347' '282' '364'\n",
      " '112' 'STON/O2.' 'S.C./PARIS' 'C' '315' '199' '368' '367' '267' '347'\n",
      " '222' 'PC' '315' '392' '117' 'SOTON/O2' '268' '315' 'C.A.' '349' '347'\n",
      " 'PC' '392' '113' '262' '350' '281' '174' '233' '236' 'SC/PARIS' 'PC' '345'\n",
      " '349' '695' '345' '266' '349' '349' '349' '755' 'C.A./SOTON' 'SOTON/OQ'\n",
      " '211' '112' '111' '370']\n"
     ]
    }
   ],
   "source": [
    "print(len(unique_tickets))\n",
    "print(unique_tickets)"
   ]
  },
  {
   "cell_type": "code",
   "execution_count": 74,
   "metadata": {
    "scrolled": true
   },
   "outputs": [
    {
     "data": {
      "text/html": [
       "<div>\n",
       "<style>\n",
       "    .dataframe thead tr:only-child th {\n",
       "        text-align: right;\n",
       "    }\n",
       "\n",
       "    .dataframe thead th {\n",
       "        text-align: left;\n",
       "    }\n",
       "\n",
       "    .dataframe tbody tr th {\n",
       "        vertical-align: top;\n",
       "    }\n",
       "</style>\n",
       "<table border=\"1\" class=\"dataframe\">\n",
       "  <thead>\n",
       "    <tr style=\"text-align: right;\">\n",
       "      <th></th>\n",
       "      <th>0</th>\n",
       "    </tr>\n",
       "  </thead>\n",
       "  <tbody>\n",
       "    <tr>\n",
       "      <th>0</th>\n",
       "      <td>A/5</td>\n",
       "    </tr>\n",
       "    <tr>\n",
       "      <th>1</th>\n",
       "      <td>PC</td>\n",
       "    </tr>\n",
       "  </tbody>\n",
       "</table>\n",
       "</div>"
      ],
      "text/plain": [
       "     0\n",
       "0  A/5\n",
       "1   PC"
      ]
     },
     "execution_count": 74,
     "metadata": {},
     "output_type": "execute_result"
    }
   ],
   "source": [
    "s=pd.DataFrame(unique_tickets)\n",
    "s.head(2)"
   ]
  },
  {
   "cell_type": "markdown",
   "metadata": {},
   "source": [
    "### looking at the filtered data "
   ]
  },
  {
   "cell_type": "code",
   "execution_count": 75,
   "metadata": {},
   "outputs": [
    {
     "name": "stdout",
     "output_type": "stream",
     "text": [
      "164\n"
     ]
    },
    {
     "data": {
      "text/plain": [
       "array(['110', '111', '112', '113', '116', '117', '118', '119', '122',\n",
       "       '124', '127', '130', '132', '135', '143', '149', '160', '169',\n",
       "       '174', '177', '198', '199', '200', '211', '214', '218', '219',\n",
       "       '220', '222', '223', '226', '228', '229', '230', '231', '233',\n",
       "       '234', '236', '237', '239', '240', '241', '243', '244', '248',\n",
       "       '250', '262', '263', '264', '265', '266', '267', '268', '269',\n",
       "       '270', '272', '278', '281', '282', '284', '285', '286', '290',\n",
       "       '291', '292', '297', '310', '312', '314', '315', '323', '324',\n",
       "       '330', '334', '335', '336', '341', '342', '343', '345', '346',\n",
       "       '347', '348', '349', '350', '352', '358', '362', '363', '364',\n",
       "       '365', '367', '368', '369', '370', '371', '372', '373', '374',\n",
       "       '376', '382', '383', '384', '386', '392', '394', '413', '457',\n",
       "       '546', '572', '653', '656', '693', '695', '726', '753', '754',\n",
       "       '755', '759', '847', '923', 'A./5.', 'A.5.', 'A/4', 'A/4.', 'A/5',\n",
       "       'A/5.', 'A/S', 'A4.', 'C', 'C.A.', 'C.A./SOTON', 'CA', 'CA.',\n",
       "       'F.C.', 'F.C.C.', 'Fa', 'LIN', 'P/PP', 'PC', 'PP', 'S.C./A.4.',\n",
       "       'S.C./PARIS', 'S.O./P.P.', 'S.O.C.', 'S.O.P.', 'S.P.', 'S.W./PP',\n",
       "       'SC', 'SC/AH', 'SC/PARIS', 'SC/Paris', 'SCO/W', 'SO/C',\n",
       "       'SOTON/O.Q.', 'SOTON/O2', 'SOTON/OQ', 'STON/O', 'STON/O2.', 'SW/PP',\n",
       "       'W./C.', 'W.E.P.', 'W/C', 'WE/P'], dtype=object)"
      ]
     },
     "execution_count": 75,
     "metadata": {},
     "output_type": "execute_result"
    }
   ],
   "source": [
    "q=s[0].unique()\n",
    "q.sort()\n",
    "print(len(q))\n",
    "q"
   ]
  },
  {
   "cell_type": "code",
   "execution_count": 76,
   "metadata": {
    "collapsed": true
   },
   "outputs": [],
   "source": [
    "# i'm just putting it in here ... \n",
    "# there is just  column in the data that have the Fare as nan -_- idc...\n",
    "testing_data.loc[pd.isnull(testing_data['Fare'])==True,'Fare']=testing_data.Fare.median()"
   ]
  },
  {
   "cell_type": "markdown",
   "metadata": {},
   "source": [
    "## chaging the 'Sex' from str to numbers "
   ]
  },
  {
   "cell_type": "code",
   "execution_count": 77,
   "metadata": {
    "collapsed": true
   },
   "outputs": [],
   "source": [
    "#training_data.info() # there is null values at : 'Age' , 'Cabin' , 'Embarked'\n",
    "\n",
    "#converting male to 1 , female to 0\n",
    "\n",
    "training_data.loc[training_data['Sex']=='male','Sex']=1\n",
    "training_data.loc[training_data['Sex']=='female','Sex']=0\n",
    "\n",
    "testing_data.loc[testing_data['Sex']=='male','Sex']=1\n",
    "testing_data.loc[testing_data['Sex']=='female','Sex']=0\n"
   ]
  },
  {
   "cell_type": "code",
   "execution_count": 78,
   "metadata": {
    "scrolled": true
   },
   "outputs": [
    {
     "name": "stdout",
     "output_type": "stream",
     "text": [
      "148\n",
      "687\n"
     ]
    },
    {
     "data": {
      "text/html": [
       "<div>\n",
       "<style>\n",
       "    .dataframe thead tr:only-child th {\n",
       "        text-align: right;\n",
       "    }\n",
       "\n",
       "    .dataframe thead th {\n",
       "        text-align: left;\n",
       "    }\n",
       "\n",
       "    .dataframe tbody tr th {\n",
       "        vertical-align: top;\n",
       "    }\n",
       "</style>\n",
       "<table border=\"1\" class=\"dataframe\">\n",
       "  <thead>\n",
       "    <tr style=\"text-align: right;\">\n",
       "      <th></th>\n",
       "      <th>PassengerId</th>\n",
       "      <th>Survived</th>\n",
       "      <th>Pclass</th>\n",
       "      <th>Name</th>\n",
       "      <th>Sex</th>\n",
       "      <th>Age</th>\n",
       "      <th>SibSp</th>\n",
       "      <th>Parch</th>\n",
       "      <th>Ticket</th>\n",
       "      <th>Fare</th>\n",
       "      <th>Cabin</th>\n",
       "      <th>Embarked</th>\n",
       "    </tr>\n",
       "  </thead>\n",
       "  <tbody>\n",
       "    <tr>\n",
       "      <th>0</th>\n",
       "      <td>1</td>\n",
       "      <td>0</td>\n",
       "      <td>3</td>\n",
       "      <td>Braund, Mr. Owen Harris</td>\n",
       "      <td>1</td>\n",
       "      <td>22.0</td>\n",
       "      <td>1</td>\n",
       "      <td>0</td>\n",
       "      <td>A/5 21171</td>\n",
       "      <td>7.2500</td>\n",
       "      <td>NaN</td>\n",
       "      <td>S</td>\n",
       "    </tr>\n",
       "    <tr>\n",
       "      <th>1</th>\n",
       "      <td>2</td>\n",
       "      <td>1</td>\n",
       "      <td>1</td>\n",
       "      <td>Cumings, Mrs. John Bradley (Florence Briggs Th...</td>\n",
       "      <td>0</td>\n",
       "      <td>38.0</td>\n",
       "      <td>1</td>\n",
       "      <td>0</td>\n",
       "      <td>PC 17599</td>\n",
       "      <td>71.2833</td>\n",
       "      <td>C85</td>\n",
       "      <td>C</td>\n",
       "    </tr>\n",
       "    <tr>\n",
       "      <th>2</th>\n",
       "      <td>3</td>\n",
       "      <td>1</td>\n",
       "      <td>3</td>\n",
       "      <td>Heikkinen, Miss. Laina</td>\n",
       "      <td>0</td>\n",
       "      <td>26.0</td>\n",
       "      <td>0</td>\n",
       "      <td>0</td>\n",
       "      <td>STON/O2. 3101282</td>\n",
       "      <td>7.9250</td>\n",
       "      <td>NaN</td>\n",
       "      <td>S</td>\n",
       "    </tr>\n",
       "    <tr>\n",
       "      <th>3</th>\n",
       "      <td>4</td>\n",
       "      <td>1</td>\n",
       "      <td>1</td>\n",
       "      <td>Futrelle, Mrs. Jacques Heath (Lily May Peel)</td>\n",
       "      <td>0</td>\n",
       "      <td>35.0</td>\n",
       "      <td>1</td>\n",
       "      <td>0</td>\n",
       "      <td>113803</td>\n",
       "      <td>53.1000</td>\n",
       "      <td>C123</td>\n",
       "      <td>S</td>\n",
       "    </tr>\n",
       "    <tr>\n",
       "      <th>4</th>\n",
       "      <td>5</td>\n",
       "      <td>0</td>\n",
       "      <td>3</td>\n",
       "      <td>Allen, Mr. William Henry</td>\n",
       "      <td>1</td>\n",
       "      <td>35.0</td>\n",
       "      <td>0</td>\n",
       "      <td>0</td>\n",
       "      <td>373450</td>\n",
       "      <td>8.0500</td>\n",
       "      <td>NaN</td>\n",
       "      <td>S</td>\n",
       "    </tr>\n",
       "  </tbody>\n",
       "</table>\n",
       "</div>"
      ],
      "text/plain": [
       "   PassengerId  Survived  Pclass  \\\n",
       "0            1         0       3   \n",
       "1            2         1       1   \n",
       "2            3         1       3   \n",
       "3            4         1       1   \n",
       "4            5         0       3   \n",
       "\n",
       "                                                Name Sex   Age  SibSp  Parch  \\\n",
       "0                            Braund, Mr. Owen Harris   1  22.0      1      0   \n",
       "1  Cumings, Mrs. John Bradley (Florence Briggs Th...   0  38.0      1      0   \n",
       "2                             Heikkinen, Miss. Laina   0  26.0      0      0   \n",
       "3       Futrelle, Mrs. Jacques Heath (Lily May Peel)   0  35.0      1      0   \n",
       "4                           Allen, Mr. William Henry   1  35.0      0      0   \n",
       "\n",
       "             Ticket     Fare Cabin Embarked  \n",
       "0         A/5 21171   7.2500   NaN        S  \n",
       "1          PC 17599  71.2833   C85        C  \n",
       "2  STON/O2. 3101282   7.9250   NaN        S  \n",
       "3            113803  53.1000  C123        S  \n",
       "4            373450   8.0500   NaN        S  "
      ]
     },
     "execution_count": 78,
     "metadata": {},
     "output_type": "execute_result"
    }
   ],
   "source": [
    "print(len(training_data['Cabin'].unique()))\n",
    "# there is 148 different cabins i will turn them into 8 cabins  # A,B,C,D,E,F,G,nan\n",
    "print(pd.isnull(training_data['Cabin']).sum())\n",
    "training_data.head()"
   ]
  },
  {
   "cell_type": "markdown",
   "metadata": {},
   "source": [
    "### renamming the Cabin to numbers  to united numbers to to simplify the plottings"
   ]
  },
  {
   "cell_type": "code",
   "execution_count": 79,
   "metadata": {
    "collapsed": true
   },
   "outputs": [],
   "source": [
    "# cleaning data \n",
    "\n",
    "#renaming the data 'Cabins' to give it the computing ability   #Cabins :\n",
    "\n",
    "#1- turning the Cabins to a single level system # and turning them into numbers for the calculations \n",
    "\n",
    "for i in range(len(training_data)):\n",
    "    if pd.notnull(training_data.loc[i,'Cabin']):\n",
    "        if type(training_data.loc[i,'Cabin'])==str:\n",
    "            \n",
    "            if 'A' in training_data.loc[i,'Cabin']: \n",
    "                training_data.loc[i,'Cabin']=1\n",
    "            elif 'B' in training_data.loc[i,'Cabin']: \n",
    "                training_data.loc[i,'Cabin']=2\n",
    "            elif 'C' in training_data.loc[i,'Cabin']: \n",
    "                training_data.loc[i,'Cabin']=3\n",
    "            elif 'D' in training_data.loc[i,'Cabin']: \n",
    "                training_data.loc[i,'Cabin']=4\n",
    "            elif 'E' in training_data.loc[i,'Cabin']: \n",
    "                training_data.loc[i,'Cabin']=5\n",
    "            elif 'F' in training_data.loc[i,'Cabin']: \n",
    "                training_data.loc[i,'Cabin']=6\n",
    "            elif 'G' in training_data.loc[i,'Cabin']: \n",
    "                training_data.loc[i,'Cabin']=7\n",
    "    \n",
    "                 \n",
    "                \n",
    " #2- turning the Cabins on testing_data to a single level system\n",
    "\n",
    "for i in range(len(testing_data)):\n",
    "    if pd.notnull(testing_data.loc[i,'Cabin']):\n",
    "        if type(testing_data.loc[i,'Cabin'])==str:\n",
    "            \n",
    "\n",
    "            if 'A' in testing_data.loc[i,'Cabin']: \n",
    "                testing_data.loc[i,'Cabin']=1\n",
    "            elif 'B' in testing_data.loc[i,'Cabin']: \n",
    "                testing_data.loc[i,'Cabin']=2\n",
    "            elif 'C' in testing_data.loc[i,'Cabin']: \n",
    "                testing_data.loc[i,'Cabin']=3\n",
    "            elif 'D' in testing_data.loc[i,'Cabin']: \n",
    "                testing_data.loc[i,'Cabin']=4\n",
    "            elif 'E' in testing_data.loc[i,'Cabin']: \n",
    "                testing_data.loc[i,'Cabin']=5\n",
    "            elif 'F' in testing_data.loc[i,'Cabin']: \n",
    "                testing_data.loc[i,'Cabin']=6\n",
    "            elif 'G' in testing_data.loc[i,'Cabin']: \n",
    "                testing_data.loc[i,'Cabin']=7 \n",
    "#someking of a mistake (someone put a Cabin as T and there is no Cabins called T)\n",
    "#turning it to nan\n",
    "#cleaning...\n",
    "training_data.loc[training_data['Cabin']=='T','Cabin'] = np.nan\n",
    "\n",
    "#Cabins:                \n",
    "# 'A' = 1 , 'B'=2 , 'C'=3 , 'D'=4,'E'=5, 'F'=6, 'G'=7\n",
    "# nan variables on 8"
   ]
  },
  {
   "cell_type": "markdown",
   "metadata": {},
   "source": [
    "### renaming the nans on the 'Cabin' for the training and the testing data  to number 8\n",
    "\n"
   ]
  },
  {
   "cell_type": "code",
   "execution_count": 80,
   "metadata": {
    "collapsed": true
   },
   "outputs": [],
   "source": [
    "for i in range(len(training_data)):\n",
    "    if pd.isnull(training_data.loc[i,'Cabin']):\n",
    "        training_data.loc[i,'Cabin']=8 \n",
    "for i in range(len(testing_data)):\n",
    "    if pd.isnull(testing_data.loc[i,'Cabin']):\n",
    "        testing_data.loc[i,'Cabin']=8"
   ]
  },
  {
   "cell_type": "code",
   "execution_count": 81,
   "metadata": {},
   "outputs": [
    {
     "name": "stdout",
     "output_type": "stream",
     "text": [
      "[8 3 5 7 4 1 2 6]\n",
      "[3 1 2]\n"
     ]
    }
   ],
   "source": [
    "print(training_data['Cabin'].unique()) # 1,2,3,4,5,6,7,8\n",
    "print(training_data['Pclass'].unique())"
   ]
  },
  {
   "cell_type": "code",
   "execution_count": 82,
   "metadata": {},
   "outputs": [
    {
     "data": {
      "image/png": "[encoded data removed]",
      "text/plain": [
       "<matplotlib.figure.Figure at 0x1df6a5d5a20>"
      ]
     },
     "metadata": {},
     "output_type": "display_data"
    }
   ],
   "source": [
    "s=plt.scatter(training_data['Pclass']\n",
    "               ,training_data['Cabin'],s=200 #the size of the dotts\n",
    "             )"
   ]
  },
  {
   "cell_type": "markdown",
   "metadata": {},
   "source": [
    "### we can simply see that the 'calss 1 ' people lived in the upper Cabins(from 1 to ), and the 'class 2' people lived int the middle Cabins (from 4th to 6th), and the 'class 3' people (#poor or #workers) lived in the lower section (from 5th to 7th)  ||||| the 8th is the nans by the way "
   ]
  },
  {
   "cell_type": "code",
   "execution_count": 83,
   "metadata": {
    "collapsed": true
   },
   "outputs": [],
   "source": [
    "training_data['Age']=training_data['Age'].fillna(np.median(training_data[pd.notnull(training_data['Age'])]['Age']))\n",
    "testing_data['Age']=testing_data['Age'].fillna(np.median(testing_data[pd.notnull(testing_data['Age'])]['Age']))"
   ]
  },
  {
   "cell_type": "markdown",
   "metadata": {},
   "source": [
    "### looking at the unique values for the columns "
   ]
  },
  {
   "cell_type": "code",
   "execution_count": 84,
   "metadata": {
    "scrolled": true
   },
   "outputs": [
    {
     "name": "stdout",
     "output_type": "stream",
     "text": [
      "survived :  [0 1]\n",
      "Sex :  [1 0]\n",
      "Pclass :  [3 1 2]\n",
      "SibSp : [1 0 3 4 2 5 8]\n",
      "Embarked :  ['S' 'C' 'Q' nan]\n",
      "Parch :  [0 1 2 5 3 4 6]\n",
      "Cabin : [8 3 5 7 4 1 2 6]\n"
     ]
    }
   ],
   "source": [
    "print('survived : ', training_data.Survived.unique())\n",
    "print('Sex : ',training_data.Sex.unique())  # 1 for male , 0 for female \n",
    "print('Pclass : ',training_data.Pclass.unique())#Ticket class\n",
    "print('SibSp :',training_data.SibSp.unique())# of siblings / spouses aboard the Titanic\n",
    "print('Embarked : ',training_data.Embarked.unique()) # Port of Embarkation C = Cherbourg, Q = Queenstown, S = Southampton\n",
    "print('Parch : ',training_data.Parch.unique())# of parents / children aboard the Titanic\n",
    "print('Cabin :',training_data.Cabin.unique())\n",
    "\n",
    "#print(training_data['Fare']) # the ticket cost  # bad idea ... "
   ]
  },
  {
   "cell_type": "markdown",
   "metadata": {},
   "source": [
    "### by coding #training_data.Sex.plot('hist') # about 1/3 the ship were females and the others were males \n",
    "### training_data.Survived.plot('hist') # about 1/3 survived and the others died "
   ]
  },
  {
   "cell_type": "code",
   "execution_count": 85,
   "metadata": {
    "collapsed": true
   },
   "outputs": [],
   "source": [
    "x=1"
   ]
  },
  {
   "cell_type": "code",
   "execution_count": 86,
   "metadata": {},
   "outputs": [
    {
     "data": {
      "text/plain": [
       "<seaborn.axisgrid.FacetGrid at 0x1df6a665940>"
      ]
     },
     "execution_count": 86,
     "metadata": {},
     "output_type": "execute_result"
    },
    {
     "data": {
      "image/png": "[encoded data removed]",
      "text/plain": [
       "<matplotlib.figure.Figure at 0x1df6a6656a0>"
      ]
     },
     "metadata": {},
     "output_type": "display_data"
    }
   ],
   "source": [
    "grid =sns.FacetGrid(training_data,col='Survived',row='Cabin',margin_titles=False) # FaceGrid : it makes the histograms ready in seaborn \n",
    "                                                # margin_titles : to make the titles show on like its a data frames ( on the side and top )\n",
    "grid.map(plt.hist,'Survived')"
   ]
  },
  {
   "cell_type": "code",
   "execution_count": 21,
   "metadata": {},
   "outputs": [
    {
     "data": {
      "text/plain": [
       "<seaborn.axisgrid.FacetGrid at 0x1df66dab2b0>"
      ]
     },
     "execution_count": 21,
     "metadata": {},
     "output_type": "execute_result"
    },
    {
     "data": {
      "image/png": "[encoded data removed]",
      "text/plain": [
       "<matplotlib.figure.Figure at 0x1df66dabcc0>"
      ]
     },
     "metadata": {},
     "output_type": "display_data"
    }
   ],
   "source": [
    "grid =sns.FacetGrid(training_data,row='Survived',col='Pclass',margin_titles=True) # FaceGrid : it makes the histograms ready in seaborn \n",
    "                                                # margin_titles : to make the titles show on like its a data frames ( on the side and top )\n",
    "grid.map(plt.hist,'Sex')"
   ]
  },
  {
   "cell_type": "code",
   "execution_count": 22,
   "metadata": {},
   "outputs": [
    {
     "data": {
      "text/plain": [
       "<matplotlib.collections.PathCollection at 0x1df67846358>"
      ]
     },
     "execution_count": 22,
     "metadata": {},
     "output_type": "execute_result"
    },
    {
     "data": {
      "image/png": "[encoded data removed]",
      "text/plain": [
       "<matplotlib.figure.Figure at 0x1df65e49f28>"
      ]
     },
     "metadata": {},
     "output_type": "display_data"
    }
   ],
   "source": [
    "survive=training_data[training_data['Survived']==1]\n",
    "died=training_data[training_data['Survived']==0]\n",
    "\n",
    "fig,ax=plt.subplots(1,4,figsize=(10,5))\n",
    "ax[1].hist2d(x=survive['Survived'],y=survive['Pclass'])\n",
    "ax[0].hist2d(x=died['Survived'],y=died['Pclass'])\n",
    "\n",
    "ax[2].scatter(survive['Survived'],survive['Fare'])\n",
    "ax[3].scatter(died['Survived'],died['Fare'])\n"
   ]
  },
  {
   "cell_type": "markdown",
   "metadata": {},
   "source": [
    "# remember what we did ? !"
   ]
  },
  {
   "cell_type": "code",
   "execution_count": 23,
   "metadata": {},
   "outputs": [
    {
     "data": {
      "text/plain": [
       "<matplotlib.axes._subplots.AxesSubplot at 0x1df674396a0>"
      ]
     },
     "execution_count": 23,
     "metadata": {},
     "output_type": "execute_result"
    },
    {
     "data": {
      "image/png": "[encoded data removed]",
      "text/plain": [
       "<matplotlib.figure.Figure at 0x1df673d5b38>"
      ]
     },
     "metadata": {},
     "output_type": "display_data"
    }
   ],
   "source": [
    "a,ax=plt.subplots(figsize=(9,9))\n",
    "sns.heatmap(training_data.corr(),annot=True,linewidths=0.5,fmt='.1f',ax=ax)\n",
    "#there is correlation between survived and (Pclass,Fare)"
   ]
  },
  {
   "cell_type": "markdown",
   "metadata": {},
   "source": [
    "### making a list of the data to carry the training and testing so we can edit both of them easily for the ML model"
   ]
  },
  {
   "cell_type": "code",
   "execution_count": 24,
   "metadata": {
    "collapsed": true
   },
   "outputs": [],
   "source": [
    "#make a list of the 2 datasets for the General changes \n",
    "full_data = [training_data, testing_data]"
   ]
  },
  {
   "cell_type": "markdown",
   "metadata": {},
   "source": [
    "### turning the Embarked into numbers (S to 1, Q to 2, C to 3)"
   ]
  },
  {
   "cell_type": "code",
   "execution_count": 25,
   "metadata": {
    "collapsed": true
   },
   "outputs": [],
   "source": [
    "full_data[0]=full_data[0].dropna() # there is just 2 rows on the training that have nans on the Embarked ! "
   ]
  },
  {
   "cell_type": "code",
   "execution_count": 26,
   "metadata": {
    "scrolled": true
   },
   "outputs": [
    {
     "name": "stderr",
     "output_type": "stream",
     "text": [
      "C:\\Users\\HP\\Anaconda3\\lib\\site-packages\\ipykernel_launcher.py:2: SettingWithCopyWarning: \n",
      "A value is trying to be set on a copy of a slice from a DataFrame.\n",
      "Try using .loc[row_indexer,col_indexer] = value instead\n",
      "\n",
      "See the caveats in the documentation: http://pandas.pydata.org/pandas-docs/stable/indexing.html#indexing-view-versus-copy\n",
      "  \n",
      "C:\\Users\\HP\\Anaconda3\\lib\\site-packages\\ipykernel_launcher.py:3: SettingWithCopyWarning: \n",
      "A value is trying to be set on a copy of a slice from a DataFrame.\n",
      "Try using .loc[row_indexer,col_indexer] = value instead\n",
      "\n",
      "See the caveats in the documentation: http://pandas.pydata.org/pandas-docs/stable/indexing.html#indexing-view-versus-copy\n",
      "  This is separate from the ipykernel package so we can avoid doing imports until\n",
      "C:\\Users\\HP\\Anaconda3\\lib\\site-packages\\ipykernel_launcher.py:4: SettingWithCopyWarning: \n",
      "A value is trying to be set on a copy of a slice from a DataFrame.\n",
      "Try using .loc[row_indexer,col_indexer] = value instead\n",
      "\n",
      "See the caveats in the documentation: http://pandas.pydata.org/pandas-docs/stable/indexing.html#indexing-view-versus-copy\n",
      "  after removing the cwd from sys.path.\n"
     ]
    }
   ],
   "source": [
    "for dataset in full_data:\n",
    "    dataset['Embarked']=dataset['Embarked'].replace('S',1)\n",
    "    dataset['Embarked']=dataset['Embarked'].replace('Q',np.int32(2))\n",
    "    dataset['Embarked']=dataset['Embarked'].replace('C',np.int32(3))\n"
   ]
  },
  {
   "cell_type": "code",
   "execution_count": 27,
   "metadata": {},
   "outputs": [
    {
     "data": {
      "text/plain": [
       "<matplotlib.axes._subplots.AxesSubplot at 0x1df67415a20>"
      ]
     },
     "execution_count": 27,
     "metadata": {},
     "output_type": "execute_result"
    },
    {
     "data": {
      "image/png": "[encoded data removed]",
      "text/plain": [
       "<matplotlib.figure.Figure at 0x1df678a59b0>"
      ]
     },
     "metadata": {},
     "output_type": "display_data"
    }
   ],
   "source": [
    "# the most and least 'Embarked' that the people survived on \n",
    "sns.barplot(full_data[0]['Embarked'],full_data[0]['Survived'],ci=False)"
   ]
  },
  {
   "cell_type": "markdown",
   "metadata": {},
   "source": [
    "### Calssifying the names into \"a useful feature\" ('Title')"
   ]
  },
  {
   "cell_type": "code",
   "execution_count": 28,
   "metadata": {},
   "outputs": [
    {
     "data": {
      "text/plain": [
       "'Mr'"
      ]
     },
     "execution_count": 28,
     "metadata": {},
     "output_type": "execute_result"
    }
   ],
   "source": [
    "# Define get_title function to extract titles from passenger names\n",
    "import re\n",
    "def get_title(name):\n",
    "    title_search = re.search(' ([A-Za-z]+)\\.', name)\n",
    "    \n",
    "    # If the title exists, extract and return it.\n",
    "    if title_search:\n",
    "        return title_search.group(1) # 1 to erase the space befor the title\n",
    "    return \"\"\n",
    "\n",
    "#testing it..\n",
    "get_title('Braund, Mr. Owen Harris')"
   ]
  },
  {
   "cell_type": "code",
   "execution_count": 29,
   "metadata": {},
   "outputs": [
    {
     "name": "stdout",
     "output_type": "stream",
     "text": [
      "['Mr' 'Mrs' 'Miss' 'Master' 'Don' 'Rev' 'Dr' 'Mme' 'Ms' 'Major' 'Lady'\n",
      " 'Sir' 'Mlle' 'Col' 'Capt' 'Countess' 'Jonkheer']\n",
      "['Mr' 'Mrs' 'Miss' 'Master' 'Ms' 'Col' 'Rev' 'Dr' 'Dona']\n"
     ]
    },
    {
     "name": "stderr",
     "output_type": "stream",
     "text": [
      "C:\\Users\\HP\\Anaconda3\\lib\\site-packages\\ipykernel_launcher.py:4: SettingWithCopyWarning: \n",
      "A value is trying to be set on a copy of a slice from a DataFrame.\n",
      "Try using .loc[row_indexer,col_indexer] = value instead\n",
      "\n",
      "See the caveats in the documentation: http://pandas.pydata.org/pandas-docs/stable/indexing.html#indexing-view-versus-copy\n",
      "  after removing the cwd from sys.path.\n"
     ]
    }
   ],
   "source": [
    "# Create a new feature 'Title' that contains the titles of passenger names\n",
    "\n",
    "for dataset in full_data:\n",
    "    dataset['Title'] = dataset['Name'].apply(get_title)\n",
    "    del dataset['Name'] # delete the origional column 'Name' since we don't need it anymore \n",
    "    \n",
    "    print(dataset.Title.unique())"
   ]
  },
  {
   "cell_type": "code",
   "execution_count": 30,
   "metadata": {},
   "outputs": [
    {
     "name": "stderr",
     "output_type": "stream",
     "text": [
      "C:\\Users\\HP\\Anaconda3\\lib\\site-packages\\ipykernel_launcher.py:5: SettingWithCopyWarning: \n",
      "A value is trying to be set on a copy of a slice from a DataFrame.\n",
      "Try using .loc[row_indexer,col_indexer] = value instead\n",
      "\n",
      "See the caveats in the documentation: http://pandas.pydata.org/pandas-docs/stable/indexing.html#indexing-view-versus-copy\n",
      "  \"\"\"\n",
      "C:\\Users\\HP\\Anaconda3\\lib\\site-packages\\ipykernel_launcher.py:6: SettingWithCopyWarning: \n",
      "A value is trying to be set on a copy of a slice from a DataFrame.\n",
      "Try using .loc[row_indexer,col_indexer] = value instead\n",
      "\n",
      "See the caveats in the documentation: http://pandas.pydata.org/pandas-docs/stable/indexing.html#indexing-view-versus-copy\n",
      "  \n",
      "C:\\Users\\HP\\Anaconda3\\lib\\site-packages\\ipykernel_launcher.py:7: SettingWithCopyWarning: \n",
      "A value is trying to be set on a copy of a slice from a DataFrame.\n",
      "Try using .loc[row_indexer,col_indexer] = value instead\n",
      "\n",
      "See the caveats in the documentation: http://pandas.pydata.org/pandas-docs/stable/indexing.html#indexing-view-versus-copy\n",
      "  import sys\n"
     ]
    }
   ],
   "source": [
    "# Group all miss-spelled titles into their orgional titles\n",
    "\n",
    "for dataset in full_data:\n",
    "\n",
    "    dataset['Title'] = dataset['Title'].replace('Mlle', 'Miss')\n",
    "    dataset['Title'] = dataset['Title'].replace('Ms', 'Miss')\n",
    "    dataset['Title'] = dataset['Title'].replace('Mme', 'Mrs')\n",
    "    "
   ]
  },
  {
   "cell_type": "markdown",
   "metadata": {},
   "source": [
    "### does the title mean anything anyways ? "
   ]
  },
  {
   "cell_type": "code",
   "execution_count": 31,
   "metadata": {},
   "outputs": [
    {
     "data": {
      "text/html": [
       "<div>\n",
       "<style>\n",
       "    .dataframe thead tr:only-child th {\n",
       "        text-align: right;\n",
       "    }\n",
       "\n",
       "    .dataframe thead th {\n",
       "        text-align: left;\n",
       "    }\n",
       "\n",
       "    .dataframe tbody tr th {\n",
       "        vertical-align: top;\n",
       "    }\n",
       "</style>\n",
       "<table border=\"1\" class=\"dataframe\">\n",
       "  <thead>\n",
       "    <tr style=\"text-align: right;\">\n",
       "      <th></th>\n",
       "      <th></th>\n",
       "      <th></th>\n",
       "      <th>PassengerId</th>\n",
       "      <th>Survived</th>\n",
       "      <th>Age</th>\n",
       "      <th>SibSp</th>\n",
       "      <th>Parch</th>\n",
       "      <th>Fare</th>\n",
       "      <th>Embarked</th>\n",
       "    </tr>\n",
       "    <tr>\n",
       "      <th>Sex</th>\n",
       "      <th>Pclass</th>\n",
       "      <th>Title</th>\n",
       "      <th></th>\n",
       "      <th></th>\n",
       "      <th></th>\n",
       "      <th></th>\n",
       "      <th></th>\n",
       "      <th></th>\n",
       "      <th></th>\n",
       "    </tr>\n",
       "  </thead>\n",
       "  <tbody>\n",
       "    <tr>\n",
       "      <th rowspan=\"9\" valign=\"top\">0</th>\n",
       "      <th rowspan=\"5\" valign=\"top\">1</th>\n",
       "      <th>Countess</th>\n",
       "      <td>760.0</td>\n",
       "      <td>1.0</td>\n",
       "      <td>33.0</td>\n",
       "      <td>0.0</td>\n",
       "      <td>0.0</td>\n",
       "      <td>86.50000</td>\n",
       "      <td>1.0</td>\n",
       "    </tr>\n",
       "    <tr>\n",
       "      <th>Dr</th>\n",
       "      <td>797.0</td>\n",
       "      <td>1.0</td>\n",
       "      <td>49.0</td>\n",
       "      <td>0.0</td>\n",
       "      <td>0.0</td>\n",
       "      <td>25.92920</td>\n",
       "      <td>1.0</td>\n",
       "    </tr>\n",
       "    <tr>\n",
       "      <th>Lady</th>\n",
       "      <td>557.0</td>\n",
       "      <td>1.0</td>\n",
       "      <td>48.0</td>\n",
       "      <td>1.0</td>\n",
       "      <td>0.0</td>\n",
       "      <td>39.60000</td>\n",
       "      <td>3.0</td>\n",
       "    </tr>\n",
       "    <tr>\n",
       "      <th>Miss</th>\n",
       "      <td>381.0</td>\n",
       "      <td>1.0</td>\n",
       "      <td>29.0</td>\n",
       "      <td>0.0</td>\n",
       "      <td>0.0</td>\n",
       "      <td>90.00000</td>\n",
       "      <td>2.0</td>\n",
       "    </tr>\n",
       "    <tr>\n",
       "      <th>Mrs</th>\n",
       "      <td>493.0</td>\n",
       "      <td>1.0</td>\n",
       "      <td>37.0</td>\n",
       "      <td>1.0</td>\n",
       "      <td>0.0</td>\n",
       "      <td>78.73335</td>\n",
       "      <td>1.0</td>\n",
       "    </tr>\n",
       "    <tr>\n",
       "      <th rowspan=\"2\" valign=\"top\">2</th>\n",
       "      <th>Miss</th>\n",
       "      <td>444.0</td>\n",
       "      <td>1.0</td>\n",
       "      <td>24.0</td>\n",
       "      <td>0.0</td>\n",
       "      <td>0.0</td>\n",
       "      <td>13.00000</td>\n",
       "      <td>1.0</td>\n",
       "    </tr>\n",
       "    <tr>\n",
       "      <th>Mrs</th>\n",
       "      <td>438.0</td>\n",
       "      <td>1.0</td>\n",
       "      <td>32.0</td>\n",
       "      <td>1.0</td>\n",
       "      <td>0.0</td>\n",
       "      <td>26.00000</td>\n",
       "      <td>1.0</td>\n",
       "    </tr>\n",
       "    <tr>\n",
       "      <th rowspan=\"2\" valign=\"top\">3</th>\n",
       "      <th>Miss</th>\n",
       "      <td>372.0</td>\n",
       "      <td>0.5</td>\n",
       "      <td>22.0</td>\n",
       "      <td>0.0</td>\n",
       "      <td>0.0</td>\n",
       "      <td>8.75625</td>\n",
       "      <td>1.0</td>\n",
       "    </tr>\n",
       "    <tr>\n",
       "      <th>Mrs</th>\n",
       "      <td>405.5</td>\n",
       "      <td>0.5</td>\n",
       "      <td>29.0</td>\n",
       "      <td>1.0</td>\n",
       "      <td>1.0</td>\n",
       "      <td>15.97500</td>\n",
       "      <td>1.0</td>\n",
       "    </tr>\n",
       "    <tr>\n",
       "      <th>1</th>\n",
       "      <th>1</th>\n",
       "      <th>Capt</th>\n",
       "      <td>746.0</td>\n",
       "      <td>0.0</td>\n",
       "      <td>70.0</td>\n",
       "      <td>1.0</td>\n",
       "      <td>1.0</td>\n",
       "      <td>71.00000</td>\n",
       "      <td>1.0</td>\n",
       "    </tr>\n",
       "  </tbody>\n",
       "</table>\n",
       "</div>"
      ],
      "text/plain": [
       "                     PassengerId  Survived   Age  SibSp  Parch      Fare  \\\n",
       "Sex Pclass Title                                                           \n",
       "0   1      Countess        760.0       1.0  33.0    0.0    0.0  86.50000   \n",
       "           Dr              797.0       1.0  49.0    0.0    0.0  25.92920   \n",
       "           Lady            557.0       1.0  48.0    1.0    0.0  39.60000   \n",
       "           Miss            381.0       1.0  29.0    0.0    0.0  90.00000   \n",
       "           Mrs             493.0       1.0  37.0    1.0    0.0  78.73335   \n",
       "    2      Miss            444.0       1.0  24.0    0.0    0.0  13.00000   \n",
       "           Mrs             438.0       1.0  32.0    1.0    0.0  26.00000   \n",
       "    3      Miss            372.0       0.5  22.0    0.0    0.0   8.75625   \n",
       "           Mrs             405.5       0.5  29.0    1.0    1.0  15.97500   \n",
       "1   1      Capt            746.0       0.0  70.0    1.0    1.0  71.00000   \n",
       "\n",
       "                     Embarked  \n",
       "Sex Pclass Title               \n",
       "0   1      Countess       1.0  \n",
       "           Dr             1.0  \n",
       "           Lady           3.0  \n",
       "           Miss           2.0  \n",
       "           Mrs            1.0  \n",
       "    2      Miss           1.0  \n",
       "           Mrs            1.0  \n",
       "    3      Miss           1.0  \n",
       "           Mrs            1.0  \n",
       "1   1      Capt           1.0  "
      ]
     },
     "execution_count": 31,
     "metadata": {},
     "output_type": "execute_result"
    }
   ],
   "source": [
    "full_data[0].groupby(['Sex','Pclass','Title']).aggregate(np.median).head(10) \n",
    "# so the title actually matters !\n",
    "#( but survived changes the value when Pclass changes: as you can see Miss survival changed when she was on Pclass 1 and 2 )\n",
    "# we gotta search by the 3 of them ('Sex','Pclass','Title')"
   ]
  },
  {
   "cell_type": "markdown",
   "metadata": {},
   "source": [
    "## getting the median age given the (Title,Sex,Pclass)"
   ]
  },
  {
   "cell_type": "code",
   "execution_count": 32,
   "metadata": {},
   "outputs": [
    {
     "name": "stderr",
     "output_type": "stream",
     "text": [
      "C:\\Users\\HP\\Anaconda3\\lib\\site-packages\\pandas\\core\\indexing.py:517: SettingWithCopyWarning: \n",
      "A value is trying to be set on a copy of a slice from a DataFrame.\n",
      "Try using .loc[row_indexer,col_indexer] = value instead\n",
      "\n",
      "See the caveats in the documentation: http://pandas.pydata.org/pandas-docs/stable/indexing.html#indexing-view-versus-copy\n",
      "  self.obj[item] = s\n"
     ]
    }
   ],
   "source": [
    "# fill the nan ages with the proper ages given (Title,Sex,Pclass)\n",
    "\n",
    "for dataset in full_data:\n",
    "    for a in dataset.Sex.unique():\n",
    "        for b in dataset.Pclass.unique():\n",
    "            for c in dataset.loc[(dataset['Sex']==a) & (dataset['Pclass']==b),'Title'].unique():\n",
    "                # get the median Age of the not-null Ages that fit the condition \n",
    "                the_median=dataset.loc[(pd.notnull(dataset['Age'])) & (dataset['Pclass']==b) &\n",
    "                                       (dataset['Sex']==a) & (dataset['Title']==c),'Age'].median()\n",
    "\n",
    "               # set the median Age on the null Ages that fit the condition \n",
    "                dataset.loc[(pd.isnull(dataset['Age'])) & (dataset['Pclass']==b) & \n",
    "                                  (dataset['Sex']==a) &(dataset['Title']==c),'Age']=the_median"
   ]
  },
  {
   "cell_type": "code",
   "execution_count": 33,
   "metadata": {},
   "outputs": [
    {
     "name": "stdout",
     "output_type": "stream",
     "text": [
      "PassengerId    0.0\n",
      "Survived       0.0\n",
      "Pclass         0.0\n",
      "Sex            0.0\n",
      "Age            0.0\n",
      "SibSp          0.0\n",
      "Parch          0.0\n",
      "Ticket         0.0\n",
      "Fare           0.0\n",
      "Cabin          0.0\n",
      "Embarked       0.0\n",
      "Title          0.0\n",
      "dtype: float64\n",
      "PassengerId    0.0\n",
      "Pclass         0.0\n",
      "Sex            0.0\n",
      "Age            0.0\n",
      "SibSp          0.0\n",
      "Parch          0.0\n",
      "Ticket         0.0\n",
      "Fare           0.0\n",
      "Cabin          0.0\n",
      "Embarked       0.0\n",
      "Title          0.0\n",
      "dtype: float64\n"
     ]
    }
   ],
   "source": [
    "for dataset in full_data:\n",
    "    print(dataset[pd.isnull(dataset.Age)].sum())\n",
    "# so now there is actually no nulls on 'Age' now "
   ]
  },
  {
   "cell_type": "code",
   "execution_count": 34,
   "metadata": {},
   "outputs": [
    {
     "data": {
      "text/html": [
       "<div>\n",
       "<style>\n",
       "    .dataframe thead tr:only-child th {\n",
       "        text-align: right;\n",
       "    }\n",
       "\n",
       "    .dataframe thead th {\n",
       "        text-align: left;\n",
       "    }\n",
       "\n",
       "    .dataframe tbody tr th {\n",
       "        vertical-align: top;\n",
       "    }\n",
       "</style>\n",
       "<table border=\"1\" class=\"dataframe\">\n",
       "  <thead>\n",
       "    <tr style=\"text-align: right;\">\n",
       "      <th></th>\n",
       "      <th>PassengerId</th>\n",
       "      <th>Survived</th>\n",
       "      <th>Pclass</th>\n",
       "      <th>Sex</th>\n",
       "      <th>Age</th>\n",
       "      <th>SibSp</th>\n",
       "      <th>Parch</th>\n",
       "      <th>Ticket</th>\n",
       "      <th>Fare</th>\n",
       "      <th>Cabin</th>\n",
       "      <th>Embarked</th>\n",
       "      <th>Title</th>\n",
       "    </tr>\n",
       "  </thead>\n",
       "  <tbody>\n",
       "    <tr>\n",
       "      <th>745</th>\n",
       "      <td>746</td>\n",
       "      <td>0</td>\n",
       "      <td>1</td>\n",
       "      <td>1</td>\n",
       "      <td>70.0</td>\n",
       "      <td>1</td>\n",
       "      <td>1</td>\n",
       "      <td>WE/P 5735</td>\n",
       "      <td>71.0</td>\n",
       "      <td>2</td>\n",
       "      <td>1</td>\n",
       "      <td>Capt</td>\n",
       "    </tr>\n",
       "  </tbody>\n",
       "</table>\n",
       "</div>"
      ],
      "text/plain": [
       "     PassengerId  Survived  Pclass Sex   Age  SibSp  Parch     Ticket  Fare  \\\n",
       "745          746         0       1   1  70.0      1      1  WE/P 5735  71.0   \n",
       "\n",
       "    Cabin  Embarked Title  \n",
       "745     2         1  Capt  "
      ]
     },
     "execution_count": 34,
     "metadata": {},
     "output_type": "execute_result"
    }
   ],
   "source": [
    "# is the titanic movie right about the captin death tho ? \n",
    "training_data,testing_data=full_data\n",
    "training_data[training_data['Title']=='Capt']\n",
    "#the captin of the titanic didn't survive...\n",
    "# well, that was sad lol "
   ]
  },
  {
   "cell_type": "code",
   "execution_count": 35,
   "metadata": {},
   "outputs": [
    {
     "data": {
      "text/plain": [
       "<matplotlib.axes._subplots.AxesSubplot at 0x1df67a3f710>"
      ]
     },
     "execution_count": 35,
     "metadata": {},
     "output_type": "execute_result"
    },
    {
     "data": {
      "image/png": "[encoded data removed]",
      "text/plain": [
       "<matplotlib.figure.Figure at 0x1df67a3fb70>"
      ]
     },
     "metadata": {},
     "output_type": "display_data"
    }
   ],
   "source": [
    "sns.barplot(full_data[0]['SibSp'],full_data[0]['Survived'],ci=False)"
   ]
  },
  {
   "cell_type": "code",
   "execution_count": 36,
   "metadata": {},
   "outputs": [
    {
     "data": {
      "text/plain": [
       "<matplotlib.axes._subplots.AxesSubplot at 0x1df67a3f0f0>"
      ]
     },
     "execution_count": 36,
     "metadata": {},
     "output_type": "execute_result"
    },
    {
     "data": {
      "image/png": "[encoded data removed]",
      "text/plain": [
       "<matplotlib.figure.Figure at 0x1df67ae14e0>"
      ]
     },
     "metadata": {},
     "output_type": "display_data"
    }
   ],
   "source": [
    "sns.barplot(full_data[0]['Parch'],full_data[0]['Survived'],ci=False)"
   ]
  },
  {
   "cell_type": "code",
   "execution_count": 37,
   "metadata": {},
   "outputs": [
    {
     "name": "stderr",
     "output_type": "stream",
     "text": [
      "C:\\Users\\HP\\Anaconda3\\lib\\site-packages\\ipykernel_launcher.py:2: SettingWithCopyWarning: \n",
      "A value is trying to be set on a copy of a slice from a DataFrame.\n",
      "Try using .loc[row_indexer,col_indexer] = value instead\n",
      "\n",
      "See the caveats in the documentation: http://pandas.pydata.org/pandas-docs/stable/indexing.html#indexing-view-versus-copy\n",
      "  \n"
     ]
    }
   ],
   "source": [
    "for dataset in full_data:\n",
    "    dataset['relations']=dataset['SibSp']+dataset['Parch']"
   ]
  },
  {
   "cell_type": "markdown",
   "metadata": {},
   "source": [
    "### so having relations have an effective percentage of the survival "
   ]
  },
  {
   "cell_type": "code",
   "execution_count": 38,
   "metadata": {},
   "outputs": [
    {
     "data": {
      "text/plain": [
       "<matplotlib.axes._subplots.AxesSubplot at 0x1df67d41470>"
      ]
     },
     "execution_count": 38,
     "metadata": {},
     "output_type": "execute_result"
    },
    {
     "data": {
      "image/png": "[encoded data removed]",
      "text/plain": [
       "<matplotlib.figure.Figure at 0x1df67b94cf8>"
      ]
     },
     "metadata": {},
     "output_type": "display_data"
    }
   ],
   "source": [
    "sns.barplot(full_data[0]['relations'],full_data[0]['Survived'],ci=False)"
   ]
  },
  {
   "cell_type": "markdown",
   "metadata": {},
   "source": [
    "# testing if the data will work or won't on a model "
   ]
  },
  {
   "cell_type": "markdown",
   "metadata": {},
   "source": [
    "### make all the features but survived as x_train/x_test and the survived as y_train to predict the y_test\n",
    "### lets try with a small chunk of the data"
   ]
  },
  {
   "cell_type": "markdown",
   "metadata": {},
   "source": [
    "### seems like i'm working properly to fit a model "
   ]
  },
  {
   "cell_type": "code",
   "execution_count": 87,
   "metadata": {},
   "outputs": [
    {
     "data": {
      "text/plain": [
       "<matplotlib.legend.Legend at 0x1df67f11048>"
      ]
     },
     "execution_count": 87,
     "metadata": {},
     "output_type": "execute_result"
    },
    {
     "data": {
      "image/png": "[encoded data removed]",
      "text/plain": [
       "<matplotlib.figure.Figure at 0x1df6a5e33c8>"
      ]
     },
     "metadata": {},
     "output_type": "display_data"
    }
   ],
   "source": [
    "survived_sex = training_data[training_data['Survived']==1]['Sex'].value_counts()\n",
    "dead_sex = training_data[training_data['Survived']==0]['Sex'].value_counts()\n",
    "df = pd.DataFrame([survived_sex,dead_sex])\n",
    "df.index = ['Survived','Dead']\n",
    "df.plot(kind='bar',stacked=True, figsize=(8,4))\n",
    "plt.legend('FM')\n"
   ]
  },
  {
   "cell_type": "markdown",
   "metadata": {},
   "source": [
    "### filling the only null value on full_fata ! "
   ]
  },
  {
   "cell_type": "code",
   "execution_count": 40,
   "metadata": {
    "collapsed": true,
    "scrolled": true
   },
   "outputs": [],
   "source": [
    "training_data=full_data[0]\n",
    "testing_data=full_data[1]"
   ]
  },
  {
   "cell_type": "markdown",
   "metadata": {},
   "source": [
    "# from here and on you can miss with the full data as you wish, if you gotta reset it just use the cell bellow "
   ]
  },
  {
   "cell_type": "code",
   "execution_count": 41,
   "metadata": {
    "collapsed": true
   },
   "outputs": [],
   "source": [
    "full_data=[training_data,testing_data]"
   ]
  },
  {
   "cell_type": "code",
   "execution_count": 42,
   "metadata": {},
   "outputs": [
    {
     "data": {
      "text/html": [
       "<div>\n",
       "<style>\n",
       "    .dataframe thead tr:only-child th {\n",
       "        text-align: right;\n",
       "    }\n",
       "\n",
       "    .dataframe thead th {\n",
       "        text-align: left;\n",
       "    }\n",
       "\n",
       "    .dataframe tbody tr th {\n",
       "        vertical-align: top;\n",
       "    }\n",
       "</style>\n",
       "<table border=\"1\" class=\"dataframe\">\n",
       "  <thead>\n",
       "    <tr style=\"text-align: right;\">\n",
       "      <th></th>\n",
       "      <th>PassengerId</th>\n",
       "      <th>Survived</th>\n",
       "      <th>Pclass</th>\n",
       "      <th>Sex</th>\n",
       "      <th>Age</th>\n",
       "      <th>SibSp</th>\n",
       "      <th>Parch</th>\n",
       "      <th>Ticket</th>\n",
       "      <th>Fare</th>\n",
       "      <th>Cabin</th>\n",
       "      <th>Embarked</th>\n",
       "      <th>Title</th>\n",
       "      <th>relations</th>\n",
       "    </tr>\n",
       "  </thead>\n",
       "  <tbody>\n",
       "    <tr>\n",
       "      <th>0</th>\n",
       "      <td>1</td>\n",
       "      <td>0</td>\n",
       "      <td>3</td>\n",
       "      <td>1</td>\n",
       "      <td>22.0</td>\n",
       "      <td>1</td>\n",
       "      <td>0</td>\n",
       "      <td>A/5 21171</td>\n",
       "      <td>7.2500</td>\n",
       "      <td>8</td>\n",
       "      <td>1</td>\n",
       "      <td>Mr</td>\n",
       "      <td>1</td>\n",
       "    </tr>\n",
       "    <tr>\n",
       "      <th>1</th>\n",
       "      <td>2</td>\n",
       "      <td>1</td>\n",
       "      <td>1</td>\n",
       "      <td>0</td>\n",
       "      <td>38.0</td>\n",
       "      <td>1</td>\n",
       "      <td>0</td>\n",
       "      <td>PC 17599</td>\n",
       "      <td>71.2833</td>\n",
       "      <td>3</td>\n",
       "      <td>3</td>\n",
       "      <td>Mrs</td>\n",
       "      <td>1</td>\n",
       "    </tr>\n",
       "  </tbody>\n",
       "</table>\n",
       "</div>"
      ],
      "text/plain": [
       "   PassengerId  Survived  Pclass Sex   Age  SibSp  Parch     Ticket     Fare  \\\n",
       "0            1         0       3   1  22.0      1      0  A/5 21171   7.2500   \n",
       "1            2         1       1   0  38.0      1      0   PC 17599  71.2833   \n",
       "\n",
       "  Cabin  Embarked Title  relations  \n",
       "0     8         1    Mr          1  \n",
       "1     3         3   Mrs          1  "
      ]
     },
     "execution_count": 42,
     "metadata": {},
     "output_type": "execute_result"
    }
   ],
   "source": [
    "full_data[0].head(2)"
   ]
  },
  {
   "cell_type": "code",
   "execution_count": 43,
   "metadata": {
    "collapsed": true,
    "scrolled": true
   },
   "outputs": [],
   "source": [
    "# making dummies by gathering the data to get all of the dummies then get it back to its orgional state + having the new dummies\n",
    "# making dummies for training and testing data (for 'Title','Cabin','Pclass','Embarked')\n",
    "\n",
    "train_length = len(full_data[0]) # to basically divide it \n",
    "\n",
    "dataset = pd.concat(objs=[full_data[0], full_data[1]], axis=0) # gathering the data \n",
    "\n",
    "# getting the dummies on the gathered data then adding the dummies to the gathered data... \n",
    "dummies_titles = pd.get_dummies(dataset['Title'],prefix='Title')\n",
    "dataset = pd.concat([dataset,dummies_titles],axis=1)\n",
    "\n",
    "\n",
    "dummies_titles = pd.get_dummies(dataset['Cabin'],prefix='Cabin')\n",
    "dataset = pd.concat([dataset,dummies_titles],axis=1)\n",
    "\n",
    "\n",
    "dummies_titles = pd.get_dummies(dataset['Pclass'],prefix='Pclass')\n",
    "dataset = pd.concat([dataset,dummies_titles],axis=1)\n",
    "\n",
    "\n",
    "dummies_titles = pd.get_dummies(dataset['Embarked'],prefix='Embarked')\n",
    "dataset = pd.concat([dataset,dummies_titles],axis=1)\n",
    "\n",
    "# saving the changes \n",
    "full_data[0] = dataset[:train_length].copy()\n",
    "full_data[1] = dataset[train_length:].copy()\n",
    "del full_data[1]['Survived'] # it is generated as nan by the first concat (while gathering the data )"
   ]
  },
  {
   "cell_type": "code",
   "execution_count": null,
   "metadata": {
    "collapsed": true
   },
   "outputs": [],
   "source": []
  },
  {
   "cell_type": "code",
   "execution_count": 44,
   "metadata": {},
   "outputs": [
    {
     "name": "stdout",
     "output_type": "stream",
     "text": [
      "42\n",
      "41\n"
     ]
    }
   ],
   "source": [
    "print(len(full_data[0].columns))\n",
    "print(len(full_data[1].columns))\n",
    "# nice :F"
   ]
  },
  {
   "cell_type": "code",
   "execution_count": 45,
   "metadata": {},
   "outputs": [
    {
     "data": {
      "text/html": [
       "<div>\n",
       "<style>\n",
       "    .dataframe thead tr:only-child th {\n",
       "        text-align: right;\n",
       "    }\n",
       "\n",
       "    .dataframe thead th {\n",
       "        text-align: left;\n",
       "    }\n",
       "\n",
       "    .dataframe tbody tr th {\n",
       "        vertical-align: top;\n",
       "    }\n",
       "</style>\n",
       "<table border=\"1\" class=\"dataframe\">\n",
       "  <thead>\n",
       "    <tr style=\"text-align: right;\">\n",
       "      <th></th>\n",
       "      <th>Age</th>\n",
       "      <th>Cabin</th>\n",
       "      <th>Embarked</th>\n",
       "      <th>Fare</th>\n",
       "      <th>Parch</th>\n",
       "      <th>PassengerId</th>\n",
       "      <th>Pclass</th>\n",
       "      <th>Sex</th>\n",
       "      <th>SibSp</th>\n",
       "      <th>Survived</th>\n",
       "      <th>...</th>\n",
       "      <th>Cabin_5</th>\n",
       "      <th>Cabin_6</th>\n",
       "      <th>Cabin_7</th>\n",
       "      <th>Cabin_8</th>\n",
       "      <th>Pclass_1</th>\n",
       "      <th>Pclass_2</th>\n",
       "      <th>Pclass_3</th>\n",
       "      <th>Embarked_1</th>\n",
       "      <th>Embarked_2</th>\n",
       "      <th>Embarked_3</th>\n",
       "    </tr>\n",
       "  </thead>\n",
       "  <tbody>\n",
       "    <tr>\n",
       "      <th>0</th>\n",
       "      <td>22.0</td>\n",
       "      <td>8</td>\n",
       "      <td>1</td>\n",
       "      <td>7.2500</td>\n",
       "      <td>0</td>\n",
       "      <td>1</td>\n",
       "      <td>3</td>\n",
       "      <td>1</td>\n",
       "      <td>1</td>\n",
       "      <td>0.0</td>\n",
       "      <td>...</td>\n",
       "      <td>0</td>\n",
       "      <td>0</td>\n",
       "      <td>0</td>\n",
       "      <td>1</td>\n",
       "      <td>0</td>\n",
       "      <td>0</td>\n",
       "      <td>1</td>\n",
       "      <td>1</td>\n",
       "      <td>0</td>\n",
       "      <td>0</td>\n",
       "    </tr>\n",
       "    <tr>\n",
       "      <th>1</th>\n",
       "      <td>38.0</td>\n",
       "      <td>3</td>\n",
       "      <td>3</td>\n",
       "      <td>71.2833</td>\n",
       "      <td>0</td>\n",
       "      <td>2</td>\n",
       "      <td>1</td>\n",
       "      <td>0</td>\n",
       "      <td>1</td>\n",
       "      <td>1.0</td>\n",
       "      <td>...</td>\n",
       "      <td>0</td>\n",
       "      <td>0</td>\n",
       "      <td>0</td>\n",
       "      <td>0</td>\n",
       "      <td>1</td>\n",
       "      <td>0</td>\n",
       "      <td>0</td>\n",
       "      <td>0</td>\n",
       "      <td>0</td>\n",
       "      <td>1</td>\n",
       "    </tr>\n",
       "  </tbody>\n",
       "</table>\n",
       "<p>2 rows × 42 columns</p>\n",
       "</div>"
      ],
      "text/plain": [
       "    Age Cabin  Embarked     Fare  Parch  PassengerId  Pclass Sex  SibSp  \\\n",
       "0  22.0     8         1   7.2500      0            1       3   1      1   \n",
       "1  38.0     3         3  71.2833      0            2       1   0      1   \n",
       "\n",
       "   Survived     ...     Cabin_5 Cabin_6  Cabin_7  Cabin_8  Pclass_1  Pclass_2  \\\n",
       "0       0.0     ...           0       0        0        1         0         0   \n",
       "1       1.0     ...           0       0        0        0         1         0   \n",
       "\n",
       "   Pclass_3  Embarked_1  Embarked_2  Embarked_3  \n",
       "0         1           1           0           0  \n",
       "1         0           0           0           1  \n",
       "\n",
       "[2 rows x 42 columns]"
      ]
     },
     "execution_count": 45,
     "metadata": {},
     "output_type": "execute_result"
    }
   ],
   "source": [
    "full_data[0].head(2)"
   ]
  },
  {
   "cell_type": "code",
   "execution_count": 46,
   "metadata": {
    "collapsed": true
   },
   "outputs": [],
   "source": [
    "# deleting the columns that we changed \n",
    "del full_data[0]['Title']\n",
    "del full_data[1]['Title']\n",
    "\n",
    "del full_data[0]['Cabin']\n",
    "del full_data[1]['Cabin']\n",
    "\n",
    "del full_data[0]['Pclass']\n",
    "del full_data[1]['Pclass']\n",
    "\n",
    "del full_data[0]['Embarked']\n",
    "del full_data[1]['Embarked']\n",
    "\n",
    "del full_data[0]['PassengerId']\n",
    "del full_data[1]['PassengerId']\n",
    "\n",
    "del full_data[0]['Ticket']\n",
    "del full_data[1]['Ticket']"
   ]
  },
  {
   "cell_type": "code",
   "execution_count": 47,
   "metadata": {},
   "outputs": [
    {
     "name": "stdout",
     "output_type": "stream",
     "text": [
      "36\n",
      "35\n"
     ]
    }
   ],
   "source": [
    "print(len(full_data[0].columns))\n",
    "print(len(full_data[1].columns))\n",
    "# nice :F"
   ]
  },
  {
   "cell_type": "code",
   "execution_count": 48,
   "metadata": {},
   "outputs": [
    {
     "name": "stdout",
     "output_type": "stream",
     "text": [
      "Index(['Age', 'Fare', 'Parch', 'Sex', 'SibSp', 'Survived', 'relations',\n",
      "       'Title_Capt', 'Title_Col', 'Title_Countess', 'Title_Don', 'Title_Dona',\n",
      "       'Title_Dr', 'Title_Jonkheer', 'Title_Lady', 'Title_Major',\n",
      "       'Title_Master', 'Title_Miss', 'Title_Mr', 'Title_Mrs', 'Title_Rev',\n",
      "       'Title_Sir', 'Cabin_1', 'Cabin_2', 'Cabin_3', 'Cabin_4', 'Cabin_5',\n",
      "       'Cabin_6', 'Cabin_7', 'Cabin_8', 'Pclass_1', 'Pclass_2', 'Pclass_3',\n",
      "       'Embarked_1', 'Embarked_2', 'Embarked_3'],\n",
      "      dtype='object')\n"
     ]
    },
    {
     "data": {
      "text/html": [
       "<div>\n",
       "<style>\n",
       "    .dataframe thead tr:only-child th {\n",
       "        text-align: right;\n",
       "    }\n",
       "\n",
       "    .dataframe thead th {\n",
       "        text-align: left;\n",
       "    }\n",
       "\n",
       "    .dataframe tbody tr th {\n",
       "        vertical-align: top;\n",
       "    }\n",
       "</style>\n",
       "<table border=\"1\" class=\"dataframe\">\n",
       "  <thead>\n",
       "    <tr style=\"text-align: right;\">\n",
       "      <th></th>\n",
       "      <th>Age</th>\n",
       "      <th>Fare</th>\n",
       "      <th>Parch</th>\n",
       "      <th>Sex</th>\n",
       "      <th>SibSp</th>\n",
       "      <th>Survived</th>\n",
       "      <th>relations</th>\n",
       "      <th>Title_Capt</th>\n",
       "      <th>Title_Col</th>\n",
       "      <th>Title_Countess</th>\n",
       "      <th>...</th>\n",
       "      <th>Cabin_5</th>\n",
       "      <th>Cabin_6</th>\n",
       "      <th>Cabin_7</th>\n",
       "      <th>Cabin_8</th>\n",
       "      <th>Pclass_1</th>\n",
       "      <th>Pclass_2</th>\n",
       "      <th>Pclass_3</th>\n",
       "      <th>Embarked_1</th>\n",
       "      <th>Embarked_2</th>\n",
       "      <th>Embarked_3</th>\n",
       "    </tr>\n",
       "  </thead>\n",
       "  <tbody>\n",
       "    <tr>\n",
       "      <th>0</th>\n",
       "      <td>22.0</td>\n",
       "      <td>7.2500</td>\n",
       "      <td>0</td>\n",
       "      <td>1</td>\n",
       "      <td>1</td>\n",
       "      <td>0.0</td>\n",
       "      <td>1</td>\n",
       "      <td>0</td>\n",
       "      <td>0</td>\n",
       "      <td>0</td>\n",
       "      <td>...</td>\n",
       "      <td>0</td>\n",
       "      <td>0</td>\n",
       "      <td>0</td>\n",
       "      <td>1</td>\n",
       "      <td>0</td>\n",
       "      <td>0</td>\n",
       "      <td>1</td>\n",
       "      <td>1</td>\n",
       "      <td>0</td>\n",
       "      <td>0</td>\n",
       "    </tr>\n",
       "    <tr>\n",
       "      <th>1</th>\n",
       "      <td>38.0</td>\n",
       "      <td>71.2833</td>\n",
       "      <td>0</td>\n",
       "      <td>0</td>\n",
       "      <td>1</td>\n",
       "      <td>1.0</td>\n",
       "      <td>1</td>\n",
       "      <td>0</td>\n",
       "      <td>0</td>\n",
       "      <td>0</td>\n",
       "      <td>...</td>\n",
       "      <td>0</td>\n",
       "      <td>0</td>\n",
       "      <td>0</td>\n",
       "      <td>0</td>\n",
       "      <td>1</td>\n",
       "      <td>0</td>\n",
       "      <td>0</td>\n",
       "      <td>0</td>\n",
       "      <td>0</td>\n",
       "      <td>1</td>\n",
       "    </tr>\n",
       "  </tbody>\n",
       "</table>\n",
       "<p>2 rows × 36 columns</p>\n",
       "</div>"
      ],
      "text/plain": [
       "    Age     Fare  Parch Sex  SibSp  Survived  relations  Title_Capt  \\\n",
       "0  22.0   7.2500      0   1      1       0.0          1           0   \n",
       "1  38.0  71.2833      0   0      1       1.0          1           0   \n",
       "\n",
       "   Title_Col  Title_Countess     ...      Cabin_5  Cabin_6  Cabin_7  Cabin_8  \\\n",
       "0          0               0     ...            0        0        0        1   \n",
       "1          0               0     ...            0        0        0        0   \n",
       "\n",
       "   Pclass_1  Pclass_2  Pclass_3  Embarked_1  Embarked_2  Embarked_3  \n",
       "0         0         0         1           1           0           0  \n",
       "1         1         0         0           0           0           1  \n",
       "\n",
       "[2 rows x 36 columns]"
      ]
     },
     "execution_count": 48,
     "metadata": {},
     "output_type": "execute_result"
    }
   ],
   "source": [
    "print(full_data[0].columns)\n",
    "full_data[0].head(2)"
   ]
  },
  {
   "cell_type": "code",
   "execution_count": 49,
   "metadata": {},
   "outputs": [
    {
     "name": "stdout",
     "output_type": "stream",
     "text": [
      "Index(['Age', 'Fare', 'Parch', 'Sex', 'SibSp', 'relations', 'Title_Capt',\n",
      "       'Title_Col', 'Title_Countess', 'Title_Don', 'Title_Dona', 'Title_Dr',\n",
      "       'Title_Jonkheer', 'Title_Lady', 'Title_Major', 'Title_Master',\n",
      "       'Title_Miss', 'Title_Mr', 'Title_Mrs', 'Title_Rev', 'Title_Sir',\n",
      "       'Cabin_1', 'Cabin_2', 'Cabin_3', 'Cabin_4', 'Cabin_5', 'Cabin_6',\n",
      "       'Cabin_7', 'Cabin_8', 'Pclass_1', 'Pclass_2', 'Pclass_3', 'Embarked_1',\n",
      "       'Embarked_2', 'Embarked_3'],\n",
      "      dtype='object')\n"
     ]
    },
    {
     "data": {
      "text/html": [
       "<div>\n",
       "<style>\n",
       "    .dataframe thead tr:only-child th {\n",
       "        text-align: right;\n",
       "    }\n",
       "\n",
       "    .dataframe thead th {\n",
       "        text-align: left;\n",
       "    }\n",
       "\n",
       "    .dataframe tbody tr th {\n",
       "        vertical-align: top;\n",
       "    }\n",
       "</style>\n",
       "<table border=\"1\" class=\"dataframe\">\n",
       "  <thead>\n",
       "    <tr style=\"text-align: right;\">\n",
       "      <th></th>\n",
       "      <th>Age</th>\n",
       "      <th>Fare</th>\n",
       "      <th>Parch</th>\n",
       "      <th>Sex</th>\n",
       "      <th>SibSp</th>\n",
       "      <th>relations</th>\n",
       "      <th>Title_Capt</th>\n",
       "      <th>Title_Col</th>\n",
       "      <th>Title_Countess</th>\n",
       "      <th>Title_Don</th>\n",
       "      <th>...</th>\n",
       "      <th>Cabin_5</th>\n",
       "      <th>Cabin_6</th>\n",
       "      <th>Cabin_7</th>\n",
       "      <th>Cabin_8</th>\n",
       "      <th>Pclass_1</th>\n",
       "      <th>Pclass_2</th>\n",
       "      <th>Pclass_3</th>\n",
       "      <th>Embarked_1</th>\n",
       "      <th>Embarked_2</th>\n",
       "      <th>Embarked_3</th>\n",
       "    </tr>\n",
       "  </thead>\n",
       "  <tbody>\n",
       "    <tr>\n",
       "      <th>0</th>\n",
       "      <td>34.5</td>\n",
       "      <td>7.8292</td>\n",
       "      <td>0</td>\n",
       "      <td>1</td>\n",
       "      <td>0</td>\n",
       "      <td>0</td>\n",
       "      <td>0</td>\n",
       "      <td>0</td>\n",
       "      <td>0</td>\n",
       "      <td>0</td>\n",
       "      <td>...</td>\n",
       "      <td>0</td>\n",
       "      <td>0</td>\n",
       "      <td>0</td>\n",
       "      <td>1</td>\n",
       "      <td>0</td>\n",
       "      <td>0</td>\n",
       "      <td>1</td>\n",
       "      <td>0</td>\n",
       "      <td>1</td>\n",
       "      <td>0</td>\n",
       "    </tr>\n",
       "    <tr>\n",
       "      <th>1</th>\n",
       "      <td>47.0</td>\n",
       "      <td>7.0000</td>\n",
       "      <td>0</td>\n",
       "      <td>0</td>\n",
       "      <td>1</td>\n",
       "      <td>1</td>\n",
       "      <td>0</td>\n",
       "      <td>0</td>\n",
       "      <td>0</td>\n",
       "      <td>0</td>\n",
       "      <td>...</td>\n",
       "      <td>0</td>\n",
       "      <td>0</td>\n",
       "      <td>0</td>\n",
       "      <td>1</td>\n",
       "      <td>0</td>\n",
       "      <td>0</td>\n",
       "      <td>1</td>\n",
       "      <td>1</td>\n",
       "      <td>0</td>\n",
       "      <td>0</td>\n",
       "    </tr>\n",
       "  </tbody>\n",
       "</table>\n",
       "<p>2 rows × 35 columns</p>\n",
       "</div>"
      ],
      "text/plain": [
       "    Age    Fare  Parch Sex  SibSp  relations  Title_Capt  Title_Col  \\\n",
       "0  34.5  7.8292      0   1      0          0           0          0   \n",
       "1  47.0  7.0000      0   0      1          1           0          0   \n",
       "\n",
       "   Title_Countess  Title_Don     ...      Cabin_5  Cabin_6  Cabin_7  Cabin_8  \\\n",
       "0               0          0     ...            0        0        0        1   \n",
       "1               0          0     ...            0        0        0        1   \n",
       "\n",
       "   Pclass_1  Pclass_2  Pclass_3  Embarked_1  Embarked_2  Embarked_3  \n",
       "0         0         0         1           0           1           0  \n",
       "1         0         0         1           1           0           0  \n",
       "\n",
       "[2 rows x 35 columns]"
      ]
     },
     "execution_count": 49,
     "metadata": {},
     "output_type": "execute_result"
    }
   ],
   "source": [
    "print(full_data[1].columns)\n",
    "full_data[1].head(2)"
   ]
  },
  {
   "cell_type": "markdown",
   "metadata": {},
   "source": [
    "# now the data is basically ready to be used for ML"
   ]
  },
  {
   "cell_type": "code",
   "execution_count": 50,
   "metadata": {
    "scrolled": true
   },
   "outputs": [
    {
     "data": {
      "text/plain": [
       "array([ 34.5,  47. ,  62. ])"
      ]
     },
     "execution_count": 50,
     "metadata": {},
     "output_type": "execute_result"
    }
   ],
   "source": [
    "# this is how the ravel actually looks like # the output of the model seems to get out as a ravel \n",
    "s=full_data[1]['Age'].copy()\n",
    "s.values.ravel()[:3]\n",
    "\n",
    "\n"
   ]
  },
  {
   "cell_type": "code",
   "execution_count": 51,
   "metadata": {
    "collapsed": true
   },
   "outputs": [],
   "source": [
    "temp1=full_data[0].copy()\n",
    "temp2=full_data[1].copy()"
   ]
  },
  {
   "cell_type": "code",
   "execution_count": 52,
   "metadata": {
    "collapsed": true
   },
   "outputs": [],
   "source": [
    "full_data[0]=temp1.copy()\n",
    "full_data[1]=temp2.copy()"
   ]
  },
  {
   "cell_type": "markdown",
   "metadata": {},
   "source": [
    "# so from here, since we're sure that everything is working preperly i'm gonna make the validation set so i can test my algorithms ! "
   ]
  },
  {
   "cell_type": "markdown",
   "metadata": {},
   "source": [
    "### i'm making the validation out of the training data , so i will take the fifth of the data as a validation sit and i'll use the cross validation for it "
   ]
  },
  {
   "cell_type": "code",
   "execution_count": 53,
   "metadata": {},
   "outputs": [
    {
     "name": "stdout",
     "output_type": "stream",
     "text": [
      "the length of the trianing is  711\n",
      "the length of the validation is  178\n"
     ]
    }
   ],
   "source": [
    "#dataset = pd.concat(objs=[full_data[0], full_data[1]], axis=0) # gathering the data \n",
    "from sklearn.model_selection import train_test_split\n",
    "training=full_data[0]\n",
    "training,validation=train_test_split(training,test_size=0.2)\n",
    "print('the length of the trianing is ',len(training))\n",
    "print('the length of the validation is ',len(validation))"
   ]
  },
  {
   "cell_type": "markdown",
   "metadata": {},
   "source": [
    "### so i will try to delete the column that i might not need (cabin_8)"
   ]
  },
  {
   "cell_type": "code",
   "execution_count": 54,
   "metadata": {
    "collapsed": true
   },
   "outputs": [],
   "source": [
    "training_data,testing_data=[full_data[0],full_data[1]]"
   ]
  },
  {
   "cell_type": "code",
   "execution_count": 55,
   "metadata": {
    "collapsed": true
   },
   "outputs": [],
   "source": [
    "full_data=[training_data,testing_data]"
   ]
  },
  {
   "cell_type": "code",
   "execution_count": null,
   "metadata": {},
   "outputs": [],
   "source": []
  },
  {
   "cell_type": "code",
   "execution_count": 56,
   "metadata": {},
   "outputs": [],
   "source": [
    "from sklearn.linear_model import LogisticRegression\n",
    "logistic=LogisticRegression()\n",
    "trying=full_data[0].copy()\n",
    "training_x=trying.copy()\n",
    "del training_x['Survived']\n",
    "training_y =trying['Survived'].copy()\n",
    "\n",
    "ss=logistic.fit(training_x,training_y)\n",
    "testing=full_data[1]\n",
    "result=logistic.predict(testing)\n",
    "#print(logistic.score(x_test,y_test))\n",
    "\n"
   ]
  },
  {
   "cell_type": "code",
   "execution_count": 57,
   "metadata": {},
   "outputs": [
    {
     "name": "stdout",
     "output_type": "stream",
     "text": [
      "0.747191011236\n"
     ]
    },
    {
     "data": {
      "text/plain": [
       "array([ 0.82022472,  0.80898876,  0.80898876,  0.82022472,  0.85875706])"
      ]
     },
     "execution_count": 57,
     "metadata": {},
     "output_type": "execute_result"
    }
   ],
   "source": [
    "# so the first one is basically doing the algorithm for the testing data alone \n",
    "x_train,x_test,y_train,y_test = train_test_split(training_x,training_y,test_size=0.2,random_state=0)\n",
    "logistic =LogisticRegression()\n",
    "ss=logistic.fit(x_train,y_train)\n",
    "print(logistic.score(x_test,y_test))\n",
    "\n",
    "# to make it for as a cross validation thingy \n",
    "trying=full_data[0].copy()\n",
    "training_x=trying.copy()\n",
    "del training_x['Survived']\n",
    "training_y =trying['Survived'].copy()\n",
    "\n",
    "from sklearn.model_selection import cross_val_score\n",
    "scores=cross_val_score(logistic,training_x,training_y,cv=5)\n",
    "scores"
   ]
  },
  {
   "cell_type": "markdown",
   "metadata": {},
   "source": [
    "### the same code but with deleting the Cabin_8 ( which is the Cabin that have the null values ) ( it's a bit missed up ) "
   ]
  },
  {
   "cell_type": "code",
   "execution_count": 58,
   "metadata": {},
   "outputs": [
    {
     "name": "stdout",
     "output_type": "stream",
     "text": [
      "0.747191011236\n"
     ]
    },
    {
     "data": {
      "text/plain": [
       "array([ 0.8258427 ,  0.81460674,  0.81460674,  0.80898876,  0.85310734])"
      ]
     },
     "execution_count": 58,
     "metadata": {},
     "output_type": "execute_result"
    }
   ],
   "source": [
    "del full_data[0]['Cabin_8']\n",
    "del full_data[1]['Cabin_8']\n",
    "# so the first one is basically doing the algorithm for the testing data alone \n",
    "x_train,x_test,y_train,y_test = train_test_split(training_x,training_y,test_size=0.2,random_state=0)\n",
    "logistic =LogisticRegression()\n",
    "ss=logistic.fit(x_train,y_train)\n",
    "print(logistic.score(x_test,y_test))\n",
    "\n",
    "# to make it for as a cross validation thingy \n",
    "trying=full_data[0].copy()\n",
    "training_x=trying.copy()\n",
    "del training_x['Survived']\n",
    "training_y =trying['Survived'].copy()\n",
    "\n",
    "from sklearn.model_selection import cross_val_score\n",
    "scores=cross_val_score(logistic,training_x,training_y,cv=5)\n",
    "scores"
   ]
  },
  {
   "cell_type": "code",
   "execution_count": 59,
   "metadata": {},
   "outputs": [
    {
     "data": {
      "text/html": [
       "<div>\n",
       "<style>\n",
       "    .dataframe thead tr:only-child th {\n",
       "        text-align: right;\n",
       "    }\n",
       "\n",
       "    .dataframe thead th {\n",
       "        text-align: left;\n",
       "    }\n",
       "\n",
       "    .dataframe tbody tr th {\n",
       "        vertical-align: top;\n",
       "    }\n",
       "</style>\n",
       "<table border=\"1\" class=\"dataframe\">\n",
       "  <thead>\n",
       "    <tr style=\"text-align: right;\">\n",
       "      <th></th>\n",
       "      <th>Age</th>\n",
       "      <th>Fare</th>\n",
       "      <th>Parch</th>\n",
       "      <th>Sex</th>\n",
       "      <th>SibSp</th>\n",
       "      <th>relations</th>\n",
       "      <th>Title_Capt</th>\n",
       "      <th>Title_Col</th>\n",
       "      <th>Title_Countess</th>\n",
       "      <th>Title_Don</th>\n",
       "      <th>...</th>\n",
       "      <th>Cabin_4</th>\n",
       "      <th>Cabin_5</th>\n",
       "      <th>Cabin_6</th>\n",
       "      <th>Cabin_7</th>\n",
       "      <th>Pclass_1</th>\n",
       "      <th>Pclass_2</th>\n",
       "      <th>Pclass_3</th>\n",
       "      <th>Embarked_1</th>\n",
       "      <th>Embarked_2</th>\n",
       "      <th>Embarked_3</th>\n",
       "    </tr>\n",
       "  </thead>\n",
       "  <tbody>\n",
       "    <tr>\n",
       "      <th>0</th>\n",
       "      <td>34.5</td>\n",
       "      <td>7.8292</td>\n",
       "      <td>0</td>\n",
       "      <td>1</td>\n",
       "      <td>0</td>\n",
       "      <td>0</td>\n",
       "      <td>0</td>\n",
       "      <td>0</td>\n",
       "      <td>0</td>\n",
       "      <td>0</td>\n",
       "      <td>...</td>\n",
       "      <td>0</td>\n",
       "      <td>0</td>\n",
       "      <td>0</td>\n",
       "      <td>0</td>\n",
       "      <td>0</td>\n",
       "      <td>0</td>\n",
       "      <td>1</td>\n",
       "      <td>0</td>\n",
       "      <td>1</td>\n",
       "      <td>0</td>\n",
       "    </tr>\n",
       "    <tr>\n",
       "      <th>1</th>\n",
       "      <td>47.0</td>\n",
       "      <td>7.0000</td>\n",
       "      <td>0</td>\n",
       "      <td>0</td>\n",
       "      <td>1</td>\n",
       "      <td>1</td>\n",
       "      <td>0</td>\n",
       "      <td>0</td>\n",
       "      <td>0</td>\n",
       "      <td>0</td>\n",
       "      <td>...</td>\n",
       "      <td>0</td>\n",
       "      <td>0</td>\n",
       "      <td>0</td>\n",
       "      <td>0</td>\n",
       "      <td>0</td>\n",
       "      <td>0</td>\n",
       "      <td>1</td>\n",
       "      <td>1</td>\n",
       "      <td>0</td>\n",
       "      <td>0</td>\n",
       "    </tr>\n",
       "  </tbody>\n",
       "</table>\n",
       "<p>2 rows × 34 columns</p>\n",
       "</div>"
      ],
      "text/plain": [
       "    Age    Fare  Parch Sex  SibSp  relations  Title_Capt  Title_Col  \\\n",
       "0  34.5  7.8292      0   1      0          0           0          0   \n",
       "1  47.0  7.0000      0   0      1          1           0          0   \n",
       "\n",
       "   Title_Countess  Title_Don     ...      Cabin_4  Cabin_5  Cabin_6  Cabin_7  \\\n",
       "0               0          0     ...            0        0        0        0   \n",
       "1               0          0     ...            0        0        0        0   \n",
       "\n",
       "   Pclass_1  Pclass_2  Pclass_3  Embarked_1  Embarked_2  Embarked_3  \n",
       "0         0         0         1           0           1           0  \n",
       "1         0         0         1           1           0           0  \n",
       "\n",
       "[2 rows x 34 columns]"
      ]
     },
     "execution_count": 59,
     "metadata": {},
     "output_type": "execute_result"
    }
   ],
   "source": [
    "testing.head(2)"
   ]
  },
  {
   "cell_type": "code",
   "execution_count": 60,
   "metadata": {},
   "outputs": [
    {
     "data": {
      "text/plain": [
       "array([ 0.6741573 ,  0.70786517,  0.75280899,  0.73595506,  0.71751412])"
      ]
     },
     "execution_count": 60,
     "metadata": {},
     "output_type": "execute_result"
    }
   ],
   "source": [
    "from sklearn.neighbors import KNeighborsClassifier\n",
    "kNeibours=KNeighborsClassifier()\n",
    "\n",
    "trying=full_data[0].copy()\n",
    "training_x=trying.copy()\n",
    "del training_x['Survived']\n",
    "training_y =trying['Survived'].copy()\n",
    "\n",
    "from sklearn.model_selection import cross_val_score\n",
    "scores=cross_val_score(kNeibours,training_x,training_y,cv=5)\n",
    "scores"
   ]
  },
  {
   "cell_type": "code",
   "execution_count": 61,
   "metadata": {},
   "outputs": [
    {
     "data": {
      "text/plain": [
       "array([ 0.75842697,  0.78651685,  0.79775281,  0.71910112,  0.79096045])"
      ]
     },
     "execution_count": 61,
     "metadata": {},
     "output_type": "execute_result"
    }
   ],
   "source": [
    "from sklearn.tree import DecisionTreeClassifier\n",
    "tree=DecisionTreeClassifier()\n",
    "\n",
    "trying=full_data[0].copy()\n",
    "training_x=trying.copy()\n",
    "del training_x['Survived']\n",
    "training_y =trying['Survived'].copy()\n",
    "\n",
    "from sklearn.model_selection import cross_val_score\n",
    "scores=cross_val_score(tree,training_x,training_y,cv=5)\n",
    "scores"
   ]
  },
  {
   "cell_type": "code",
   "execution_count": 62,
   "metadata": {},
   "outputs": [
    {
     "data": {
      "text/plain": [
       "array([-0.1775468 ,  0.08760486,  0.10843991, -0.09817787,  0.00873656])"
      ]
     },
     "execution_count": 62,
     "metadata": {},
     "output_type": "execute_result"
    }
   ],
   "source": [
    "from sklearn.tree import DecisionTreeRegressor\n",
    "regressor=DecisionTreeRegressor()\n",
    "\n",
    "trying=full_data[0].copy()\n",
    "training_x=trying.copy()\n",
    "del training_x['Survived']\n",
    "training_y =trying['Survived'].copy()\n",
    "\n",
    "from sklearn.model_selection import cross_val_score\n",
    "scores=cross_val_score(regressor,training_x,training_y,cv=5)\n",
    "scores"
   ]
  },
  {
   "cell_type": "code",
   "execution_count": 63,
   "metadata": {},
   "outputs": [
    {
     "data": {
      "text/plain": [
       "array([ 0.79213483,  0.76404494,  0.8258427 ,  0.75280899,  0.83615819])"
      ]
     },
     "execution_count": 63,
     "metadata": {},
     "output_type": "execute_result"
    }
   ],
   "source": [
    "from sklearn.ensemble import RandomForestClassifier\n",
    "forest=RandomForestClassifier()\n",
    "trying=full_data[0].copy()\n",
    "training_x=trying.copy()\n",
    "del training_x['Survived']\n",
    "training_y =trying['Survived'].copy()\n",
    "\n",
    "from sklearn.model_selection import cross_val_score\n",
    "scores=cross_val_score(forest,training_x,training_y,cv=5)\n",
    "scores"
   ]
  },
  {
   "cell_type": "code",
   "execution_count": 64,
   "metadata": {},
   "outputs": [
    {
     "data": {
      "text/plain": [
       "array([ 0.34601216,  0.36944679,  0.40216463,  0.30003119,  0.53346243])"
      ]
     },
     "execution_count": 64,
     "metadata": {},
     "output_type": "execute_result"
    }
   ],
   "source": [
    "from sklearn.linear_model import LinearRegression\n",
    "linearRegression=LinearRegression()\n",
    "trying=full_data[0].copy()\n",
    "training_x=trying.copy()\n",
    "del training_x['Survived']\n",
    "training_y =trying['Survived'].copy()\n",
    "\n",
    "from sklearn.model_selection import cross_val_score\n",
    "scores=cross_val_score(linearRegression,training_x,training_y,cv=5)\n",
    "scores"
   ]
  },
  {
   "cell_type": "code",
   "execution_count": 65,
   "metadata": {},
   "outputs": [
    {
     "data": {
      "text/plain": [
       "array([ 0.65168539,  0.73595506,  0.70786517,  0.75280899,  0.75141243])"
      ]
     },
     "execution_count": 65,
     "metadata": {},
     "output_type": "execute_result"
    }
   ],
   "source": [
    "from sklearn.svm import SVC\n",
    "svc=SVC()\n",
    "\n",
    "trying=full_data[0].copy()\n",
    "training_x=trying.copy()\n",
    "del training_x['Survived']\n",
    "training_y =trying['Survived'].copy()\n",
    "\n",
    "from sklearn.model_selection import cross_val_score\n",
    "scores=cross_val_score(svc,training_x,training_y,cv=5)\n",
    "scores"
   ]
  },
  {
   "cell_type": "code",
   "execution_count": 66,
   "metadata": {},
   "outputs": [
    {
     "data": {
      "text/plain": [
       "array([ 0.05020927,  0.22968337,  0.21995611,  0.23913502,  0.38184378])"
      ]
     },
     "execution_count": 66,
     "metadata": {},
     "output_type": "execute_result"
    }
   ],
   "source": [
    "from sklearn.svm import SVR\n",
    "svr=SVR()\n",
    "\n",
    "trying=full_data[0].copy()\n",
    "training_x=trying.copy()\n",
    "del training_x['Survived']\n",
    "training_y =trying['Survived'].copy()\n",
    "\n",
    "from sklearn.model_selection import cross_val_score\n",
    "scores=cross_val_score(svr,training_x,training_y,cv=5)\n",
    "scores"
   ]
  },
  {
   "cell_type": "markdown",
   "metadata": {},
   "source": [
    "### LogisticRegression is the first we picked, and its the best one."
   ]
  },
  {
   "cell_type": "markdown",
   "metadata": {},
   "source": [
    "### a small advice .... visit http://scikit-learn.org/stable/modules/cross_validation.html to see what did i actually do ! "
   ]
  },
  {
   "cell_type": "code",
   "execution_count": 67,
   "metadata": {},
   "outputs": [
    {
     "ename": "KeyError",
     "evalue": "'PassengerId'",
     "output_type": "error",
     "traceback": [
      "\u001b[1;31m---------------------------------------------------------------------------\u001b[0m",
      "\u001b[1;31mKeyError\u001b[0m                                  Traceback (most recent call last)",
      "\u001b[1;32mC:\\Users\\HP\\Anaconda3\\lib\\site-packages\\pandas\\core\\indexes\\base.py\u001b[0m in \u001b[0;36mget_loc\u001b[1;34m(self, key, method, tolerance)\u001b[0m\n\u001b[0;32m   2392\u001b[0m             \u001b[1;32mtry\u001b[0m\u001b[1;33m:\u001b[0m\u001b[1;33m\u001b[0m\u001b[0m\n\u001b[1;32m-> 2393\u001b[1;33m                 \u001b[1;32mreturn\u001b[0m \u001b[0mself\u001b[0m\u001b[1;33m.\u001b[0m\u001b[0m_engine\u001b[0m\u001b[1;33m.\u001b[0m\u001b[0mget_loc\u001b[0m\u001b[1;33m(\u001b[0m\u001b[0mkey\u001b[0m\u001b[1;33m)\u001b[0m\u001b[1;33m\u001b[0m\u001b[0m\n\u001b[0m\u001b[0;32m   2394\u001b[0m             \u001b[1;32mexcept\u001b[0m \u001b[0mKeyError\u001b[0m\u001b[1;33m:\u001b[0m\u001b[1;33m\u001b[0m\u001b[0m\n",
      "\u001b[1;32mpandas\\_libs\\index.pyx\u001b[0m in \u001b[0;36mpandas._libs.index.IndexEngine.get_loc (pandas\\_libs\\index.c:5239)\u001b[1;34m()\u001b[0m\n",
      "\u001b[1;32mpandas\\_libs\\index.pyx\u001b[0m in \u001b[0;36mpandas._libs.index.IndexEngine.get_loc (pandas\\_libs\\index.c:5085)\u001b[1;34m()\u001b[0m\n",
      "\u001b[1;32mpandas\\_libs\\hashtable_class_helper.pxi\u001b[0m in \u001b[0;36mpandas._libs.hashtable.PyObjectHashTable.get_item (pandas\\_libs\\hashtable.c:20405)\u001b[1;34m()\u001b[0m\n",
      "\u001b[1;32mpandas\\_libs\\hashtable_class_helper.pxi\u001b[0m in \u001b[0;36mpandas._libs.hashtable.PyObjectHashTable.get_item (pandas\\_libs\\hashtable.c:20359)\u001b[1;34m()\u001b[0m\n",
      "\u001b[1;31mKeyError\u001b[0m: 'PassengerId'",
      "\nDuring handling of the above exception, another exception occurred:\n",
      "\u001b[1;31mKeyError\u001b[0m                                  Traceback (most recent call last)",
      "\u001b[1;32m<ipython-input-67-b954cc236455>\u001b[0m in \u001b[0;36m<module>\u001b[1;34m()\u001b[0m\n\u001b[1;32m----> 1\u001b[1;33m \u001b[0ma\u001b[0m\u001b[1;33m=\u001b[0m\u001b[0mpd\u001b[0m\u001b[1;33m.\u001b[0m\u001b[0mDataFrame\u001b[0m\u001b[1;33m(\u001b[0m\u001b[0mtesting_data\u001b[0m\u001b[1;33m[\u001b[0m\u001b[1;34m'PassengerId'\u001b[0m\u001b[1;33m]\u001b[0m\u001b[1;33m)\u001b[0m\u001b[1;33m\u001b[0m\u001b[0m\n\u001b[0m\u001b[0;32m      2\u001b[0m \u001b[0ma\u001b[0m\u001b[1;33m[\u001b[0m\u001b[1;34m'Survived'\u001b[0m\u001b[1;33m]\u001b[0m\u001b[1;33m=\u001b[0m\u001b[0mresult\u001b[0m\u001b[1;33m\u001b[0m\u001b[0m\n\u001b[0;32m      3\u001b[0m \u001b[1;31m#del a['index']\u001b[0m\u001b[1;33m\u001b[0m\u001b[1;33m\u001b[0m\u001b[0m\n\u001b[0;32m      4\u001b[0m \u001b[0ma\u001b[0m\u001b[1;33m.\u001b[0m\u001b[0mto_csv\u001b[0m\u001b[1;33m(\u001b[0m\u001b[1;34m'submission.csv'\u001b[0m\u001b[1;33m,\u001b[0m\u001b[0mindex\u001b[0m\u001b[1;33m=\u001b[0m\u001b[1;32mFalse\u001b[0m\u001b[1;33m)\u001b[0m\u001b[1;33m\u001b[0m\u001b[0m\n\u001b[0;32m      5\u001b[0m \u001b[1;31m#a.reindex('PassengerId')\u001b[0m\u001b[1;33m\u001b[0m\u001b[1;33m\u001b[0m\u001b[0m\n",
      "\u001b[1;32mC:\\Users\\HP\\Anaconda3\\lib\\site-packages\\pandas\\core\\frame.py\u001b[0m in \u001b[0;36m__getitem__\u001b[1;34m(self, key)\u001b[0m\n\u001b[0;32m   2060\u001b[0m             \u001b[1;32mreturn\u001b[0m \u001b[0mself\u001b[0m\u001b[1;33m.\u001b[0m\u001b[0m_getitem_multilevel\u001b[0m\u001b[1;33m(\u001b[0m\u001b[0mkey\u001b[0m\u001b[1;33m)\u001b[0m\u001b[1;33m\u001b[0m\u001b[0m\n\u001b[0;32m   2061\u001b[0m         \u001b[1;32melse\u001b[0m\u001b[1;33m:\u001b[0m\u001b[1;33m\u001b[0m\u001b[0m\n\u001b[1;32m-> 2062\u001b[1;33m             \u001b[1;32mreturn\u001b[0m \u001b[0mself\u001b[0m\u001b[1;33m.\u001b[0m\u001b[0m_getitem_column\u001b[0m\u001b[1;33m(\u001b[0m\u001b[0mkey\u001b[0m\u001b[1;33m)\u001b[0m\u001b[1;33m\u001b[0m\u001b[0m\n\u001b[0m\u001b[0;32m   2063\u001b[0m \u001b[1;33m\u001b[0m\u001b[0m\n\u001b[0;32m   2064\u001b[0m     \u001b[1;32mdef\u001b[0m \u001b[0m_getitem_column\u001b[0m\u001b[1;33m(\u001b[0m\u001b[0mself\u001b[0m\u001b[1;33m,\u001b[0m \u001b[0mkey\u001b[0m\u001b[1;33m)\u001b[0m\u001b[1;33m:\u001b[0m\u001b[1;33m\u001b[0m\u001b[0m\n",
      "\u001b[1;32mC:\\Users\\HP\\Anaconda3\\lib\\site-packages\\pandas\\core\\frame.py\u001b[0m in \u001b[0;36m_getitem_column\u001b[1;34m(self, key)\u001b[0m\n\u001b[0;32m   2067\u001b[0m         \u001b[1;31m# get column\u001b[0m\u001b[1;33m\u001b[0m\u001b[1;33m\u001b[0m\u001b[0m\n\u001b[0;32m   2068\u001b[0m         \u001b[1;32mif\u001b[0m \u001b[0mself\u001b[0m\u001b[1;33m.\u001b[0m\u001b[0mcolumns\u001b[0m\u001b[1;33m.\u001b[0m\u001b[0mis_unique\u001b[0m\u001b[1;33m:\u001b[0m\u001b[1;33m\u001b[0m\u001b[0m\n\u001b[1;32m-> 2069\u001b[1;33m             \u001b[1;32mreturn\u001b[0m \u001b[0mself\u001b[0m\u001b[1;33m.\u001b[0m\u001b[0m_get_item_cache\u001b[0m\u001b[1;33m(\u001b[0m\u001b[0mkey\u001b[0m\u001b[1;33m)\u001b[0m\u001b[1;33m\u001b[0m\u001b[0m\n\u001b[0m\u001b[0;32m   2070\u001b[0m \u001b[1;33m\u001b[0m\u001b[0m\n\u001b[0;32m   2071\u001b[0m         \u001b[1;31m# duplicate columns & possible reduce dimensionality\u001b[0m\u001b[1;33m\u001b[0m\u001b[1;33m\u001b[0m\u001b[0m\n",
      "\u001b[1;32mC:\\Users\\HP\\Anaconda3\\lib\\site-packages\\pandas\\core\\generic.py\u001b[0m in \u001b[0;36m_get_item_cache\u001b[1;34m(self, item)\u001b[0m\n\u001b[0;32m   1532\u001b[0m         \u001b[0mres\u001b[0m \u001b[1;33m=\u001b[0m \u001b[0mcache\u001b[0m\u001b[1;33m.\u001b[0m\u001b[0mget\u001b[0m\u001b[1;33m(\u001b[0m\u001b[0mitem\u001b[0m\u001b[1;33m)\u001b[0m\u001b[1;33m\u001b[0m\u001b[0m\n\u001b[0;32m   1533\u001b[0m         \u001b[1;32mif\u001b[0m \u001b[0mres\u001b[0m \u001b[1;32mis\u001b[0m \u001b[1;32mNone\u001b[0m\u001b[1;33m:\u001b[0m\u001b[1;33m\u001b[0m\u001b[0m\n\u001b[1;32m-> 1534\u001b[1;33m             \u001b[0mvalues\u001b[0m \u001b[1;33m=\u001b[0m \u001b[0mself\u001b[0m\u001b[1;33m.\u001b[0m\u001b[0m_data\u001b[0m\u001b[1;33m.\u001b[0m\u001b[0mget\u001b[0m\u001b[1;33m(\u001b[0m\u001b[0mitem\u001b[0m\u001b[1;33m)\u001b[0m\u001b[1;33m\u001b[0m\u001b[0m\n\u001b[0m\u001b[0;32m   1535\u001b[0m             \u001b[0mres\u001b[0m \u001b[1;33m=\u001b[0m \u001b[0mself\u001b[0m\u001b[1;33m.\u001b[0m\u001b[0m_box_item_values\u001b[0m\u001b[1;33m(\u001b[0m\u001b[0mitem\u001b[0m\u001b[1;33m,\u001b[0m \u001b[0mvalues\u001b[0m\u001b[1;33m)\u001b[0m\u001b[1;33m\u001b[0m\u001b[0m\n\u001b[0;32m   1536\u001b[0m             \u001b[0mcache\u001b[0m\u001b[1;33m[\u001b[0m\u001b[0mitem\u001b[0m\u001b[1;33m]\u001b[0m \u001b[1;33m=\u001b[0m \u001b[0mres\u001b[0m\u001b[1;33m\u001b[0m\u001b[0m\n",
      "\u001b[1;32mC:\\Users\\HP\\Anaconda3\\lib\\site-packages\\pandas\\core\\internals.py\u001b[0m in \u001b[0;36mget\u001b[1;34m(self, item, fastpath)\u001b[0m\n\u001b[0;32m   3588\u001b[0m \u001b[1;33m\u001b[0m\u001b[0m\n\u001b[0;32m   3589\u001b[0m             \u001b[1;32mif\u001b[0m \u001b[1;32mnot\u001b[0m \u001b[0misnull\u001b[0m\u001b[1;33m(\u001b[0m\u001b[0mitem\u001b[0m\u001b[1;33m)\u001b[0m\u001b[1;33m:\u001b[0m\u001b[1;33m\u001b[0m\u001b[0m\n\u001b[1;32m-> 3590\u001b[1;33m                 \u001b[0mloc\u001b[0m \u001b[1;33m=\u001b[0m \u001b[0mself\u001b[0m\u001b[1;33m.\u001b[0m\u001b[0mitems\u001b[0m\u001b[1;33m.\u001b[0m\u001b[0mget_loc\u001b[0m\u001b[1;33m(\u001b[0m\u001b[0mitem\u001b[0m\u001b[1;33m)\u001b[0m\u001b[1;33m\u001b[0m\u001b[0m\n\u001b[0m\u001b[0;32m   3591\u001b[0m             \u001b[1;32melse\u001b[0m\u001b[1;33m:\u001b[0m\u001b[1;33m\u001b[0m\u001b[0m\n\u001b[0;32m   3592\u001b[0m                 \u001b[0mindexer\u001b[0m \u001b[1;33m=\u001b[0m \u001b[0mnp\u001b[0m\u001b[1;33m.\u001b[0m\u001b[0marange\u001b[0m\u001b[1;33m(\u001b[0m\u001b[0mlen\u001b[0m\u001b[1;33m(\u001b[0m\u001b[0mself\u001b[0m\u001b[1;33m.\u001b[0m\u001b[0mitems\u001b[0m\u001b[1;33m)\u001b[0m\u001b[1;33m)\u001b[0m\u001b[1;33m[\u001b[0m\u001b[0misnull\u001b[0m\u001b[1;33m(\u001b[0m\u001b[0mself\u001b[0m\u001b[1;33m.\u001b[0m\u001b[0mitems\u001b[0m\u001b[1;33m)\u001b[0m\u001b[1;33m]\u001b[0m\u001b[1;33m\u001b[0m\u001b[0m\n",
      "\u001b[1;32mC:\\Users\\HP\\Anaconda3\\lib\\site-packages\\pandas\\core\\indexes\\base.py\u001b[0m in \u001b[0;36mget_loc\u001b[1;34m(self, key, method, tolerance)\u001b[0m\n\u001b[0;32m   2393\u001b[0m                 \u001b[1;32mreturn\u001b[0m \u001b[0mself\u001b[0m\u001b[1;33m.\u001b[0m\u001b[0m_engine\u001b[0m\u001b[1;33m.\u001b[0m\u001b[0mget_loc\u001b[0m\u001b[1;33m(\u001b[0m\u001b[0mkey\u001b[0m\u001b[1;33m)\u001b[0m\u001b[1;33m\u001b[0m\u001b[0m\n\u001b[0;32m   2394\u001b[0m             \u001b[1;32mexcept\u001b[0m \u001b[0mKeyError\u001b[0m\u001b[1;33m:\u001b[0m\u001b[1;33m\u001b[0m\u001b[0m\n\u001b[1;32m-> 2395\u001b[1;33m                 \u001b[1;32mreturn\u001b[0m \u001b[0mself\u001b[0m\u001b[1;33m.\u001b[0m\u001b[0m_engine\u001b[0m\u001b[1;33m.\u001b[0m\u001b[0mget_loc\u001b[0m\u001b[1;33m(\u001b[0m\u001b[0mself\u001b[0m\u001b[1;33m.\u001b[0m\u001b[0m_maybe_cast_indexer\u001b[0m\u001b[1;33m(\u001b[0m\u001b[0mkey\u001b[0m\u001b[1;33m)\u001b[0m\u001b[1;33m)\u001b[0m\u001b[1;33m\u001b[0m\u001b[0m\n\u001b[0m\u001b[0;32m   2396\u001b[0m \u001b[1;33m\u001b[0m\u001b[0m\n\u001b[0;32m   2397\u001b[0m         \u001b[0mindexer\u001b[0m \u001b[1;33m=\u001b[0m \u001b[0mself\u001b[0m\u001b[1;33m.\u001b[0m\u001b[0mget_indexer\u001b[0m\u001b[1;33m(\u001b[0m\u001b[1;33m[\u001b[0m\u001b[0mkey\u001b[0m\u001b[1;33m]\u001b[0m\u001b[1;33m,\u001b[0m \u001b[0mmethod\u001b[0m\u001b[1;33m=\u001b[0m\u001b[0mmethod\u001b[0m\u001b[1;33m,\u001b[0m \u001b[0mtolerance\u001b[0m\u001b[1;33m=\u001b[0m\u001b[0mtolerance\u001b[0m\u001b[1;33m)\u001b[0m\u001b[1;33m\u001b[0m\u001b[0m\n",
      "\u001b[1;32mpandas\\_libs\\index.pyx\u001b[0m in \u001b[0;36mpandas._libs.index.IndexEngine.get_loc (pandas\\_libs\\index.c:5239)\u001b[1;34m()\u001b[0m\n",
      "\u001b[1;32mpandas\\_libs\\index.pyx\u001b[0m in \u001b[0;36mpandas._libs.index.IndexEngine.get_loc (pandas\\_libs\\index.c:5085)\u001b[1;34m()\u001b[0m\n",
      "\u001b[1;32mpandas\\_libs\\hashtable_class_helper.pxi\u001b[0m in \u001b[0;36mpandas._libs.hashtable.PyObjectHashTable.get_item (pandas\\_libs\\hashtable.c:20405)\u001b[1;34m()\u001b[0m\n",
      "\u001b[1;32mpandas\\_libs\\hashtable_class_helper.pxi\u001b[0m in \u001b[0;36mpandas._libs.hashtable.PyObjectHashTable.get_item (pandas\\_libs\\hashtable.c:20359)\u001b[1;34m()\u001b[0m\n",
      "\u001b[1;31mKeyError\u001b[0m: 'PassengerId'"
     ]
    }
   ],
   "source": [
    "a=pd.DataFrame(testing_data['PassengerId'])\n",
    "a['Survived']=result\n",
    "#del a['index']\n",
    "a.to_csv('submission.csv',index=False)\n",
    "#a.reindex('PassengerId')\n",
    "#a"
   ]
  },
  {
   "cell_type": "markdown",
   "metadata": {},
   "source": [
    "## i uploaded the result file from this code  and got 77.2% accuracy "
   ]
  },
  {
   "cell_type": "code",
   "execution_count": null,
   "metadata": {
    "collapsed": true
   },
   "outputs": [],
   "source": []
  },
  {
   "cell_type": "code",
   "execution_count": null,
   "metadata": {
    "collapsed": true
   },
   "outputs": [],
   "source": []
  }
 ],
 "metadata": {
  "kernelspec": {
   "display_name": "Python 3",
   "language": "python",
   "name": "python3"
  },
  "language_info": {
   "codemirror_mode": {
    "name": "ipython",
    "version": 3
   },
   "file_extension": ".py",
   "mimetype": "text/x-python",
   "name": "python",
   "nbconvert_exporter": "python",
   "pygments_lexer": "ipython3",
   "version": "3.6.1"
  }
 },
 "nbformat": 4,
 "nbformat_minor": 2
}
